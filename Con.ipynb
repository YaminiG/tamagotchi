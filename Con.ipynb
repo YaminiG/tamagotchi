{
 "cells": [
  {
   "cell_type": "markdown",
   "metadata": {},
   "source": [
    "# TensorFlow Tutorial #02\n",
    "# Convolutional Neural Network\n",
    "\n",
    "by [Magnus Erik Hvass Pedersen](http://www.hvass-labs.org/)\n",
    "/ [GitHub](https://github.com/Hvass-Labs/TensorFlow-Tutorials) / [Videos on YouTube](https://www.youtube.com/playlist?list=PL9Hr9sNUjfsmEu1ZniY0XpHSzl5uihcXZ)"
   ]
  },
  {
   "cell_type": "markdown",
   "metadata": {},
   "source": [
    "## Introduction\n",
    "\n",
    "The previous tutorial showed that a simple linear model had about 91% classification accuracy for recognizing hand-written digits in the MNIST data-set.\n",
    "\n",
    "In this tutorial we will implement a simple Convolutional Neural Network in TensorFlow which has a classification accuracy of about 99%, or more if you make some of the suggested exercises.\n",
    "\n",
    "Convolutional Networks work by moving small filters across the input image. This means the filters are re-used for recognizing patterns throughout the entire input image. This makes the Convolutional Networks much more powerful than Fully-Connected networks with the same number of variables. This in turn makes the Convolutional Networks faster to train.\n",
    "\n",
    "You should be familiar with basic linear algebra, Python and the Jupyter Notebook editor. Beginners to TensorFlow may also want to study the first tutorial before proceeding to this one."
   ]
  },
  {
   "cell_type": "markdown",
   "metadata": {},
   "source": [
    "## Flowchart"
   ]
  },
  {
   "cell_type": "markdown",
   "metadata": {},
   "source": [
    "The following chart shows roughly how the data flows in the Convolutional Neural Network that is implemented below.\n",
    "\n",
    "![Flowchart](images/02_network_flowchart.png)"
   ]
  },
  {
   "cell_type": "markdown",
   "metadata": {},
   "source": [
    "The input image is processed in the first convolutional layer using the filter-weights. This results in 16 new images, one for each filter in the convolutional layer. The images are also down-sampled so the image resolution is decreased from 28x28 to 14x14.\n",
    "\n",
    "These 16 smaller images are then processed in the second convolutional layer. We need filter-weights for each of these 16 channels, and we need filter-weights for each output channel of this layer. There are 36 output channels so there are a total of 16 x 36 = 576 filters in the second convolutional layer. The resulting images are down-sampled again to 7x7 pixels.\n",
    "\n",
    "The output of the second convolutional layer is 36 images of 7x7 pixels each. These are then flattened to a single vector of length 7 x 7 x 36 = 1764, which is used as the input to a fully-connected layer with 128 neurons (or elements). This feeds into another fully-connected layer with 10 neurons, one for each of the classes, which is used to determine the class of the image, that is, which number is depicted in the image.\n",
    "\n",
    "The convolutional filters are initially chosen at random, so the classification is done randomly. The error between the predicted and true class of the input image is measured as the so-called cross-entropy. The optimizer then automatically propagates this error back through the Convolutional Network using the chain-rule of differentiation and updates the filter-weights so as to improve the classification error. This is done iteratively thousands of times until the classification error is sufficiently low.\n",
    "\n",
    "These particular filter-weights and intermediate images are the results of one optimization run and may look different if you re-run this Notebook.\n",
    "\n",
    "Note that the computation in TensorFlow is actually done on a batch of images instead of a single image, which makes the computation more efficient. This means the flowchart actually has one more data-dimension when implemented in TensorFlow."
   ]
  },
  {
   "cell_type": "markdown",
   "metadata": {},
   "source": [
    "## Convolutional Layer"
   ]
  },
  {
   "cell_type": "markdown",
   "metadata": {},
   "source": [
    "The following chart shows the basic idea of processing an image in the first convolutional layer. The input image depicts the number 7 and four copies of the image are shown here, so we can see more clearly how the filter is being moved to different positions of the image. For each position of the filter, the dot-product is being calculated between the filter and the image pixels under the filter, which results in a single pixel in the output image. So moving the filter across the entire input image results in a new image being generated.\n",
    "\n",
    "The red filter-weights means that the filter has a positive reaction to black pixels in the input image, while blue pixels means the filter has a negative reaction to black pixels.\n",
    "\n",
    "In this case it appears that the filter recognizes the horizontal line of the 7-digit, as can be seen from its stronger reaction to that line in the output image.\n",
    "\n",
    "![Convolution example](images/02_convolution.png)"
   ]
  },
  {
   "cell_type": "markdown",
   "metadata": {},
   "source": [
    "The step-size for moving the filter across the input is called the stride. There is a stride for moving the filter horizontally (x-axis) and another stride for moving vertically (y-axis).\n",
    "\n",
    "In the source-code below, the stride is set to 1 in both directions, which means the filter starts in the upper left corner of the input image and is being moved 1 pixel to the right in each step. When the filter reaches the end of the image to the right, then the filter is moved back to the left side and 1 pixel down the image. This continues until the filter has reached the lower right corner of the input image and the entire output image has been generated.\n",
    "\n",
    "When the filter reaches the end of the right-side as well as the bottom of the input image, then it can be padded with zeroes (white pixels). This causes the output image to be of the exact same dimension as the input image.\n",
    "\n",
    "Furthermore, the output of the convolution may be passed through a so-called Rectified Linear Unit (ReLU), which merely ensures that the output is positive because negative values are set to zero. The output may also be down-sampled by so-called max-pooling, which considers small windows of 2x2 pixels and only keeps the largest of those pixels. This halves the resolution of the input image e.g. from 28x28 to 14x14 pixels.\n",
    "\n",
    "Note that the second convolutional layer is more complicated because it takes 16 input channels. We want a separate filter for each input channel, so we need 16 filters instead of just one. Furthermore, we want 36 output channels from the second convolutional layer, so in total we need 16 x 36 = 576 filters for the second convolutional layer. It can be a bit challenging to understand how this works."
   ]
  },
  {
   "cell_type": "markdown",
   "metadata": {},
   "source": [
    "## Imports"
   ]
  },
  {
   "cell_type": "code",
   "execution_count": 1,
   "metadata": {},
   "outputs": [],
   "source": [
    "%matplotlib inline\n",
    "import matplotlib.pyplot as plt\n",
    "import tensorflow as tf\n",
    "import numpy as np\n",
    "from sklearn.metrics import confusion_matrix\n",
    "import time\n",
    "from datetime import timedelta\n",
    "import datetime\n",
    "import math\n",
    "import os\n",
    "from scipy import ndimage\n",
    "#import test4 as tst"
   ]
  },
  {
   "cell_type": "markdown",
   "metadata": {},
   "source": [
    "This was developed using Python 3.6.1 (Anaconda) and TensorFlow version:"
   ]
  },
  {
   "cell_type": "code",
   "execution_count": 2,
   "metadata": {},
   "outputs": [
    {
     "data": {
      "text/plain": [
       "<module 'numpy' from '/Users/yaminigaur/anaconda3/lib/python3.7/site-packages/numpy/__init__.py'>"
      ]
     },
     "execution_count": 2,
     "metadata": {},
     "output_type": "execute_result"
    }
   ],
   "source": [
    "np"
   ]
  },
  {
   "cell_type": "code",
   "execution_count": 3,
   "metadata": {},
   "outputs": [
    {
     "data": {
      "text/plain": [
       "'0.12.0'"
      ]
     },
     "execution_count": 3,
     "metadata": {},
     "output_type": "execute_result"
    }
   ],
   "source": [
    "tf.__version__"
   ]
  },
  {
   "cell_type": "markdown",
   "metadata": {},
   "source": [
    "## Configuration of Neural Network\n",
    "\n",
    "The configuration of the Convolutional Neural Network is defined here for convenience, so you can easily find and change these numbers and re-run the Notebook."
   ]
  },
  {
   "cell_type": "code",
   "execution_count": 4,
   "metadata": {},
   "outputs": [],
   "source": [
    "# Convolutional Layer 1.\n",
    "filter_size1 = 5          # Convolution filters are 5 x 5 pixels.\n",
    "num_filters1 = 16         # There are 16 of these filters.\n",
    "\n",
    "# Convolutional Layer 2.\n",
    "filter_size2 = 5          # Convolution filters are 5 x 5 pixels.\n",
    "num_filters2 = 36         # There are 36 of these filters.\n",
    "\n",
    "# Fully-connected layer.\n",
    "fc_size = 128             # Number of neurons in fully-connected layer."
   ]
  },
  {
   "cell_type": "markdown",
   "metadata": {},
   "source": [
    "## Load Data"
   ]
  },
  {
   "cell_type": "markdown",
   "metadata": {},
   "source": [
    "The MNIST data-set is about 12 MB and will be downloaded automatically if it is not located in the given path."
   ]
  },
  {
   "cell_type": "code",
   "execution_count": 5,
   "metadata": {},
   "outputs": [
    {
     "name": "stdout",
     "output_type": "stream",
     "text": [
      "Extracting data/MNIST/train-images-idx3-ubyte.gz\n",
      "Extracting data/MNIST/train-labels-idx1-ubyte.gz\n",
      "Extracting data/MNIST/t10k-images-idx3-ubyte.gz\n",
      "Extracting data/MNIST/t10k-labels-idx1-ubyte.gz\n",
      "478305\n"
     ]
    }
   ],
   "source": [
    "a = datetime.datetime.now()\n",
    "from tensorflow.examples.tutorials.mnist import input_data\n",
    "data = input_data.read_data_sets('data/MNIST/', one_hot=True)\n",
    "b = datetime.datetime.now()\n",
    "c = b-a\n",
    "print(c.microseconds)"
   ]
  },
  {
   "cell_type": "markdown",
   "metadata": {},
   "source": [
    "The MNIST data-set has now been loaded and consists of 70,000 images and associated labels (i.e. classifications of the images). The data-set is split into 3 mutually exclusive sub-sets. We will only use the training and test-sets in this tutorial."
   ]
  },
  {
   "cell_type": "code",
   "execution_count": 6,
   "metadata": {
    "scrolled": true
   },
   "outputs": [
    {
     "name": "stdout",
     "output_type": "stream",
     "text": [
      "Size of:\n",
      "- Training-set:\t\t55000\n",
      "- Test-set:\t\t10000\n",
      "- Validation-set:\t5000\n"
     ]
    }
   ],
   "source": [
    "print(\"Size of:\")\n",
    "print(\"- Training-set:\\t\\t{}\".format(len(data.train.labels)))\n",
    "print(\"- Test-set:\\t\\t{}\".format(len(data.test.labels)))\n",
    "print(\"- Validation-set:\\t{}\".format(len(data.validation.labels)))"
   ]
  },
  {
   "cell_type": "markdown",
   "metadata": {},
   "source": [
    "The class-labels are One-Hot encoded, which means that each label is a vector with 10 elements, all of which are zero except for one element. The index of this one element is the class-number, that is, the digit shown in the associated image. We also need the class-numbers as integers for the test-set, so we calculate it now."
   ]
  },
  {
   "cell_type": "code",
   "execution_count": 7,
   "metadata": {},
   "outputs": [],
   "source": [
    "data.test.cls = np.argmax(data.test.labels, axis=1)"
   ]
  },
  {
   "cell_type": "markdown",
   "metadata": {},
   "source": [
    "## Data Dimensions"
   ]
  },
  {
   "cell_type": "markdown",
   "metadata": {},
   "source": [
    "The data dimensions are used in several places in the source-code below. They are defined once so we can use these variables instead of numbers throughout the source-code below."
   ]
  },
  {
   "cell_type": "code",
   "execution_count": 8,
   "metadata": {},
   "outputs": [],
   "source": [
    "# We know that MNIST images are 28 pixels in each dimension.\n",
    "img_size = 28\n",
    "\n",
    "# Images are stored in one-dimensional arrays of this length.\n",
    "img_size_flat = img_size * img_size\n",
    "\n",
    "# Tuple with height and width of images used to reshape arrays.\n",
    "img_shape = (img_size, img_size)\n",
    "\n",
    "# Number of colour channels for the images: 1 channel for gray-scale.\n",
    "num_channels = 1\n",
    "\n",
    "# Number of classes, one class for each of 10 digits.\n",
    "num_classes = 10"
   ]
  },
  {
   "cell_type": "markdown",
   "metadata": {},
   "source": [
    "### Helper-function for plotting images"
   ]
  },
  {
   "cell_type": "markdown",
   "metadata": {},
   "source": [
    "Function used to plot 9 images in a 3x3 grid, and writing the true and predicted classes below each image."
   ]
  },
  {
   "cell_type": "code",
   "execution_count": 9,
   "metadata": {},
   "outputs": [],
   "source": [
    "def plot_images(images, cls_true, cls_pred=None):\n",
    "    assert len(images) == len(cls_true) == 9\n",
    "    \n",
    "    # Create figure with 3x3 sub-plots.\n",
    "    fig, axes = plt.subplots(3, 3)\n",
    "    fig.subplots_adjust(hspace=0.3, wspace=0.3)\n",
    "\n",
    "    for i, ax in enumerate(axes.flat):\n",
    "        # Plot image.\n",
    "        ax.imshow(images[i].reshape(img_shape), cmap='binary')\n",
    "\n",
    "        # Show true and predicted classes.\n",
    "        if cls_pred is None:\n",
    "            xlabel = \"True: {0}\".format(cls_true[i])\n",
    "        else:\n",
    "            xlabel = \"True: {0}, Pred: {1}\".format(cls_true[i], cls_pred[i])\n",
    "\n",
    "        # Show the classes as the label on the x-axis.\n",
    "        ax.set_xlabel(xlabel)\n",
    "        \n",
    "        # Remove ticks from the plot.\n",
    "        ax.set_xticks([])\n",
    "        ax.set_yticks([])\n",
    "    \n",
    "    # Ensure the plot is shown correctly with multiple plots\n",
    "    # in a single Notebook cell.\n",
    "    plt.show()"
   ]
  },
  {
   "cell_type": "markdown",
   "metadata": {},
   "source": [
    "### Plot a few images to see if data is correct"
   ]
  },
  {
   "cell_type": "code",
   "execution_count": 10,
   "metadata": {},
   "outputs": [
    {
     "data": {
      "image/png": "[encoded data removed]",
      "text/plain": [
       "<Figure size 432x288 with 9 Axes>"
      ]
     },
     "metadata": {},
     "output_type": "display_data"
    }
   ],
   "source": [
    "# Get the first images from the test-set.\n",
    "images = data.test.images[0:9]\n",
    "\n",
    "# Get the true classes for those images.\n",
    "cls_true = data.test.cls[0:9]\n",
    "\n",
    "# Plot the images and labels using our helper-function above.\n",
    "plot_images(images=images, cls_true=cls_true)"
   ]
  },
  {
   "cell_type": "code",
   "execution_count": 11,
   "metadata": {},
   "outputs": [
    {
     "name": "stdout",
     "output_type": "stream",
     "text": [
      "[0.         0.         0.         0.         0.         0.\n",
      " 0.         0.         0.         0.         0.         0.\n",
      " 0.         0.         0.         0.         0.         0.\n",
      " 0.         0.         0.         0.         0.         0.\n",
      " 0.         0.         0.         0.         0.         0.\n",
      " 0.         0.         0.         0.         0.         0.\n",
      " 0.         0.         0.         0.         0.         0.\n",
      " 0.         0.         0.         0.         0.         0.\n",
      " 0.         0.         0.         0.         0.         0.\n",
      " 0.         0.         0.         0.         0.         0.\n",
      " 0.         0.         0.         0.         0.         0.\n",
      " 0.         0.         0.         0.         0.         0.\n",
      " 0.         0.         0.         0.         0.         0.\n",
      " 0.         0.         0.         0.         0.         0.\n",
      " 0.         0.         0.         0.         0.         0.\n",
      " 0.         0.         0.         0.         0.         0.\n",
      " 0.         0.         0.         0.         0.         0.\n",
      " 0.         0.         0.         0.         0.         0.\n",
      " 0.         0.         0.         0.         0.         0.\n",
      " 0.         0.         0.         0.         0.         0.\n",
      " 0.         0.         0.         0.         0.         0.\n",
      " 0.         0.         0.         0.06666667 0.18431373 0.18431373\n",
      " 0.18431373 0.0627451  0.5058824  0.33333334 0.18431373 0.\n",
      " 0.         0.         0.         0.         0.         0.\n",
      " 0.         0.         0.         0.         0.         0.\n",
      " 0.         0.         0.         0.         0.         0.29411766\n",
      " 0.6        0.85098046 0.9921569  0.9921569  0.9921569  0.8431373\n",
      " 0.96470594 0.9921569  0.9921569  0.         0.         0.\n",
      " 0.         0.         0.         0.         0.         0.\n",
      " 0.         0.         0.         0.         0.         0.\n",
      " 0.13725491 0.5568628  0.9568628  0.98823535 0.9921569  0.9921569\n",
      " 0.9921569  0.9921569  0.9921569  0.9921569  0.9921569  0.9921569\n",
      " 0.9921569  0.         0.         0.         0.         0.\n",
      " 0.         0.         0.         0.         0.         0.\n",
      " 0.         0.         0.         0.         0.24705884 0.9921569\n",
      " 0.9921569  0.9921569  0.9921569  0.9921569  0.9921569  0.9921569\n",
      " 0.8352942  0.6666667  0.6666667  0.6666667  0.6666667  0.\n",
      " 0.         0.         0.         0.         0.         0.\n",
      " 0.         0.         0.         0.         0.07843138 0.5176471\n",
      " 0.28235295 0.         0.22352943 0.9333334  0.89019614 0.9333334\n",
      " 0.65882355 0.48627454 0.27058825 0.07843138 0.04313726 0.\n",
      " 0.         0.         0.         0.         0.         0.\n",
      " 0.         0.         0.         0.         0.         0.\n",
      " 0.         0.04313726 0.8078432  0.9921569  0.30588236 0.\n",
      " 0.         0.1254902  0.         0.11764707 0.00784314 0.\n",
      " 0.         0.         0.         0.         0.         0.\n",
      " 0.         0.         0.         0.         0.         0.\n",
      " 0.         0.         0.         0.         0.02352941 0.69411767\n",
      " 0.9921569  0.5176471  0.03921569 0.         0.         0.\n",
      " 0.         0.         0.         0.         0.         0.\n",
      " 0.         0.         0.         0.         0.         0.\n",
      " 0.         0.         0.         0.         0.         0.\n",
      " 0.         0.04705883 0.52156866 0.9921569  0.91372555 0.05882353\n",
      " 0.         0.         0.         0.         0.         0.\n",
      " 0.         0.         0.         0.         0.         0.\n",
      " 0.         0.         0.         0.         0.         0.\n",
      " 0.         0.         0.         0.         0.         0.36078432\n",
      " 0.9921569  0.8745099  0.10980393 0.         0.         0.\n",
      " 0.         0.         0.         0.         0.         0.\n",
      " 0.         0.         0.         0.         0.         0.\n",
      " 0.         0.         0.         0.         0.         0.\n",
      " 0.         0.         0.         0.5882353  0.9921569  0.68235296\n",
      " 0.         0.         0.         0.         0.         0.\n",
      " 0.         0.         0.         0.         0.         0.\n",
      " 0.         0.         0.         0.         0.         0.\n",
      " 0.         0.         0.         0.         0.         0.\n",
      " 0.         0.9176471  0.9921569  0.96470594 0.49803925 0.19215688\n",
      " 0.         0.         0.         0.         0.         0.\n",
      " 0.         0.         0.         0.         0.         0.\n",
      " 0.         0.         0.         0.         0.         0.\n",
      " 0.         0.         0.         0.         0.         1.\n",
      " 0.9921569  0.9921569  0.9921569  0.9843138  0.5764706  0.35686275\n",
      " 0.47450984 0.33333334 0.16470589 0.16470589 0.33333334 0.10980393\n",
      " 0.         0.         0.         0.         0.         0.\n",
      " 0.         0.         0.         0.         0.         0.\n",
      " 0.         0.         0.         0.54509807 0.9921569  0.9921569\n",
      " 0.9921569  0.9921569  0.9921569  0.9921569  0.9921569  0.9921569\n",
      " 0.9921569  0.9921569  0.9921569  0.909804   0.65882355 0.\n",
      " 0.         0.         0.         0.         0.         0.\n",
      " 0.         0.         0.         0.         0.         0.\n",
      " 0.         0.01176471 0.20784315 0.854902   0.8705883  0.9843138\n",
      " 0.9921569  0.9921569  0.9921569  0.9921569  0.9921569  0.9921569\n",
      " 0.9921569  0.9921569  0.98823535 0.48627454 0.         0.\n",
      " 0.         0.         0.         0.         0.         0.\n",
      " 0.         0.         0.         0.         0.         0.\n",
      " 0.         0.         0.         0.2627451  0.28235295 0.7843138\n",
      " 0.9921569  0.9921569  0.9921569  0.9921569  0.9921569  0.9921569\n",
      " 0.9921569  0.6862745  0.         0.         0.         0.\n",
      " 0.         0.         0.         0.         0.         0.\n",
      " 0.         0.         0.         0.         0.         0.\n",
      " 0.         0.         0.         0.47058827 0.9921569  0.97647065\n",
      " 0.59607846 0.20000002 0.6431373  0.9921569  0.9921569  0.6862745\n",
      " 0.         0.         0.         0.         0.         0.\n",
      " 0.         0.         0.         0.         0.         0.\n",
      " 0.         0.         0.         0.         0.         0.\n",
      " 0.         0.19607845 0.9921569  0.9921569  0.9921569  0.7372549\n",
      " 0.98823535 0.9921569  0.9921569  0.5803922  0.         0.\n",
      " 0.         0.         0.         0.         0.         0.\n",
      " 0.         0.         0.         0.         0.         0.\n",
      " 0.         0.         0.         0.         0.         0.03529412\n",
      " 0.654902   0.9921569  0.9921569  0.9921569  0.9921569  0.9803922\n",
      " 0.6862745  0.04313726 0.         0.         0.         0.\n",
      " 0.         0.         0.         0.         0.         0.\n",
      " 0.         0.         0.         0.         0.         0.\n",
      " 0.         0.         0.         0.         0.09019608 0.7058824\n",
      " 0.9058824  0.9921569  0.86666673 0.5019608  0.         0.\n",
      " 0.         0.         0.         0.         0.         0.\n",
      " 0.         0.         0.         0.         0.         0.\n",
      " 0.         0.         0.         0.         0.         0.\n",
      " 0.         0.         0.         0.         0.3647059  0.58431375\n",
      " 0.08627451 0.         0.         0.         0.         0.\n",
      " 0.         0.         0.         0.         0.         0.\n",
      " 0.         0.         0.         0.         0.         0.\n",
      " 0.         0.         0.         0.         0.         0.\n",
      " 0.         0.         0.         0.         0.         0.\n",
      " 0.         0.         0.         0.         0.         0.\n",
      " 0.         0.         0.         0.         0.         0.\n",
      " 0.         0.         0.         0.         0.         0.\n",
      " 0.         0.         0.         0.         0.         0.\n",
      " 0.         0.         0.         0.         0.         0.\n",
      " 0.         0.         0.         0.         0.         0.\n",
      " 0.         0.         0.         0.         0.         0.\n",
      " 0.         0.         0.         0.         0.         0.\n",
      " 0.         0.         0.         0.         0.         0.\n",
      " 0.         0.         0.         0.         0.         0.\n",
      " 0.         0.         0.         0.         0.         0.\n",
      " 0.         0.         0.         0.         0.         0.\n",
      " 0.         0.         0.         0.         0.         0.\n",
      " 0.         0.         0.         0.         0.         0.\n",
      " 0.         0.         0.         0.         0.         0.\n",
      " 0.         0.         0.         0.        ]\n"
     ]
    }
   ],
   "source": [
    "print(images[8])"
   ]
  },
  {
   "cell_type": "markdown",
   "metadata": {},
   "source": [
    "## TensorFlow Graph\n",
    "\n",
    "The entire purpose of TensorFlow is to have a so-called computational graph that can be executed much more efficiently than if the same calculations were to be performed directly in Python. TensorFlow can be more efficient than NumPy because TensorFlow knows the entire computation graph that must be executed, while NumPy only knows the computation of a single mathematical operation at a time.\n",
    "\n",
    "TensorFlow can also automatically calculate the gradients that are needed to optimize the variables of the graph so as to make the model perform better. This is because the graph is a combination of simple mathematical expressions so the gradient of the entire graph can be calculated using the chain-rule for derivatives.\n",
    "\n",
    "TensorFlow can also take advantage of multi-core CPUs as well as GPUs - and Google has even built special chips just for TensorFlow which are called TPUs (Tensor Processing Units) and are even faster than GPUs.\n",
    "\n",
    "A TensorFlow graph consists of the following parts which will be detailed below:\n",
    "\n",
    "* Placeholder variables used for inputting data to the graph.\n",
    "* Variables that are going to be optimized so as to make the convolutional network perform better.\n",
    "* The mathematical formulas for the convolutional network.\n",
    "* A cost measure that can be used to guide the optimization of the variables.\n",
    "* An optimization method which updates the variables.\n",
    "\n",
    "In addition, the TensorFlow graph may also contain various debugging statements e.g. for logging data to be displayed using TensorBoard, which is not covered in this tutorial."
   ]
  },
  {
   "cell_type": "markdown",
   "metadata": {},
   "source": [
    "### Helper-functions for creating new variables"
   ]
  },
  {
   "cell_type": "markdown",
   "metadata": {},
   "source": [
    "Functions for creating new TensorFlow variables in the given shape and initializing them with random values. Note that the initialization is not actually done at this point, it is merely being defined in the TensorFlow graph."
   ]
  },
  {
   "cell_type": "code",
   "execution_count": 12,
   "metadata": {},
   "outputs": [],
   "source": [
    "def new_weights(shape):\n",
    "    return tf.Variable(tf.truncated_normal(shape, stddev=0.05))\n",
    "    "
   ]
  },
  {
   "cell_type": "code",
   "execution_count": 13,
   "metadata": {},
   "outputs": [],
   "source": [
    "def new_biases(length):\n",
    "    return tf.Variable(tf.constant(0.05, shape=[length]))"
   ]
  },
  {
   "cell_type": "markdown",
   "metadata": {},
   "source": [
    "### Helper-function for creating a new Convolutional Layer"
   ]
  },
  {
   "cell_type": "markdown",
   "metadata": {},
   "source": [
    "This function creates a new convolutional layer in the computational graph for TensorFlow. Nothing is actually calculated here, we are just adding the mathematical formulas to the TensorFlow graph.\n",
    "\n",
    "It is assumed that the input is a 4-dim tensor with the following dimensions:\n",
    "\n",
    "1. Image number.\n",
    "2. Y-axis of each image.\n",
    "3. X-axis of each image.\n",
    "4. Channels of each image.\n",
    "\n",
    "Note that the input channels may either be colour-channels, or it may be filter-channels if the input is produced from a previous convolutional layer.\n",
    "\n",
    "The output is another 4-dim tensor with the following dimensions:\n",
    "\n",
    "1. Image number, same as input.\n",
    "2. Y-axis of each image. If 2x2 pooling is used, then the height and width of the input images is divided by 2.\n",
    "3. X-axis of each image. Ditto.\n",
    "4. Channels produced by the convolutional filters."
   ]
  },
  {
   "cell_type": "code",
   "execution_count": 14,
   "metadata": {},
   "outputs": [],
   "source": [
    "def new_conv_layer(input,              # The previous layer.\n",
    "                   num_input_channels, # Num. channels in prev. layer.\n",
    "                   filter_size,        # Width and height of each filter.\n",
    "                   num_filters,):  # Use 2x2 max-pooling.\n",
    "\n",
    "    # Shape of the filter-weights for the convolution.\n",
    "    # This format is determined by the TensorFlow API.\n",
    "    shape = [filter_size, filter_size, num_input_channels, num_filters]\n",
    "\n",
    "    # Create new weights aka. filters with the given shape.\n",
    "    weights = new_weights(shape=shape)\n",
    "\n",
    "    # Create new biases, one for each filter.\n",
    "    biases = new_biases(length=num_filters)\n",
    "\n",
    "    # Create the TensorFlow operation for convolution.\n",
    "    # Note the strides are set to 1 in all dimensions.\n",
    "    # The first and last stride must always be 1,\n",
    "    # because the first is for the image-number and\n",
    "    # the last is for the input-channel.\n",
    "    # But e.g. strides=[1, 2, 2, 1] would mean that the filter\n",
    "    # is moved 2 pixels across the x- and y-axis of the image.\n",
    "    # The padding is set to 'SAME' which means the input image\n",
    "    # is padded with zeroes so the size of the output is the same.\n",
    "    layer = tf.nn.conv2d(input=input,\n",
    "                         filter=weights,\n",
    "                         strides=[1, 1, 1, 1],\n",
    "                         padding='SAME')\n",
    "    #layerConvOut = layer\n",
    "\n",
    "    # Add the biases to the results of the convolution.\n",
    "    # A bias-value is added to each filter-channel.\n",
    "    #layer += biases\n",
    "\n",
    "    return layer, weights, biases"
   ]
  },
  {
   "cell_type": "code",
   "execution_count": 15,
   "metadata": {},
   "outputs": [],
   "source": [
    "def pooling_relu(input,              # The previous layer.\n",
    "                  use_pooling=True):  # Use 2x2 max-pooling.\n",
    "\n",
    "\n",
    "    # Use pooling to down-sample the image resolution?\n",
    "    if use_pooling:\n",
    "        # This is 2x2 max-pooling, which means that we\n",
    "        # consider 2x2 windows and select the largest value\n",
    "        # in each window. Then we move 2 pixels to the next window.\n",
    "        layer = tf.nn.max_pool(value=input,\n",
    "                               ksize=[1, 2, 2, 1],\n",
    "                               strides=[1, 2, 2, 1],\n",
    "                               padding='SAME')\n",
    "\n",
    "    # Rectified Linear Unit (ReLU).\n",
    "    # It calculates max(x, 0) for each input pixel x.\n",
    "    # This adds some non-linearity to the formula and allows us\n",
    "    # to learn more complicated functions.\n",
    "    layer = tf.nn.relu(layer)\n",
    "\n",
    "    # Note that ReLU is normally executed before the pooling,\n",
    "    # but since relu(max_pool(x)) == max_pool(relu(x)) we can\n",
    "    # save 75% of the relu-operations by max-pooling first.\n",
    "\n",
    "    # We return both the resulting layer and the filter-weights\n",
    "    # because we will plot the weights later.\n",
    "    return layer"
   ]
  },
  {
   "cell_type": "markdown",
   "metadata": {},
   "source": [
    "### Helper-function for flattening a layer\n",
    "\n",
    "A convolutional layer produces an output tensor with 4 dimensions. We will add fully-connected layers after the convolution layers, so we need to reduce the 4-dim tensor to 2-dim which can be used as input to the fully-connected layer."
   ]
  },
  {
   "cell_type": "code",
   "execution_count": 16,
   "metadata": {},
   "outputs": [],
   "source": [
    "def flatten_layer(layer):\n",
    "    # Get the shape of the input layer.\n",
    "    layer_shape = layer.get_shape()\n",
    "\n",
    "    # The shape of the input layer is assumed to be:\n",
    "    # layer_shape == [num_images, img_height, img_width, num_channels]\n",
    "\n",
    "    # The number of features is: img_height * img_width * num_channels\n",
    "    # We can use a function from TensorFlow to calculate this.\n",
    "    num_features = layer_shape[1:4].num_elements()\n",
    "    \n",
    "    # Reshape the layer to [num_images, num_features].\n",
    "    # Note that we just set the size of the second dimension\n",
    "    # to num_features and the size of the first dimension to -1\n",
    "    # which means the size in that dimension is calculated\n",
    "    # so the total size of the tensor is unchanged from the reshaping.\n",
    "    layer_flat = tf.reshape(layer, [-1, num_features])\n",
    "\n",
    "    # The shape of the flattened layer is now:\n",
    "    # [num_images, img_height * img_width * num_channels]\n",
    "\n",
    "    # Return both the flattened layer and the number of features.\n",
    "    return layer_flat, num_features"
   ]
  },
  {
   "cell_type": "markdown",
   "metadata": {},
   "source": [
    "### Helper-function for creating a new Fully-Connected Layer"
   ]
  },
  {
   "cell_type": "markdown",
   "metadata": {},
   "source": [
    "This function creates a new fully-connected layer in the computational graph for TensorFlow. Nothing is actually calculated here, we are just adding the mathematical formulas to the TensorFlow graph.\n",
    "\n",
    "It is assumed that the input is a 2-dim tensor of shape `[num_images, num_inputs]`. The output is a 2-dim tensor of shape `[num_images, num_outputs]`."
   ]
  },
  {
   "cell_type": "code",
   "execution_count": 17,
   "metadata": {},
   "outputs": [],
   "source": [
    "def new_fc_layer(input,          # The previous layer.\n",
    "                 num_inputs,     # Num. inputs from prev. layer.\n",
    "                 num_outputs,    # Num. outputs.\n",
    "                 use_relu=True): # Use Rectified Linear Unit (ReLU)?\n",
    "\n",
    "    # Create new weights and biases.\n",
    "    weights = new_weights(shape=[num_inputs, num_outputs])\n",
    "    biases = new_biases(length=num_outputs)\n",
    "\n",
    "    # Calculate the layer as the matrix multiplication of\n",
    "    # the input and weights, and then add the bias-values.\n",
    "    layer = tf.matmul(input, weights) + biases\n",
    "\n",
    "    # Use ReLU?\n",
    "    if use_relu:\n",
    "        layer = tf.nn.relu(layer)\n",
    "\n",
    "    return layer,weights"
   ]
  },
  {
   "cell_type": "markdown",
   "metadata": {},
   "source": [
    "### Placeholder variables"
   ]
  },
  {
   "cell_type": "markdown",
   "metadata": {},
   "source": [
    "Placeholder variables serve as the input to the TensorFlow computational graph that we may change each time we execute the graph. We call this feeding the placeholder variables and it is demonstrated further below.\n",
    "\n",
    "First we define the placeholder variable for the input images. This allows us to change the images that are input to the TensorFlow graph. This is a so-called tensor, which just means that it is a multi-dimensional vector or matrix. The data-type is set to `float32` and the shape is set to `[None, img_size_flat]`, where `None` means that the tensor may hold an arbitrary number of images with each image being a vector of length `img_size_flat`."
   ]
  },
  {
   "cell_type": "code",
   "execution_count": 18,
   "metadata": {},
   "outputs": [],
   "source": [
    "x = tf.placeholder(tf.float32, shape=[None, img_size_flat], name='x')"
   ]
  },
  {
   "cell_type": "markdown",
   "metadata": {},
   "source": [
    "The convolutional layers expect `x` to be encoded as a 4-dim tensor so we have to reshape it so its shape is instead `[num_images, img_height, img_width, num_channels]`. Note that `img_height == img_width == img_size` and `num_images` can be inferred automatically by using -1 for the size of the first dimension. So the reshape operation is:"
   ]
  },
  {
   "cell_type": "code",
   "execution_count": 19,
   "metadata": {},
   "outputs": [],
   "source": [
    "x_image = tf.reshape(x, [-1, img_size, img_size, num_channels])"
   ]
  },
  {
   "cell_type": "markdown",
   "metadata": {},
   "source": [
    "Next we have the placeholder variable for the true labels associated with the images that were input in the placeholder variable `x`. The shape of this placeholder variable is `[None, num_classes]` which means it may hold an arbitrary number of labels and each label is a vector of length `num_classes` which is 10 in this case."
   ]
  },
  {
   "cell_type": "code",
   "execution_count": 20,
   "metadata": {},
   "outputs": [],
   "source": [
    "y_true = tf.placeholder(tf.float32, shape=[None, num_classes], name='y_true')"
   ]
  },
  {
   "cell_type": "markdown",
   "metadata": {},
   "source": [
    "We could also have a placeholder variable for the class-number, but we will instead calculate it using argmax. Note that this is a TensorFlow operator so nothing is calculated at this point."
   ]
  },
  {
   "cell_type": "code",
   "execution_count": 21,
   "metadata": {},
   "outputs": [],
   "source": [
    "y_true_cls = tf.argmax(y_true, axis=1)"
   ]
  },
  {
   "cell_type": "markdown",
   "metadata": {},
   "source": [
    "### Convolutional Layer 1\n",
    "\n",
    "Create the first convolutional layer. It takes `x_image` as input and creates `num_filters1` different filters, each having width and height equal to `filter_size1`. Finally we wish to down-sample the image so it is half the size by using 2x2 max-pooling."
   ]
  },
  {
   "cell_type": "code",
   "execution_count": 22,
   "metadata": {},
   "outputs": [],
   "source": [
    "layer_conv1, weights_conv1,biases_conv1 = \\\n",
    "    new_conv_layer(input=x_image,\n",
    "                   num_input_channels=num_channels,\n",
    "                   filter_size=filter_size1,\n",
    "                   num_filters=num_filters1)"
   ]
  },
  {
   "cell_type": "markdown",
   "metadata": {},
   "source": [
    "### Add Biases"
   ]
  },
  {
   "cell_type": "code",
   "execution_count": 23,
   "metadata": {},
   "outputs": [],
   "source": [
    "layer_conv1_biases = layer_conv1 + biases_conv1"
   ]
  },
  {
   "cell_type": "markdown",
   "metadata": {},
   "source": [
    "### Pooling Relu Convolution Layer 1"
   ]
  },
  {
   "cell_type": "code",
   "execution_count": 24,
   "metadata": {},
   "outputs": [],
   "source": [
    "layer_conv1_pool_relu = pooling_relu(input = layer_conv1_biases,use_pooling=True)"
   ]
  },
  {
   "cell_type": "markdown",
   "metadata": {},
   "source": [
    "Check the shape of the tensor that will be output by the convolutional layer. It is (?, 14, 14, 16) which means that there is an arbitrary number of images (this is the ?), each image is 14 pixels wide and 14 pixels high, and there are 16 different channels, one channel for each of the filters."
   ]
  },
  {
   "cell_type": "code",
   "execution_count": 25,
   "metadata": {},
   "outputs": [
    {
     "data": {
      "text/plain": [
       "<tf.Tensor 'Reshape:0' shape=(?, 28, 28, 1) dtype=float32>"
      ]
     },
     "execution_count": 25,
     "metadata": {},
     "output_type": "execute_result"
    }
   ],
   "source": [
    "x_image"
   ]
  },
  {
   "cell_type": "markdown",
   "metadata": {},
   "source": [
    "### Convolutional Layer 2\n",
    "\n",
    "Create the second convolutional layer, which takes as input the output from the first convolutional layer. The number of input channels corresponds to the number of filters in the first convolutional layer."
   ]
  },
  {
   "cell_type": "code",
   "execution_count": 26,
   "metadata": {},
   "outputs": [],
   "source": [
    "layer_conv2, weights_conv2,biases_conv2 = \\\n",
    "    new_conv_layer(input=layer_conv1_pool_relu,\n",
    "                   num_input_channels=num_filters1,\n",
    "                   filter_size=filter_size2,\n",
    "                   num_filters=num_filters2)"
   ]
  },
  {
   "cell_type": "markdown",
   "metadata": {},
   "source": [
    "### Adding Biases"
   ]
  },
  {
   "cell_type": "code",
   "execution_count": 27,
   "metadata": {},
   "outputs": [],
   "source": [
    "layer_conv2_biases = layer_conv2 + biases_conv2"
   ]
  },
  {
   "cell_type": "markdown",
   "metadata": {},
   "source": [
    "### Pooling Relu Convolution Layer 2"
   ]
  },
  {
   "cell_type": "code",
   "execution_count": 28,
   "metadata": {},
   "outputs": [],
   "source": [
    "layer_conv2_pool_relu = pooling_relu(input = layer_conv2_biases,use_pooling=True)"
   ]
  },
  {
   "cell_type": "markdown",
   "metadata": {},
   "source": [
    "Check the shape of the tensor that will be output from this convolutional layer. The shape is (?, 7, 7, 36) where the ? again means that there is an arbitrary number of images, with each image having width and height of 7 pixels, and there are 36 channels, one for each filter."
   ]
  },
  {
   "cell_type": "code",
   "execution_count": 29,
   "metadata": {},
   "outputs": [
    {
     "data": {
      "text/plain": [
       "<tf.Tensor 'strided_slice_2:0' shape=(14, 14) dtype=float32>"
      ]
     },
     "execution_count": 29,
     "metadata": {},
     "output_type": "execute_result"
    }
   ],
   "source": [
    "layer_conv2[1][:,:,1][:,:]"
   ]
  },
  {
   "cell_type": "code",
   "execution_count": 30,
   "metadata": {},
   "outputs": [
    {
     "data": {
      "text/plain": [
       "<tensorflow.python.ops.variables.Variable at 0x119e81e10>"
      ]
     },
     "execution_count": 30,
     "metadata": {},
     "output_type": "execute_result"
    }
   ],
   "source": [
    " weights_conv2"
   ]
  },
  {
   "cell_type": "markdown",
   "metadata": {},
   "source": [
    "### Flatten Layer\n",
    "\n",
    "The convolutional layers output 4-dim tensors. We now wish to use these as input in a fully-connected network, which requires for the tensors to be reshaped or flattened to 2-dim tensors."
   ]
  },
  {
   "cell_type": "code",
   "execution_count": 31,
   "metadata": {},
   "outputs": [],
   "source": [
    "layer_flat, num_features = flatten_layer(layer_conv2_pool_relu)"
   ]
  },
  {
   "cell_type": "markdown",
   "metadata": {},
   "source": [
    "Check that the tensors now have shape (?, 1764) which means there's an arbitrary number of images which have been flattened to vectors of length 1764 each. Note that 1764 = 7 x 7 x 36."
   ]
  },
  {
   "cell_type": "code",
   "execution_count": 32,
   "metadata": {},
   "outputs": [
    {
     "data": {
      "text/plain": [
       "<tf.Tensor 'Reshape_1:0' shape=(?, 1764) dtype=float32>"
      ]
     },
     "execution_count": 32,
     "metadata": {},
     "output_type": "execute_result"
    }
   ],
   "source": [
    "layer_flat"
   ]
  },
  {
   "cell_type": "code",
   "execution_count": 33,
   "metadata": {},
   "outputs": [
    {
     "data": {
      "text/plain": [
       "1764"
      ]
     },
     "execution_count": 33,
     "metadata": {},
     "output_type": "execute_result"
    }
   ],
   "source": [
    "num_features"
   ]
  },
  {
   "cell_type": "markdown",
   "metadata": {},
   "source": [
    "### Fully-Connected Layer 1\n",
    "\n",
    "Add a fully-connected layer to the network. The input is the flattened layer from the previous convolution. The number of neurons or nodes in the fully-connected layer is `fc_size`. ReLU is used so we can learn non-linear relations."
   ]
  },
  {
   "cell_type": "code",
   "execution_count": 34,
   "metadata": {},
   "outputs": [],
   "source": [
    "layer_fc1,weights_fc1 = new_fc_layer(input=layer_flat,\n",
    "                         num_inputs=num_features,\n",
    "                         num_outputs=fc_size,\n",
    "                         use_relu=True)"
   ]
  },
  {
   "cell_type": "markdown",
   "metadata": {},
   "source": [
    "Check that the output of the fully-connected layer is a tensor with shape (?, 128) where the ? means there is an arbitrary number of images and `fc_size` == 128."
   ]
  },
  {
   "cell_type": "code",
   "execution_count": 35,
   "metadata": {},
   "outputs": [
    {
     "data": {
      "text/plain": [
       "<tf.Tensor 'Relu_2:0' shape=(?, 128) dtype=float32>"
      ]
     },
     "execution_count": 35,
     "metadata": {},
     "output_type": "execute_result"
    }
   ],
   "source": [
    "layer_fc1"
   ]
  },
  {
   "cell_type": "markdown",
   "metadata": {},
   "source": [
    "### Fully-Connected Layer 2\n",
    "\n",
    "Add another fully-connected layer that outputs vectors of length 10 for determining which of the 10 classes the input image belongs to. Note that ReLU is not used in this layer."
   ]
  },
  {
   "cell_type": "code",
   "execution_count": 36,
   "metadata": {},
   "outputs": [],
   "source": [
    "layer_fc2,weights_fc2 = new_fc_layer(input=layer_fc1,\n",
    "                         num_inputs=fc_size,\n",
    "                         num_outputs=num_classes,\n",
    "                         use_relu=False)"
   ]
  },
  {
   "cell_type": "code",
   "execution_count": 37,
   "metadata": {},
   "outputs": [
    {
     "data": {
      "text/plain": [
       "<tf.Tensor 'add_3:0' shape=(?, 10) dtype=float32>"
      ]
     },
     "execution_count": 37,
     "metadata": {},
     "output_type": "execute_result"
    }
   ],
   "source": [
    "layer_fc2"
   ]
  },
  {
   "cell_type": "markdown",
   "metadata": {},
   "source": [
    "### Predicted Class"
   ]
  },
  {
   "cell_type": "markdown",
   "metadata": {},
   "source": [
    "The second fully-connected layer estimates how likely it is that the input image belongs to each of the 10 classes. However, these estimates are a bit rough and difficult to interpret because the numbers may be very small or large, so we want to normalize them so that each element is limited between zero and one and the 10 elements sum to one. This is calculated using the so-called softmax function and the result is stored in `y_pred`."
   ]
  },
  {
   "cell_type": "code",
   "execution_count": 38,
   "metadata": {},
   "outputs": [],
   "source": [
    "y_pred = tf.nn.softmax(layer_fc2)"
   ]
  },
  {
   "cell_type": "code",
   "execution_count": 39,
   "metadata": {},
   "outputs": [
    {
     "name": "stdout",
     "output_type": "stream",
     "text": [
      "Tensor(\"Softmax:0\", shape=(?, 10), dtype=float32)\n"
     ]
    }
   ],
   "source": [
    "print(y_pred)"
   ]
  },
  {
   "cell_type": "markdown",
   "metadata": {},
   "source": [
    "The class-number is the index of the largest element."
   ]
  },
  {
   "cell_type": "code",
   "execution_count": 40,
   "metadata": {},
   "outputs": [],
   "source": [
    "y_pred_cls = tf.argmax(y_pred, axis=1)"
   ]
  },
  {
   "cell_type": "code",
   "execution_count": null,
   "metadata": {},
   "outputs": [],
   "source": []
  },
  {
   "cell_type": "markdown",
   "metadata": {},
   "source": [
    "### Cost-function to be optimized"
   ]
  },
  {
   "cell_type": "markdown",
   "metadata": {},
   "source": [
    "To make the model better at classifying the input images, we must somehow change the variables for all the network layers. To do this we first need to know how well the model currently performs by comparing the predicted output of the model `y_pred` to the desired output `y_true`.\n",
    "\n",
    "The cross-entropy is a performance measure used in classification. The cross-entropy is a continuous function that is always positive and if the predicted output of the model exactly matches the desired output then the cross-entropy equals zero. The goal of optimization is therefore to minimize the cross-entropy so it gets as close to zero as possible by changing the variables of the network layers.\n",
    "\n",
    "TensorFlow has a built-in function for calculating the cross-entropy. Note that the function calculates the softmax internally so we must use the output of `layer_fc2` directly rather than `y_pred` which has already had the softmax applied."
   ]
  },
  {
   "cell_type": "code",
   "execution_count": 41,
   "metadata": {},
   "outputs": [],
   "source": [
    "cross_entropy = tf.nn.softmax_cross_entropy_with_logits(logits=layer_fc2,\n",
    "                                                        labels=y_true)"
   ]
  },
  {
   "cell_type": "markdown",
   "metadata": {},
   "source": [
    "We have now calculated the cross-entropy for each of the image classifications so we have a measure of how well the model performs on each image individually. But in order to use the cross-entropy to guide the optimization of the model's variables we need a single scalar value, so we simply take the average of the cross-entropy for all the image classifications."
   ]
  },
  {
   "cell_type": "code",
   "execution_count": 42,
   "metadata": {},
   "outputs": [],
   "source": [
    "cost = tf.reduce_mean(cross_entropy)"
   ]
  },
  {
   "cell_type": "markdown",
   "metadata": {},
   "source": [
    "### Optimization Method"
   ]
  },
  {
   "cell_type": "markdown",
   "metadata": {},
   "source": [
    "Now that we have a cost measure that must be minimized, we can then create an optimizer. In this case it is the `AdamOptimizer` which is an advanced form of Gradient Descent.\n",
    "\n",
    "Note that optimization is not performed at this point. In fact, nothing is calculated at all, we just add the optimizer-object to the TensorFlow graph for later execution."
   ]
  },
  {
   "cell_type": "code",
   "execution_count": 43,
   "metadata": {},
   "outputs": [],
   "source": [
    "optimizer = tf.train.AdamOptimizer(learning_rate=1e-4).minimize(cost)"
   ]
  },
  {
   "cell_type": "markdown",
   "metadata": {},
   "source": [
    "### Performance Measures"
   ]
  },
  {
   "cell_type": "markdown",
   "metadata": {},
   "source": [
    "We need a few more performance measures to display the progress to the user.\n",
    "\n",
    "This is a vector of booleans whether the predicted class equals the true class of each image."
   ]
  },
  {
   "cell_type": "code",
   "execution_count": 44,
   "metadata": {},
   "outputs": [],
   "source": [
    "correct_prediction = tf.equal(y_pred_cls, y_true_cls)"
   ]
  },
  {
   "cell_type": "markdown",
   "metadata": {},
   "source": [
    "This calculates the classification accuracy by first type-casting the vector of booleans to floats, so that False becomes 0 and True becomes 1, and then calculating the average of these numbers."
   ]
  },
  {
   "cell_type": "code",
   "execution_count": 45,
   "metadata": {},
   "outputs": [],
   "source": [
    "accuracy = tf.reduce_mean(tf.cast(correct_prediction, tf.float32))"
   ]
  },
  {
   "cell_type": "markdown",
   "metadata": {},
   "source": [
    "## TensorFlow Run"
   ]
  },
  {
   "cell_type": "markdown",
   "metadata": {},
   "source": [
    "### Create TensorFlow session\n",
    "\n",
    "Once the TensorFlow graph has been created, we have to create a TensorFlow session which is used to execute the graph."
   ]
  },
  {
   "cell_type": "code",
   "execution_count": 46,
   "metadata": {},
   "outputs": [],
   "source": [
    "session = tf.Session()"
   ]
  },
  {
   "cell_type": "markdown",
   "metadata": {},
   "source": [
    "### Save Session"
   ]
  },
  {
   "cell_type": "code",
   "execution_count": 47,
   "metadata": {},
   "outputs": [],
   "source": [
    "saver = tf.train.Saver()"
   ]
  },
  {
   "cell_type": "code",
   "execution_count": 48,
   "metadata": {},
   "outputs": [],
   "source": [
    "save_dir = 'checkpoints_lenetMinst/'"
   ]
  },
  {
   "cell_type": "code",
   "execution_count": 49,
   "metadata": {},
   "outputs": [],
   "source": [
    "if not os.path.exists(save_dir):\n",
    "    os.makedirs(save_dir)"
   ]
  },
  {
   "cell_type": "code",
   "execution_count": 50,
   "metadata": {},
   "outputs": [],
   "source": [
    "save_path = os.path.join(save_dir, 'best_validation')"
   ]
  },
  {
   "cell_type": "markdown",
   "metadata": {},
   "source": [
    "### Restore saved session"
   ]
  },
  {
   "cell_type": "code",
   "execution_count": 51,
   "metadata": {},
   "outputs": [
    {
     "name": "stdout",
     "output_type": "stream",
     "text": [
      "Trying to restore last checkpoint ...\n",
      "Restored checkpoint from: checkpoints_lenetMinst/best_validation-7000\n"
     ]
    }
   ],
   "source": [
    "try:\n",
    "    print(\"Trying to restore last checkpoint ...\")\n",
    "\n",
    "    # Use TensorFlow to find the latest checkpoint - if any.\n",
    "    last_chk_path = tf.train.latest_checkpoint(checkpoint_dir=save_dir)\n",
    "\n",
    "    # Try and load the data in the checkpoint.\n",
    "    saver.restore(session, save_path=last_chk_path)\n",
    "\n",
    "    # If we get to this point, the checkpoint was successfully loaded.\n",
    "    print(\"Restored checkpoint from:\", last_chk_path)\n",
    "except:\n",
    "    # If the above failed for some reason, simply\n",
    "    # initialize all the variables for the TensorFlow graph.\n",
    "    print(\"Failed to restore checkpoint. Initializing variables instead.\")\n",
    "    session.run(tf.global_variables_initializer())"
   ]
  },
  {
   "cell_type": "code",
   "execution_count": null,
   "metadata": {},
   "outputs": [],
   "source": []
  },
  {
   "cell_type": "markdown",
   "metadata": {},
   "source": [
    "### Initialize variables\n",
    "\n",
    "The variables for `weights` and `biases` must be initialized before we start optimizing them."
   ]
  },
  {
   "cell_type": "code",
   "execution_count": 52,
   "metadata": {},
   "outputs": [],
   "source": [
    "session.run(tf.global_variables_initializer())"
   ]
  },
  {
   "cell_type": "markdown",
   "metadata": {},
   "source": [
    "### Helper-function to perform optimization iterations"
   ]
  },
  {
   "cell_type": "markdown",
   "metadata": {},
   "source": [
    "There are 55,000 images in the training-set. It takes a long time to calculate the gradient of the model using all these images. We therefore only use a small batch of images in each iteration of the optimizer.\n",
    "\n",
    "If your computer crashes or becomes very slow because you run out of RAM, then you may try and lower this number, but you may then need to perform more optimization iterations."
   ]
  },
  {
   "cell_type": "code",
   "execution_count": 53,
   "metadata": {},
   "outputs": [],
   "source": [
    "train_batch_size = 64"
   ]
  },
  {
   "cell_type": "markdown",
   "metadata": {},
   "source": [
    "Function for performing a number of optimization iterations so as to gradually improve the variables of the network layers. In each iteration, a new batch of data is selected from the training-set and then TensorFlow executes the optimizer using those training samples.  The progress is printed every 100 iterations."
   ]
  },
  {
   "cell_type": "code",
   "execution_count": 54,
   "metadata": {},
   "outputs": [],
   "source": [
    "# Counter for total number of iterations performed so far.\n",
    "total_iterations = 0\n",
    "\n",
    "def optimize(num_iterations):\n",
    "    # Ensure we update the global variable rather than a local copy.\n",
    "    global total_iterations\n",
    "\n",
    "    # Start-time used for printing time-usage below.\n",
    "    start_time = time.time()\n",
    "\n",
    "    for i in range(total_iterations,\n",
    "                   total_iterations + num_iterations):\n",
    "\n",
    "        # Get a batch of training examples.\n",
    "        # x_batch now holds a batch of images and\n",
    "        # y_true_batch are the true labels for those images.\n",
    "        x_batch, y_true_batch = data.train.next_batch(train_batch_size)\n",
    "\n",
    "        # Put the batch into a dict with the proper names\n",
    "        # for placeholder variables in the TensorFlow graph.\n",
    "        feed_dict_train = {x: x_batch,\n",
    "                           y_true: y_true_batch}\n",
    "\n",
    "        # Run the optimizer using this batch of training data.\n",
    "        # TensorFlow assigns the variables in feed_dict_train\n",
    "        # to the placeholder variables and then runs the optimizer.\n",
    "        session.run(optimizer, feed_dict=feed_dict_train)\n",
    "\n",
    "        # Print status every 100 iterations.\n",
    "        if i % 100 == 0:\n",
    "            # Calculate the accuracy on the training-set.\n",
    "            acc = session.run(accuracy, feed_dict=feed_dict_train)\n",
    "\n",
    "            # Message for printing.\n",
    "            msg = \"Optimization Iteration: {0:>6}, Training Accuracy: {1:>6.1%}\"\n",
    "\n",
    "            # Print it.\n",
    "            print(msg.format(i + 1, acc))\n",
    "            \n",
    "      \n",
    "        if (total_iterations % 1000 == 0) or (i == num_iterations - 1):\n",
    "            # Save all variables of the TensorFlow graph to a\n",
    "            # checkpoint. Append the global_step counter\n",
    "            # to the filename so we save the last several checkpoints.\n",
    "            saver.save(session,\n",
    "                       save_path=save_path,\n",
    "                       global_step = total_iterations)\n",
    "\n",
    "            print(\"Saved checkpoint.\")\n",
    "            \n",
    "        total_iterations += 1\n",
    "\n",
    "\n",
    "    # Update the total number of iterations performed.\n",
    "    #total_iterations += num_iterations\n",
    "\n",
    "    # Ending time.\n",
    "    end_time = time.time()\n",
    "\n",
    "    # Difference between start and end-times.\n",
    "    time_dif = end_time - start_time\n",
    "\n",
    "    # Print the time-usage.\n",
    "    print(\"Time usage: \" + str(timedelta(seconds=int(round(time_dif)))))"
   ]
  },
  {
   "cell_type": "markdown",
   "metadata": {},
   "source": [
    "### Helper-function to plot example errors"
   ]
  },
  {
   "cell_type": "markdown",
   "metadata": {},
   "source": [
    "Function for plotting examples of images from the test-set that have been mis-classified."
   ]
  },
  {
   "cell_type": "code",
   "execution_count": 55,
   "metadata": {},
   "outputs": [],
   "source": [
    "def plot_example_errors(cls_pred, correct):\n",
    "    # This function is called from print_test_accuracy() below.\n",
    "\n",
    "    # cls_pred is an array of the predicted class-number for\n",
    "    # all images in the test-set.\n",
    "\n",
    "    # correct is a boolean array whether the predicted class\n",
    "    # is equal to the true class for each image in the test-set.\n",
    "\n",
    "    # Negate the boolean array.\n",
    "    incorrect = (correct == False)\n",
    "    \n",
    "    # Get the images from the test-set that have been\n",
    "    # incorrectly classified.\n",
    "    images = data.test.images[incorrect]\n",
    "    \n",
    "    # Get the predicted classes for those images.\n",
    "    cls_pred = cls_pred[incorrect]\n",
    "\n",
    "    # Get the true classes for those images.\n",
    "    cls_true = data.test.cls[incorrect]\n",
    "    \n",
    "    # Plot the first 9 images.\n",
    "    plot_images(images=images[0:9],\n",
    "                cls_true=cls_true[0:9],\n",
    "                cls_pred=cls_pred[0:9])"
   ]
  },
  {
   "cell_type": "markdown",
   "metadata": {},
   "source": [
    "### Helper-function to plot confusion matrix"
   ]
  },
  {
   "cell_type": "code",
   "execution_count": 56,
   "metadata": {},
   "outputs": [],
   "source": [
    "def plot_confusion_matrix(cls_pred):\n",
    "    # This is called from print_test_accuracy() below.\n",
    "\n",
    "    # cls_pred is an array of the predicted class-number for\n",
    "    # all images in the test-set.\n",
    "\n",
    "    # Get the true classifications for the test-set.\n",
    "    cls_true = data.test.cls\n",
    "    \n",
    "    # Get the confusion matrix using sklearn.\n",
    "    cm = confusion_matrix(y_true=cls_true,\n",
    "                          y_pred=cls_pred)\n",
    "\n",
    "    # Print the confusion matrix as text.\n",
    "    print(cm)\n",
    "\n",
    "    # Plot the confusion matrix as an image.\n",
    "    plt.matshow(cm)\n",
    "\n",
    "    # Make various adjustments to the plot.\n",
    "    plt.colorbar()\n",
    "    tick_marks = np.arange(num_classes)\n",
    "    plt.xticks(tick_marks, range(num_classes))\n",
    "    plt.yticks(tick_marks, range(num_classes))\n",
    "    plt.xlabel('Predicted')\n",
    "    plt.ylabel('True')\n",
    "\n",
    "    # Ensure the plot is shown correctly with multiple plots\n",
    "    # in a single Notebook cell.\n",
    "    plt.show()"
   ]
  },
  {
   "cell_type": "markdown",
   "metadata": {},
   "source": [
    "### Helper-function for showing the performance"
   ]
  },
  {
   "cell_type": "markdown",
   "metadata": {},
   "source": [
    "Function for printing the classification accuracy on the test-set.\n",
    "\n",
    "It takes a while to compute the classification for all the images in the test-set, that's why the results are re-used by calling the above functions directly from this function, so the classifications don't have to be recalculated by each function.\n",
    "\n",
    "Note that this function can use a lot of computer memory, which is why the test-set is split into smaller batches. If you have little RAM in your computer and it crashes, then you can try and lower the batch-size."
   ]
  },
  {
   "cell_type": "code",
   "execution_count": 57,
   "metadata": {},
   "outputs": [],
   "source": [
    "# Split the test-set into smaller batches of this size.\n",
    "test_batch_size = 256\n",
    "\n",
    "def print_test_accuracy(show_example_errors=False,\n",
    "                        show_confusion_matrix=False):\n",
    "\n",
    "    # Number of images in the test-set.\n",
    "    num_test = len(data.test.images)\n",
    "\n",
    "    # Allocate an array for the predicted classes which\n",
    "    # will be calculated in batches and filled into this array.\n",
    "    cls_pred = np.zeros(shape=num_test, dtype=np.int)\n",
    "\n",
    "    # Now calculate the predicted classes for the batches.\n",
    "    # We will just iterate through all the batches.\n",
    "    # There might be a more clever and Pythonic way of doing this.\n",
    "\n",
    "    # The starting index for the next batch is denoted i.\n",
    "    i = 0\n",
    "\n",
    "    while i < num_test:\n",
    "        # The ending index for the next batch is denoted j.\n",
    "        j = min(i + test_batch_size, num_test)\n",
    "\n",
    "        # Get the images from the test-set between index i and j.\n",
    "        images = data.test.images[i:j, :]\n",
    "\n",
    "        # Get the associated labels.\n",
    "        labels = data.test.labels[i:j, :]\n",
    "\n",
    "        # Create a feed-dict with these images and labels.\n",
    "        feed_dict = {x: images,\n",
    "                     y_true: labels}\n",
    "\n",
    "        # Calculate the predicted class using TensorFlow.\n",
    "        cls_pred[i:j] = session.run(y_pred_cls, feed_dict=feed_dict)\n",
    "\n",
    "        # Set the start-index for the next batch to the\n",
    "        # end-index of the current batch.\n",
    "        i = j\n",
    "\n",
    "    # Convenience variable for the true class-numbers of the test-set.\n",
    "    cls_true = data.test.cls\n",
    "\n",
    "    # Create a boolean array whether each image is correctly classified.\n",
    "    correct = (cls_true == cls_pred)\n",
    "\n",
    "    # Calculate the number of correctly classified images.\n",
    "    # When summing a boolean array, False means 0 and True means 1.\n",
    "    correct_sum = correct.sum()\n",
    "\n",
    "    # Classification accuracy is the number of correctly classified\n",
    "    # images divided by the total number of images in the test-set.\n",
    "    acc = float(correct_sum) / num_test\n",
    "\n",
    "    # Print the accuracy.\n",
    "    msg = \"Accuracy on Test-Set: {0:.1%} ({1} / {2})\"\n",
    "    print(msg.format(acc, correct_sum, num_test))\n",
    "\n",
    "    # Plot some examples of mis-classifications, if desired.\n",
    "    if show_example_errors:\n",
    "        print(\"Example errors:\")\n",
    "        plot_example_errors(cls_pred=cls_pred, correct=correct)\n",
    "\n",
    "    # Plot the confusion matrix, if desired.\n",
    "    if show_confusion_matrix:\n",
    "        print(\"Confusion Matrix:\")\n",
    "        plot_confusion_matrix(cls_pred=cls_pred)"
   ]
  },
  {
   "cell_type": "markdown",
   "metadata": {},
   "source": [
    "## Performance before any optimization\n",
    "\n",
    "The accuracy on the test-set is very low because the model variables have only been initialized and not optimized at all, so it just classifies the images randomly."
   ]
  },
  {
   "cell_type": "code",
   "execution_count": 58,
   "metadata": {},
   "outputs": [
    {
     "name": "stdout",
     "output_type": "stream",
     "text": [
      "Accuracy on Test-Set: 9.4% (938 / 10000)\n"
     ]
    }
   ],
   "source": [
    "print_test_accuracy()"
   ]
  },
  {
   "cell_type": "markdown",
   "metadata": {},
   "source": [
    "## Performance after 1 optimization iteration\n",
    "\n",
    "The classification accuracy does not improve much from just 1 optimization iteration, because the learning-rate for the optimizer is set very low."
   ]
  },
  {
   "cell_type": "code",
   "execution_count": 59,
   "metadata": {},
   "outputs": [
    {
     "name": "stdout",
     "output_type": "stream",
     "text": [
      "Optimization Iteration:      1, Training Accuracy:  12.5%\n",
      "Saved checkpoint.\n",
      "Time usage: 0:00:01\n"
     ]
    }
   ],
   "source": [
    "optimize(num_iterations=1)"
   ]
  },
  {
   "cell_type": "code",
   "execution_count": 60,
   "metadata": {
    "scrolled": true
   },
   "outputs": [
    {
     "name": "stdout",
     "output_type": "stream",
     "text": [
      "Accuracy on Test-Set: 11.4% (1136 / 10000)\n",
      "4.472064018249512\n"
     ]
    }
   ],
   "source": [
    "a = time.time()\n",
    "print_test_accuracy()\n",
    "b = time.time()\n",
    "c = b-a\n",
    "print(c)"
   ]
  },
  {
   "cell_type": "markdown",
   "metadata": {},
   "source": [
    "## Performance after 100 optimization iterations\n",
    "\n",
    "After 100 optimization iterations, the model has significantly improved its classification accuracy."
   ]
  },
  {
   "cell_type": "code",
   "execution_count": 61,
   "metadata": {
    "scrolled": true
   },
   "outputs": [
    {
     "name": "stdout",
     "output_type": "stream",
     "text": [
      "Saved checkpoint.\n",
      "Time usage: 0:00:07\n"
     ]
    }
   ],
   "source": [
    "optimize(num_iterations=99) # We already performed 1 iteration above."
   ]
  },
  {
   "cell_type": "code",
   "execution_count": 62,
   "metadata": {},
   "outputs": [
    {
     "name": "stdout",
     "output_type": "stream",
     "text": [
      "Accuracy on Test-Set: 67.2% (6725 / 10000)\n",
      "Example errors:\n"
     ]
    },
    {
     "data": {
      "image/png": "[encoded data removed]",
      "text/plain": [
       "<Figure size 432x288 with 9 Axes>"
      ]
     },
     "metadata": {},
     "output_type": "display_data"
    }
   ],
   "source": [
    "print_test_accuracy(show_example_errors=True)"
   ]
  },
  {
   "cell_type": "markdown",
   "metadata": {},
   "source": [
    "## Performance after 1000 optimization iterations\n",
    "\n",
    "After 1000 optimization iterations, the model has greatly increased its accuracy on the test-set to more than 90%."
   ]
  },
  {
   "cell_type": "code",
   "execution_count": 63,
   "metadata": {
    "scrolled": false
   },
   "outputs": [
    {
     "name": "stdout",
     "output_type": "stream",
     "text": [
      "Optimization Iteration:    101, Training Accuracy:  75.0%\n",
      "Optimization Iteration:    201, Training Accuracy:  81.2%\n",
      "Optimization Iteration:    301, Training Accuracy:  75.0%\n",
      "Optimization Iteration:    401, Training Accuracy:  85.9%\n",
      "Optimization Iteration:    501, Training Accuracy:  87.5%\n",
      "Optimization Iteration:    601, Training Accuracy:  95.3%\n",
      "Optimization Iteration:    701, Training Accuracy:  87.5%\n",
      "Optimization Iteration:    801, Training Accuracy:  92.2%\n",
      "Saved checkpoint.\n",
      "Optimization Iteration:    901, Training Accuracy:  89.1%\n",
      "Time usage: 0:01:02\n"
     ]
    }
   ],
   "source": [
    "optimize(num_iterations=900) # We performed 100 iterations above."
   ]
  },
  {
   "cell_type": "code",
   "execution_count": 64,
   "metadata": {
    "scrolled": false
   },
   "outputs": [
    {
     "name": "stdout",
     "output_type": "stream",
     "text": [
      "Accuracy on Test-Set: 93.0% (9304 / 10000)\n",
      "Example errors:\n"
     ]
    },
    {
     "data": {
      "image/png": "[encoded data removed]",
      "text/plain": [
       "<Figure size 432x288 with 9 Axes>"
      ]
     },
     "metadata": {},
     "output_type": "display_data"
    }
   ],
   "source": [
    "print_test_accuracy(show_example_errors=True)"
   ]
  },
  {
   "cell_type": "code",
   "execution_count": 65,
   "metadata": {},
   "outputs": [
    {
     "data": {
      "text/plain": [
       "1000"
      ]
     },
     "execution_count": 65,
     "metadata": {},
     "output_type": "execute_result"
    }
   ],
   "source": [
    "total_iterations"
   ]
  },
  {
   "cell_type": "markdown",
   "metadata": {},
   "source": [
    "## Performance after 10,000 optimization iterations\n",
    "\n",
    "After 10,000 optimization iterations, the model has a classification accuracy on the test-set of about 99%."
   ]
  },
  {
   "cell_type": "code",
   "execution_count": 66,
   "metadata": {
    "scrolled": false
   },
   "outputs": [
    {
     "name": "stdout",
     "output_type": "stream",
     "text": [
      "Optimization Iteration:   1001, Training Accuracy:  93.8%\n",
      "Saved checkpoint.\n",
      "Optimization Iteration:   1101, Training Accuracy:  92.2%\n",
      "Optimization Iteration:   1201, Training Accuracy:  95.3%\n",
      "Optimization Iteration:   1301, Training Accuracy:  98.4%\n",
      "Optimization Iteration:   1401, Training Accuracy:  98.4%\n",
      "Optimization Iteration:   1501, Training Accuracy:  95.3%\n",
      "Optimization Iteration:   1601, Training Accuracy:  92.2%\n",
      "Optimization Iteration:   1701, Training Accuracy:  95.3%\n",
      "Optimization Iteration:   1801, Training Accuracy:  96.9%\n",
      "Optimization Iteration:   1901, Training Accuracy:  98.4%\n",
      "Optimization Iteration:   2001, Training Accuracy:  93.8%\n",
      "Saved checkpoint.\n",
      "Optimization Iteration:   2101, Training Accuracy:  96.9%\n",
      "Optimization Iteration:   2201, Training Accuracy: 100.0%\n",
      "Optimization Iteration:   2301, Training Accuracy: 100.0%\n",
      "Optimization Iteration:   2401, Training Accuracy:  96.9%\n",
      "Optimization Iteration:   2501, Training Accuracy:  96.9%\n",
      "Optimization Iteration:   2601, Training Accuracy:  95.3%\n",
      "Optimization Iteration:   2701, Training Accuracy:  93.8%\n",
      "Optimization Iteration:   2801, Training Accuracy:  98.4%\n",
      "Optimization Iteration:   2901, Training Accuracy:  96.9%\n",
      "Optimization Iteration:   3001, Training Accuracy:  92.2%\n",
      "Saved checkpoint.\n",
      "Optimization Iteration:   3101, Training Accuracy:  96.9%\n",
      "Optimization Iteration:   3201, Training Accuracy:  96.9%\n",
      "Optimization Iteration:   3301, Training Accuracy:  96.9%\n",
      "Optimization Iteration:   3401, Training Accuracy: 100.0%\n",
      "Optimization Iteration:   3501, Training Accuracy:  96.9%\n",
      "Optimization Iteration:   3601, Training Accuracy:  95.3%\n",
      "Optimization Iteration:   3701, Training Accuracy:  98.4%\n",
      "Optimization Iteration:   3801, Training Accuracy:  93.8%\n",
      "Optimization Iteration:   3901, Training Accuracy:  98.4%\n",
      "Optimization Iteration:   4001, Training Accuracy: 100.0%\n",
      "Saved checkpoint.\n",
      "Optimization Iteration:   4101, Training Accuracy: 100.0%\n",
      "Optimization Iteration:   4201, Training Accuracy:  96.9%\n",
      "Optimization Iteration:   4301, Training Accuracy:  98.4%\n",
      "Optimization Iteration:   4401, Training Accuracy:  98.4%\n",
      "Optimization Iteration:   4501, Training Accuracy:  95.3%\n",
      "Optimization Iteration:   4601, Training Accuracy:  95.3%\n",
      "Optimization Iteration:   4701, Training Accuracy:  98.4%\n",
      "Optimization Iteration:   4801, Training Accuracy: 100.0%\n",
      "Optimization Iteration:   4901, Training Accuracy:  98.4%\n",
      "Optimization Iteration:   5001, Training Accuracy:  98.4%\n",
      "Saved checkpoint.\n",
      "Optimization Iteration:   5101, Training Accuracy:  96.9%\n",
      "Optimization Iteration:   5201, Training Accuracy:  98.4%\n",
      "Optimization Iteration:   5301, Training Accuracy:  96.9%\n",
      "Optimization Iteration:   5401, Training Accuracy:  98.4%\n",
      "Optimization Iteration:   5501, Training Accuracy:  98.4%\n",
      "Optimization Iteration:   5601, Training Accuracy:  98.4%\n",
      "Optimization Iteration:   5701, Training Accuracy:  98.4%\n",
      "Optimization Iteration:   5801, Training Accuracy: 100.0%\n",
      "Optimization Iteration:   5901, Training Accuracy: 100.0%\n",
      "Optimization Iteration:   6001, Training Accuracy: 100.0%\n",
      "Saved checkpoint.\n",
      "Optimization Iteration:   6101, Training Accuracy:  95.3%\n",
      "Optimization Iteration:   6201, Training Accuracy: 100.0%\n",
      "Optimization Iteration:   6301, Training Accuracy:  98.4%\n",
      "Optimization Iteration:   6401, Training Accuracy: 100.0%\n",
      "Optimization Iteration:   6501, Training Accuracy:  98.4%\n",
      "Optimization Iteration:   6601, Training Accuracy: 100.0%\n",
      "Optimization Iteration:   6701, Training Accuracy:  98.4%\n",
      "Optimization Iteration:   6801, Training Accuracy: 100.0%\n",
      "Optimization Iteration:   6901, Training Accuracy: 100.0%\n",
      "Optimization Iteration:   7001, Training Accuracy:  98.4%\n",
      "Saved checkpoint.\n",
      "Optimization Iteration:   7101, Training Accuracy:  98.4%\n",
      "Optimization Iteration:   7201, Training Accuracy: 100.0%\n",
      "Optimization Iteration:   7301, Training Accuracy: 100.0%\n",
      "Optimization Iteration:   7401, Training Accuracy: 100.0%\n",
      "Optimization Iteration:   7501, Training Accuracy:  98.4%\n",
      "Optimization Iteration:   7601, Training Accuracy:  98.4%\n",
      "Optimization Iteration:   7701, Training Accuracy:  96.9%\n",
      "Optimization Iteration:   7801, Training Accuracy: 100.0%\n",
      "Optimization Iteration:   7901, Training Accuracy: 100.0%\n",
      "Optimization Iteration:   8001, Training Accuracy:  96.9%\n",
      "Saved checkpoint.\n",
      "Optimization Iteration:   8101, Training Accuracy:  98.4%\n",
      "Optimization Iteration:   8201, Training Accuracy: 100.0%\n",
      "Optimization Iteration:   8301, Training Accuracy:  98.4%\n",
      "Optimization Iteration:   8401, Training Accuracy:  96.9%\n",
      "Optimization Iteration:   8501, Training Accuracy: 100.0%\n",
      "Optimization Iteration:   8601, Training Accuracy: 100.0%\n",
      "Optimization Iteration:   8701, Training Accuracy:  98.4%\n",
      "Optimization Iteration:   8801, Training Accuracy:  98.4%\n",
      "Optimization Iteration:   8901, Training Accuracy:  96.9%\n",
      "Saved checkpoint.\n",
      "Optimization Iteration:   9001, Training Accuracy:  98.4%\n",
      "Saved checkpoint.\n",
      "Optimization Iteration:   9101, Training Accuracy: 100.0%\n",
      "Optimization Iteration:   9201, Training Accuracy: 100.0%\n",
      "Optimization Iteration:   9301, Training Accuracy:  98.4%\n",
      "Optimization Iteration:   9401, Training Accuracy:  98.4%\n",
      "Optimization Iteration:   9501, Training Accuracy: 100.0%\n",
      "Optimization Iteration:   9601, Training Accuracy: 100.0%\n",
      "Optimization Iteration:   9701, Training Accuracy: 100.0%\n",
      "Optimization Iteration:   9801, Training Accuracy: 100.0%\n",
      "Optimization Iteration:   9901, Training Accuracy: 100.0%\n",
      "Time usage: 0:09:34\n"
     ]
    }
   ],
   "source": [
    "optimize(num_iterations=9000) # We performed 1000 iterations above."
   ]
  },
  {
   "cell_type": "code",
   "execution_count": 72,
   "metadata": {
    "scrolled": true
   },
   "outputs": [
    {
     "name": "stdout",
     "output_type": "stream",
     "text": [
      "Accuracy on Test-Set: 98.9% (9892 / 10000)\n",
      "Example errors:\n"
     ]
    },
    {
     "data": {
      "image/png": "[encoded data removed]",
      "text/plain": [
       "<Figure size 432x288 with 9 Axes>"
      ]
     },
     "metadata": {},
     "output_type": "display_data"
    },
    {
     "name": "stdout",
     "output_type": "stream",
     "text": [
      "Confusion Matrix:\n",
      "[[ 974    0    1    0    0    0    2    1    2    0]\n",
      " [   0 1133    1    0    0    0    0    1    0    0]\n",
      " [   1    3 1015    0    1    0    0    5    7    0]\n",
      " [   0    0    0 1005    0    2    0    1    2    0]\n",
      " [   0    0    0    0  979    0    2    0    0    1]\n",
      " [   2    0    0    5    0  881    3    0    0    1]\n",
      " [   2    3    0    0    2    2  949    0    0    0]\n",
      " [   0    3    7    1    0    0    0 1016    1    0]\n",
      " [   2    0    1    2    2    1    0    2  962    2]\n",
      " [   1    6    0    2   12    4    0    4    2  978]]\n"
     ]
    },
    {
     "data": {
      "image/png": "[encoded data removed]",
      "text/plain": [
       "<Figure size 288x288 with 2 Axes>"
      ]
     },
     "metadata": {
      "needs_background": "light"
     },
     "output_type": "display_data"
    }
   ],
   "source": [
    "print_test_accuracy(show_example_errors=True,\n",
    "                    show_confusion_matrix=True)"
   ]
  },
  {
   "cell_type": "markdown",
   "metadata": {},
   "source": [
    "## Store the original weights"
   ]
  },
  {
   "cell_type": "code",
   "execution_count": 73,
   "metadata": {},
   "outputs": [],
   "source": [
    "w_conv1_original = session.run(weights_conv1)\n",
    "w_conv2_original = session.run(weights_conv2)\n",
    "w_fc1_original = session.run(weights_fc1)\n",
    "w_fc2_original = session.run(weights_fc2)"
   ]
  },
  {
   "cell_type": "code",
   "execution_count": 74,
   "metadata": {},
   "outputs": [
    {
     "data": {
      "text/plain": [
       "(128, 10)"
      ]
     },
     "execution_count": 74,
     "metadata": {},
     "output_type": "execute_result"
    }
   ],
   "source": [
    "w_fc2_original.shape"
   ]
  },
  {
   "cell_type": "code",
   "execution_count": 75,
   "metadata": {},
   "outputs": [],
   "source": [
    "wOrigConv = [w_conv1_original,w_conv2_original]\n",
    "wOrigFc = [w_fc1_original, w_fc2_original]"
   ]
  },
  {
   "cell_type": "code",
   "execution_count": 76,
   "metadata": {},
   "outputs": [
    {
     "data": {
      "text/plain": [
       "array([[-0.14730863, -0.17305252, -0.25539148, -0.12766491, -0.05200694],\n",
       "       [-0.21200274, -0.24868067, -0.11528031, -0.02846441,  0.06710728],\n",
       "       [ 0.00370491,  0.07936205,  0.13816267,  0.11260455,  0.16347203],\n",
       "       [ 0.21157406,  0.19562273,  0.08887535,  0.08664314,  0.08589598],\n",
       "       [ 0.1574995 ,  0.22077192,  0.05880862,  0.05066765, -0.00425202]],\n",
       "      dtype=float32)"
      ]
     },
     "execution_count": 76,
     "metadata": {},
     "output_type": "execute_result"
    }
   ],
   "source": [
    "w_conv1_original[:,:,0,1]"
   ]
  },
  {
   "cell_type": "code",
   "execution_count": 77,
   "metadata": {},
   "outputs": [
    {
     "data": {
      "text/plain": [
       "array([[ 0.11203958,  0.0857379 ,  0.00021456,  0.0642254 , -0.06366021],\n",
       "       [ 0.03796512, -0.01055547,  0.04040334, -0.00794536,  0.08250369],\n",
       "       [ 0.03824591,  0.02763841,  0.01552453,  0.01314175,  0.0712262 ],\n",
       "       [ 0.10982627,  0.02202161, -0.03877726,  0.0018859 ,  0.15788636],\n",
       "       [ 0.02697983,  0.10313573, -0.03673745, -0.00675308,  0.04836358]],\n",
       "      dtype=float32)"
      ]
     },
     "execution_count": 77,
     "metadata": {},
     "output_type": "execute_result"
    }
   ],
   "source": [
    "w_conv2_original[:,:,15,35]"
   ]
  },
  {
   "cell_type": "markdown",
   "metadata": {},
   "source": [
    "## Restore Original Weights"
   ]
  },
  {
   "cell_type": "code",
   "execution_count": 78,
   "metadata": {},
   "outputs": [],
   "source": [
    "def restoreWeights():\n",
    "    for wIdx in range(0,len(weightsConvMat)):\n",
    "            assign_op = weightsConvMat[wIdx].assign(wOrigConv[wIdx])\n",
    "            session.run(assign_op)\n",
    "\n",
    "    for wIdx in range(0,len(weightsFcMat)):\n",
    "            assign_op = weightsFcMat[wIdx].assign(wOrigFc[wIdx])\n",
    "            session.run(assign_op)"
   ]
  },
  {
   "cell_type": "code",
   "execution_count": 637,
   "metadata": {},
   "outputs": [],
   "source": [
    "restoreWeights()"
   ]
  },
  {
   "cell_type": "markdown",
   "metadata": {},
   "source": [
    "## Create list of weights_conv and assign to alternate varialbles"
   ]
  },
  {
   "cell_type": "markdown",
   "metadata": {},
   "source": [
    "# This is the point of contraption where we will re run from each time in order to calculate our ME values"
   ]
  },
  {
   "cell_type": "markdown",
   "metadata": {},
   "source": [
    "weightsConvMat is a list of weights of convolution layer 1 and convolution layer 2. \n",
    "Similarly, weightsFcMat is a list of weights of FC layer 1 and FC layer 2. \n",
    "We are going with the assumption that weightsConvMat and weightsFcMat holds the original weights and then wConv and wFc \n",
    "are the lists that we modify"
   ]
  },
  {
   "cell_type": "code",
   "execution_count": 638,
   "metadata": {},
   "outputs": [],
   "source": [
    "weightsConvMat = [weights_conv1,weights_conv2]\n",
    "weightsFcMat = [weights_fc1, weights_fc2]\n",
    "\n",
    "wConv1 = session.run(weights_conv1)\n",
    "wConv2 = session.run(weights_conv2)\n",
    "\n",
    "wFc1 = session.run(weights_fc1)\n",
    "wFc2 = session.run(weights_fc2)\n",
    "\n",
    "wConv = [wConv1,wConv2]\n",
    "wFc = [wFc1,wFc2]"
   ]
  },
  {
   "cell_type": "code",
   "execution_count": 639,
   "metadata": {},
   "outputs": [
    {
     "data": {
      "text/plain": [
       "(5, 5, 16, 36)"
      ]
     },
     "execution_count": 639,
     "metadata": {},
     "output_type": "execute_result"
    }
   ],
   "source": [
    "wConv[1].shape"
   ]
  },
  {
   "cell_type": "markdown",
   "metadata": {},
   "source": [
    "## Create List that will hold the difference between 2 filters"
   ]
  },
  {
   "cell_type": "code",
   "execution_count": 640,
   "metadata": {},
   "outputs": [],
   "source": [
    "wDiffConv = [] + wOrigConv\n",
    "wDiffFc = [] + wOrigFc"
   ]
  },
  {
   "cell_type": "markdown",
   "metadata": {},
   "source": [
    "## Create Alternate Filters"
   ]
  },
  {
   "cell_type": "markdown",
   "metadata": {},
   "source": [
    "### Negative values to zero"
   ]
  },
  {
   "cell_type": "code",
   "execution_count": 83,
   "metadata": {},
   "outputs": [],
   "source": [
    "def roundToZeroFilter(wtListConv,wtListFc):\n",
    "    num = len(wtListConv)\n",
    "    \n",
    "    for wtMat in wtListConv:\n",
    "        shape = wtMat.shape\n",
    "        xlen = shape[0]\n",
    "        ylen = shape[1]\n",
    "        numChnls = shape[2]\n",
    "        numFilters = shape[3]\n",
    "\n",
    "        for c in range(0,numChnls):\n",
    "            for i in range(0,numFilters):\n",
    "                for j in range(0,xlen):\n",
    "                    for k in range(0,ylen):\n",
    "                        if wtMat[j,k,c,i] < 0:\n",
    "                            wtMat[j,k,c,i] = 0#float('%.5f'%(w[j,k,0,i]))\n",
    "                            \n",
    "    for wtMat in wtListFc:\n",
    "        shape = wtMat.shape\n",
    "        xlen = shape[0]\n",
    "        ylen = shape[1]\n",
    "        \n",
    "        for i in range(0,xlen):\n",
    "            j=0\n",
    "            while j<ylen:\n",
    "                if wtMat[i,j] < 0:\n",
    "                    wtMat[i,j] = 0\n",
    "                j=j+1;\n",
    "\n",
    "\n",
    "#roundToZeroFilter(w)"
   ]
  },
  {
   "cell_type": "markdown",
   "metadata": {},
   "source": [
    "### Centroid based averaging filter"
   ]
  },
  {
   "cell_type": "code",
   "execution_count": 84,
   "metadata": {},
   "outputs": [],
   "source": [
    "def centroidFilter(wtListConv,wtListFc):\n",
    "    num = len(wtListConv)\n",
    "    \n",
    "    for wtMat in wtListConv:\n",
    "        shape = wtMat.shape\n",
    "        xlen = shape[0]\n",
    "        ylen = shape[1]\n",
    "        numChnls = shape[2]\n",
    "        numFilters = shape[3]\n",
    "\n",
    "        for c in range(0,numChnls):\n",
    "            for i in range(0,numFilters):\n",
    "                for j in range(0,xlen,2):\n",
    "                    for k in range(0,ylen,2):\n",
    "                        first = wtMat[j,k,c,i]\n",
    "                        if j+1 < xlen:\n",
    "                            second = wtMat[j+1,k,c,i]\n",
    "                        else:\n",
    "                            second = 0\n",
    "                        if k+1 < xlen:\n",
    "                            third = wtMat[j,k+1,c,i]\n",
    "                        else:\n",
    "                            third = 0\n",
    "                        if j+1 < xlen and k+1 < ylen:\n",
    "                            forth = wtMat[j+1,k+1,c,i]\n",
    "                        else:\n",
    "                            forth = 0\n",
    "                        total = 0.0\n",
    "                        total = float(first + second + third + forth)\n",
    "                        total /= 4\n",
    "                        wtMat[j,k,c,i] = total\n",
    "                        if j+1 < xlen:\n",
    "                            wtMat[j+1,k,c,i] = total\n",
    "                        if k+1 < xlen:\n",
    "                            wtMat[j,k+1,c,i] = total\n",
    "                        if j+1 < xlen and k+1 < ylen:\n",
    "                            wtMat[j+1,k+1,c,i] = total\n",
    "                        #if wtMat[j,k,0,i] < 0:\n",
    "                        #    wtMat[j,k,0,i] = 0#float('%.5f'%(w[j,k,0,i]))\n",
    "                        \n",
    "    for wtMat in wtListFc:\n",
    "        shape = wtMat.shape\n",
    "        xlen = shape[0]\n",
    "        ylen = shape[1]\n",
    "        \n",
    "        for i in range(0,xlen):\n",
    "            j=0\n",
    "            while j<ylen:\n",
    "                first = wtMat[i,j] \n",
    "                second = wtMat[i,j+1]\n",
    "                avg = (first+second)/2\n",
    "                wtMat[i,j] = avg\n",
    "                wtMat[i,j+1] = avg\n",
    "                j = j+2\n",
    "            \n",
    "\n",
    "\n",
    "#centroidFilter(w)"
   ]
  },
  {
   "cell_type": "markdown",
   "metadata": {},
   "source": [
    "### Truncating the decimal "
   ]
  },
  {
   "cell_type": "code",
   "execution_count": 85,
   "metadata": {},
   "outputs": [],
   "source": [
    "def truncateFilter(wtListConv,wtListFc):\n",
    "    num = len(wtListConv)\n",
    "    \n",
    "    \n",
    "    for wtMat in wtListConv:\n",
    "        shape = wtMat.shape\n",
    "        xlen = shape[0]\n",
    "        ylen = shape[1]\n",
    "        numChnls = shape[2]\n",
    "        numFilters = shape[3]\n",
    "\n",
    "        for c in range(0,numChnls):\n",
    "            for i in range(0,numFilters):\n",
    "                for j in range(0,xlen):\n",
    "                    for k in range(0,ylen):\n",
    "                        wtMat[j,k,c,i] = float('%.5f'%(wtMat[j,k,c,i]))\n",
    "                        \n",
    "                        \n",
    "    for wtMat in wtListFc:\n",
    "        shape = wtMat.shape\n",
    "        xlen = shape[0]\n",
    "        ylen = shape[1]\n",
    "        \n",
    "        for i in range(0,xlen):\n",
    "            j=0\n",
    "            while j<ylen:\n",
    "                wtMat[i,j]=float('%.5f'%(wtMat[i,j]))\n",
    "                j=j+1;\n",
    "\n",
    "                        \n",
    "    \n",
    "#truncateFilter(w)"
   ]
  },
  {
   "cell_type": "code",
   "execution_count": 86,
   "metadata": {},
   "outputs": [],
   "source": [
    "def borderFilter(wtListConv):\n",
    "   \n",
    "   for wtMat in wtListConv:\n",
    "       shape = wtMat.shape\n",
    "       xlen = shape[0]\n",
    "       ylen = shape[1]\n",
    "       numChnls = shape[2]\n",
    "       numFilters = shape[3]\n",
    "\n",
    "       for c in range(0,numChnls):\n",
    "           for i in range(0,numFilters):\n",
    "               for j in range(0, xlen):\n",
    "                   for k in range(0,ylen):\n",
    "                       if(k%4 == 0 or j%4 == 0):\n",
    "                           wtMat[j,k,c,i] = 0"
   ]
  },
  {
   "cell_type": "code",
   "execution_count": 87,
   "metadata": {},
   "outputs": [],
   "source": [
    "def borderFilterFc(wtListFc):\n",
    "    for wtMat in wtListFc:\n",
    "        shape = wtMat.shape\n",
    "        xlen = shape[0]\n",
    "        ylen = shape[1]\n",
    "        \n",
    "        for c in range(0,xlen):\n",
    "            for k in range(0,ylen):\n",
    "                if(k%4==0 or c%4==0):\n",
    "                    wtMat[c,k] = 0"
   ]
  },
  {
   "cell_type": "markdown",
   "metadata": {},
   "source": [
    "## This is where we assign the alternative filters to replace the original filter in static approx"
   ]
  },
  {
   "cell_type": "code",
   "execution_count": 641,
   "metadata": {},
   "outputs": [],
   "source": [
    "#truncateFilter(wConv,wFc)\n",
    "#roundToZeroFilter(wConv, wFc)\n",
    "#centroidFilter(wConv, wFc)\n",
    "## should we be changing the filter here?\n",
    "borderFilter(wConv)\n",
    "borderFilterFc(wFc)\n",
    "#truncateFilter(w)"
   ]
  },
  {
   "cell_type": "code",
   "execution_count": 642,
   "metadata": {},
   "outputs": [
    {
     "data": {
      "text/plain": [
       "[array([[ 0.        ,  0.        ,  0.        , ...,  0.        ,\n",
       "          0.        ,  0.        ],\n",
       "        [ 0.        , -0.05115661, -0.0106145 , ...,  0.0692575 ,\n",
       "         -0.04895232,  0.02969031],\n",
       "        [ 0.        ,  0.05768923, -0.01017315, ...,  0.01961088,\n",
       "         -0.01465359,  0.06076228],\n",
       "        ...,\n",
       "        [ 0.        ,  0.01220994, -0.02990404, ...,  0.00767086,\n",
       "         -0.07688827,  0.06376908],\n",
       "        [ 0.        ,  0.00403171,  0.0768006 , ...,  0.01471539,\n",
       "         -0.01255059, -0.02636899],\n",
       "        [ 0.        , -0.02793574,  0.06977787, ..., -0.06329624,\n",
       "          0.07734483, -0.05417221]], dtype=float32),\n",
       " array([[ 0.        ,  0.        ,  0.        , ...,  0.        ,\n",
       "          0.        ,  0.        ],\n",
       "        [ 0.        , -0.08150284, -0.01011836, ...,  0.13920817,\n",
       "          0.        , -0.00110414],\n",
       "        [ 0.        ,  0.12779841,  0.05866146, ...,  0.01651865,\n",
       "          0.        , -0.01599188],\n",
       "        ...,\n",
       "        [ 0.        ,  0.01213235,  0.05060093, ..., -0.05853774,\n",
       "          0.        ,  0.06710351],\n",
       "        [ 0.        , -0.10047252,  0.0050593 , ..., -0.01040477,\n",
       "          0.        ,  0.0931097 ],\n",
       "        [ 0.        , -0.03539529, -0.0013163 , ...,  0.01540488,\n",
       "          0.        ,  0.11666485]], dtype=float32)]"
      ]
     },
     "execution_count": 642,
     "metadata": {},
     "output_type": "execute_result"
    }
   ],
   "source": [
    "wFc"
   ]
  },
  {
   "cell_type": "code",
   "execution_count": 643,
   "metadata": {},
   "outputs": [],
   "source": [
    "checkSumConvLayer1 = []\n",
    "checkSumConvLayer2 = []\n",
    "checkSumFCLayer1 = []\n",
    "checkSumFCLayer2 = []"
   ]
  },
  {
   "cell_type": "markdown",
   "metadata": {},
   "source": [
    "## Testing and Assigning the alternate filters"
   ]
  },
  {
   "cell_type": "code",
   "execution_count": 531,
   "metadata": {},
   "outputs": [],
   "source": [
    "def assignFilters(wConv,wFc):\n",
    "    for wIdx in range(0,len(weightsConvMat)):\n",
    "        assign_op = weightsConvMat[wIdx].assign(wConv[wIdx])\n",
    "        session.run(assign_op)\n",
    "        \n",
    "    for wIdx in range(0,len(weightsFcMat)):\n",
    "        assign_op = weightsFcMat[wIdx].assign(wFc[wIdx])\n",
    "        session.run(assign_op)\n",
    "    \n",
    "#     a = time.time()\n",
    "#     print_test_accuracy()\n",
    "#     b = time.time()\n",
    "#     c = b-a\n",
    "#     print(c)\n"
   ]
  },
  {
   "cell_type": "markdown",
   "metadata": {},
   "source": [
    "Here, we are assigning the ORIGINAL filters for each layer in the session"
   ]
  },
  {
   "cell_type": "code",
   "execution_count": 644,
   "metadata": {},
   "outputs": [],
   "source": [
    "assignFilters(wConv,wOrigFc)"
   ]
  },
  {
   "cell_type": "code",
   "execution_count": 618,
   "metadata": {},
   "outputs": [
    {
     "name": "stdout",
     "output_type": "stream",
     "text": [
      "Accuracy on Test-Set: 32.1% (3207 / 10000)\n",
      "3.6801059246063232\n"
     ]
    }
   ],
   "source": [
    "a = time.time()\n",
    "print_test_accuracy()\n",
    "b = time.time()\n",
    "c = b-a\n",
    "print(c)\n"
   ]
  },
  {
   "cell_type": "markdown",
   "metadata": {},
   "source": [
    "## Multiplication Error"
   ]
  },
  {
   "cell_type": "markdown",
   "metadata": {},
   "source": [
    "### Loading Image Data"
   ]
  },
  {
   "cell_type": "code",
   "execution_count": 97,
   "metadata": {},
   "outputs": [],
   "source": [
    "def loadValues(numImg):\n",
    "    #numImg = 100\n",
    "    image1 = data.test.images[0:numImg]\n",
    "    feed_dict = {x: image1}\n",
    "    values_conv1 = session.run(layer_conv1, feed_dict=feed_dict)\n",
    "    values_conv2 = session.run(layer_conv2, feed_dict=feed_dict)\n",
    "    values_fc1 = session.run(layer_fc1, feed_dict=feed_dict)\n",
    "    values_fc2 = session.run(layer_fc2, feed_dict = feed_dict)\n",
    "    valuesConvMat = [values_conv1,values_conv2]\n",
    "    valuesFcMat = [values_fc1, values_fc2]\n",
    "    return valuesConvMat, valuesFcMat,numImg"
   ]
  },
  {
   "cell_type": "markdown",
   "metadata": {},
   "source": [
    "### Calculating ME for Conv Layer"
   ]
  },
  {
   "cell_type": "code",
   "execution_count": 436,
   "metadata": {},
   "outputs": [],
   "source": [
    "def calculateConvME(valuesMat):\n",
    "    shape = valuesMat.shape\n",
    "    valMat = valuesMat\n",
    "    numFilters = shape[3]\n",
    "   ## print(\"we are in the calculateConvME function\")\n",
    "   ## print(valMat)\n",
    "    means = np.zeros(numFilters)\n",
    "    meanSum = np.zeros(numFilters)\n",
    "    print(\"the number of filters are\")\n",
    "    print(numFilters)\n",
    "    for nImg in range(0,numImg):\n",
    "        meanSum = meanSum + means\n",
    "        for i in range(0,numFilters):\n",
    "            result = valMat[nImg,:,:,i]\n",
    "            result_sum = np.sum(result)\n",
    "            means[i] = result_sum\n",
    "\n",
    "    average = [x / numImg for x in meanSum]\n",
    "    averageSorted = np.sort(average)\n",
    "    return average, averageSorted"
   ]
  },
  {
   "cell_type": "code",
   "execution_count": 99,
   "metadata": {},
   "outputs": [],
   "source": [
    "def calculateFCME(valuesMat):\n",
    "    shape = valuesMat.shape\n",
    "    valMat = valuesMat\n",
    "    numFilters = shape[1]\n",
    "    ##print(\"we are in the fully connected layer function\")\n",
    "    ##print(valMat)\n",
    "    means = np.zeros(numFilters)\n",
    "    meanSum = np.zeros(numFilters)\n",
    "\n",
    "    for nImg in range(0,numImg):\n",
    "        meanSum = meanSum + means\n",
    "        for i in range(0,numFilters):\n",
    "            result = valMat[nImg,i]\n",
    "            result_sum = np.sum(result)\n",
    "            means[i] = result_sum\n",
    "\n",
    "    average = [x / numImg for x in meanSum]\n",
    "    averageSorted = np.sort(average)\n",
    "    return average, averageSorted"
   ]
  },
  {
   "cell_type": "code",
   "execution_count": 439,
   "metadata": {},
   "outputs": [],
   "source": [
    "def calculateConvMEDynamic (valuesMat):\n",
    "    shape = valuesMat.shape\n",
    "    valMat = valuesMat\n",
    "    numFilters = shape[3]\n",
    "   ## print(\"we are in the calculateConvME function\")\n",
    "   ## print(valMat)\n",
    "    means = np.zeros(numFilters)\n",
    "    meanSum = np.zeros(numFilters)\n",
    "    print(\"the number of filters is \")\n",
    "    print(numFilters)\n",
    "    for nImg in range(0,numImg):\n",
    "        meanSum = meanSum + means\n",
    "        for i in range(0,numFilters):\n",
    "            result = valMat[nImg,:,:,i]\n",
    "            result_sum = np.sum(result)\n",
    "            means[i] = result_sum\n",
    "\n",
    "    ##sortedFirst = np.sort(meanSum)\n",
    "    positiveSortedFirst = [] \n",
    "    \n",
    "    for sort in meanSum:\n",
    "        if sort<0:\n",
    "            sort = sort*-1\n",
    "            positiveSortedFirst.append(sort)\n",
    "        else :\n",
    "            positiveSortedFirst.append(sort)\n",
    "        \n",
    "    \n",
    "    positiveSortedFirst = np.sort(positiveSortedFirst)\n",
    "    print(\"the number of images is\")\n",
    "    print(numImg)\n",
    "    average = [x / numImg for x in positiveSortedFirst]\n",
    "    #print(average)\n",
    "    #averageSorted = np.sort(average)\n",
    "    return average\n",
    "    "
   ]
  },
  {
   "cell_type": "code",
   "execution_count": 467,
   "metadata": {},
   "outputs": [],
   "source": [
    "def calculateFCMEDynamic (valuesMat):\n",
    "    shape = valuesMat.shape\n",
    "    valMat = valuesMat\n",
    "    numFilters = shape[1]\n",
    "    ##print(\"we are in the fully connected layer function\")\n",
    "    ##print(valMat)\n",
    "    means = np.zeros(numFilters)\n",
    "    meanSum = np.zeros(numFilters)\n",
    "\n",
    "    for nImg in range(0,numImg):\n",
    "        meanSum = meanSum + means\n",
    "        for i in range(0,numFilters):\n",
    "            result = valMat[nImg,i]\n",
    "            result_sum = np.sum(result)\n",
    "            means[i] = result_sum\n",
    "\n",
    "    positiveSortedFirst = []\n",
    "    for sort in meanSum:\n",
    "        if sort<0:\n",
    "            sort = sort*-1\n",
    "        positiveSortedFirst.append(sort)\n",
    "        \n",
    "    positiveSortedFirst = np.sort(positiveSortedFirst)\n",
    "    average = [x / numImg for x in positiveSortedFirst]\n",
    "    #averageSorted = np.sort(average)\n",
    "    return average"
   ]
  },
  {
   "cell_type": "code",
   "execution_count": 149,
   "metadata": {},
   "outputs": [],
   "source": [
    "def plotME(ME):\n",
    "    import numpy as np\n",
    "    x = np.arrange(2)\n",
    "    #print(ME)\n",
    "    ypos = np.arange(len(ME))\n",
    "    y = ME\n",
    "    fig = plt.bar(ypos,y,align='center', label = 'work pls')\n",
    "    \n",
    "    fig.set_label('ME Values')\n",
    "    ##fig.set_ylabel('Frequency')"
   ]
  },
  {
   "cell_type": "code",
   "execution_count": 173,
   "metadata": {},
   "outputs": [],
   "source": [
    "def plotMEConvolution(ME1, ME2):\n",
    "    import numpy as np\n",
    "    x = np.arange(len(ME1))\n",
    "    y = np.arange(len(ME2))\n",
    "    plt.bar(x, ME1, color = 'b', align='center')\n",
    "    plt.bar(y+17, ME2, color = 'g', align = 'center', label = 'does this work')\n",
    "    \n",
    "    \n",
    "    #plt.bar()\n",
    "    "
   ]
  },
  {
   "cell_type": "code",
   "execution_count": 202,
   "metadata": {},
   "outputs": [],
   "source": [
    "def plotMEFullyConnected(ME1, ME2):\n",
    "    import numpy as np\n",
    "    x = np.arange(len(ME1))\n",
    "    y = np.arange(len(ME2))\n",
    "    plt.bar(x, ME1, color = 'b', align = 'center')\n",
    "    plt.bar(y + 129, ME2, color = 'g', align = 'center')\n",
    "    "
   ]
  },
  {
   "cell_type": "markdown",
   "metadata": {},
   "source": [
    "### Filter Policy (20% of the Top filters)"
   ]
  },
  {
   "cell_type": "code",
   "execution_count": 101,
   "metadata": {},
   "outputs": [],
   "source": [
    "def newApproxFilters(ME,wConvNew,wOrigConv):\n",
    "    sortedME = np.sort(ME)\n",
    "    length = len(ME)\n",
    "    thresh = (int)(length*0.8)\n",
    "    threshVal = sortedME[thresh]\n",
    "\n",
    "    shape = wConvNew.shape\n",
    "    numChnls = shape[2]\n",
    "    numFilters = shape[3]\n",
    "    print(\"the number of filters in this layer are\")\n",
    "    print(numFilters)\n",
    "    for i in range(0,numFilters):\n",
    "        if ME[i] >= threshVal:\n",
    "            wConvNew[:,:,:,i] = wOrigConv[:,:,:,i]"
   ]
  },
  {
   "cell_type": "code",
   "execution_count": 102,
   "metadata": {},
   "outputs": [],
   "source": [
    "def newApproxFiltersForFullyConnected(ME,wFullyConnectedNew,wOrigFc):\n",
    "    sortedME = np.sort(ME)\n",
    "    length = len(ME)\n",
    "    thresh = (int)(length*0.8)\n",
    "    threshVal = sortedME[thresh]\n",
    "\n",
    "    shape = wFullyConnectedNew.shape\n",
    "    #numChnls = shape[2]\n",
    "    numFilters = shape[1]\n",
    "    print(\"the number of filters in this layer are\")\n",
    "    print(numFilters)\n",
    "    for i in range(0,numFilters):\n",
    "        if ME[i] >= threshVal:\n",
    "            wFullyConnectedNew[:,i] = wOrigFc[:,i]"
   ]
  },
  {
   "cell_type": "code",
   "execution_count": 388,
   "metadata": {},
   "outputs": [],
   "source": [
    "##roundToZeroFilter(wConv, wFc)"
   ]
  },
  {
   "cell_type": "markdown",
   "metadata": {},
   "source": [
    "### Subtracting the two filters"
   ]
  },
  {
   "cell_type": "markdown",
   "metadata": {},
   "source": [
    "This is ensuring that wConv and wOrigConv are the same at this stage. But i need to check whether we are doing the subtraction in our ME calculation. "
   ]
  },
  {
   "cell_type": "code",
   "execution_count": 645,
   "metadata": {},
   "outputs": [],
   "source": [
    "for i in range(len(wConv)):\n",
    "    wDiffConv[i] = np.absolute(wOrigConv[i] - wConv[i])"
   ]
  },
  {
   "cell_type": "code",
   "execution_count": 646,
   "metadata": {},
   "outputs": [],
   "source": [
    "for i in range(len(wFc)):\n",
    "#print(wOrigFc[1].shape)\n",
    "    wDiffFc[i] = np.absolute(wOrigFc[i] - wFc[i])"
   ]
  },
  {
   "cell_type": "code",
   "execution_count": 647,
   "metadata": {},
   "outputs": [
    {
     "data": {
      "text/plain": [
       "array([[[[0.00482545, 0.14730863, 0.07236488, 0.03228739, 0.13564014,\n",
       "          0.11693471, 0.13347042, 0.07932844, 0.02281787, 0.04330307,\n",
       "          0.06078885, 0.14764208, 0.14154744, 0.15705346, 0.0291781 ,\n",
       "          0.10150275]],\n",
       "\n",
       "        [[0.01899529, 0.17305252, 0.09831913, 0.0359213 , 0.0426936 ,\n",
       "          0.09006342, 0.18557718, 0.08854203, 0.10383922, 0.13474256,\n",
       "          0.07627146, 0.20606565, 0.18252592, 0.03997561, 0.00118396,\n",
       "          0.19376722]],\n",
       "\n",
       "        [[0.06314308, 0.25539148, 0.04741718, 0.0166559 , 0.06552761,\n",
       "          0.02670347, 0.18234122, 0.07891496, 0.00512846, 0.10524219,\n",
       "          0.0871951 , 0.17767873, 0.09471425, 0.12092065, 0.0512167 ,\n",
       "          0.04419973]],\n",
       "\n",
       "        [[0.01775191, 0.12766491, 0.16713016, 0.03448634, 0.18321727,\n",
       "          0.02665561, 0.0955156 , 0.02191633, 0.06330841, 0.07235069,\n",
       "          0.06936628, 0.15929246, 0.146179  , 0.16194744, 0.0107396 ,\n",
       "          0.13173139]],\n",
       "\n",
       "        [[0.08010492, 0.05200694, 0.05065684, 0.06646603, 0.1654705 ,\n",
       "          0.15837161, 0.12561624, 0.00354533, 0.04156943, 0.04839201,\n",
       "          0.1552518 , 0.03092433, 0.01223485, 0.1299851 , 0.03767005,\n",
       "          0.16300331]]],\n",
       "\n",
       "\n",
       "       [[[0.16684614, 0.21200274, 0.07130877, 0.08076239, 0.16407089,\n",
       "          0.06783815, 0.1429317 , 0.07312176, 0.03296786, 0.11246163,\n",
       "          0.1751935 , 0.09877466, 0.2305326 , 0.16706982, 0.00697633,\n",
       "          0.09352686]],\n",
       "\n",
       "        [[0.        , 0.        , 0.        , 0.        , 0.        ,\n",
       "          0.        , 0.        , 0.        , 0.        , 0.        ,\n",
       "          0.        , 0.        , 0.        , 0.        , 0.        ,\n",
       "          0.        ]],\n",
       "\n",
       "        [[0.        , 0.        , 0.        , 0.        , 0.        ,\n",
       "          0.        , 0.        , 0.        , 0.        , 0.        ,\n",
       "          0.        , 0.        , 0.        , 0.        , 0.        ,\n",
       "          0.        ]],\n",
       "\n",
       "        [[0.        , 0.        , 0.        , 0.        , 0.        ,\n",
       "          0.        , 0.        , 0.        , 0.        , 0.        ,\n",
       "          0.        , 0.        , 0.        , 0.        , 0.        ,\n",
       "          0.        ]],\n",
       "\n",
       "        [[0.09030344, 0.06710728, 0.13655539, 0.07324378, 0.1447615 ,\n",
       "          0.0653325 , 0.14455147, 0.064285  , 0.04501995, 0.12910035,\n",
       "          0.22560307, 0.05646265, 0.169352  , 0.07852282, 0.18018681,\n",
       "          0.11970658]]],\n",
       "\n",
       "\n",
       "       [[[0.08724689, 0.00370491, 0.02892728, 0.15429828, 0.07514219,\n",
       "          0.0877265 , 0.11245052, 0.00370228, 0.0860782 , 0.14252454,\n",
       "          0.19787648, 0.01909219, 0.22280508, 0.02109448, 0.00841153,\n",
       "          0.1401603 ]],\n",
       "\n",
       "        [[0.        , 0.        , 0.        , 0.        , 0.        ,\n",
       "          0.        , 0.        , 0.        , 0.        , 0.        ,\n",
       "          0.        , 0.        , 0.        , 0.        , 0.        ,\n",
       "          0.        ]],\n",
       "\n",
       "        [[0.        , 0.        , 0.        , 0.        , 0.        ,\n",
       "          0.        , 0.        , 0.        , 0.        , 0.        ,\n",
       "          0.        , 0.        , 0.        , 0.        , 0.        ,\n",
       "          0.        ]],\n",
       "\n",
       "        [[0.        , 0.        , 0.        , 0.        , 0.        ,\n",
       "          0.        , 0.        , 0.        , 0.        , 0.        ,\n",
       "          0.        , 0.        , 0.        , 0.        , 0.        ,\n",
       "          0.        ]],\n",
       "\n",
       "        [[0.05367014, 0.16347203, 0.10657156, 0.07005672, 0.034042  ,\n",
       "          0.146984  , 0.12048762, 0.11492124, 0.06659066, 0.16940218,\n",
       "          0.14282653, 0.039516  , 0.00752702, 0.12232126, 0.12236202,\n",
       "          0.13102126]]],\n",
       "\n",
       "\n",
       "       [[[0.05795291, 0.21157406, 0.02260325, 0.00817259, 0.18776001,\n",
       "          0.11336528, 0.14345956, 0.00860144, 0.04345185, 0.1190896 ,\n",
       "          0.12842125, 0.19697343, 0.14106226, 0.02594852, 0.07704826,\n",
       "          0.12550472]],\n",
       "\n",
       "        [[0.        , 0.        , 0.        , 0.        , 0.        ,\n",
       "          0.        , 0.        , 0.        , 0.        , 0.        ,\n",
       "          0.        , 0.        , 0.        , 0.        , 0.        ,\n",
       "          0.        ]],\n",
       "\n",
       "        [[0.        , 0.        , 0.        , 0.        , 0.        ,\n",
       "          0.        , 0.        , 0.        , 0.        , 0.        ,\n",
       "          0.        , 0.        , 0.        , 0.        , 0.        ,\n",
       "          0.        ]],\n",
       "\n",
       "        [[0.        , 0.        , 0.        , 0.        , 0.        ,\n",
       "          0.        , 0.        , 0.        , 0.        , 0.        ,\n",
       "          0.        , 0.        , 0.        , 0.        , 0.        ,\n",
       "          0.        ]],\n",
       "\n",
       "        [[0.09352484, 0.08589598, 0.11228661, 0.01652974, 0.02344683,\n",
       "          0.07838462, 0.00205664, 0.10987695, 0.120006  , 0.06176663,\n",
       "          0.06954042, 0.0829607 , 0.02254214, 0.11552474, 0.10500109,\n",
       "          0.09144893]]],\n",
       "\n",
       "\n",
       "       [[[0.01831839, 0.1574995 , 0.04500512, 0.00654241, 0.03484833,\n",
       "          0.14722039, 0.13862933, 0.03864641, 0.14179505, 0.13202235,\n",
       "          0.00596892, 0.1994351 , 0.09059855, 0.04138051, 0.1852106 ,\n",
       "          0.16734762]],\n",
       "\n",
       "        [[0.08958281, 0.22077192, 0.01717989, 0.00423735, 0.06077026,\n",
       "          0.14081837, 0.16611752, 0.00741734, 0.17587756, 0.01781997,\n",
       "          0.1691838 , 0.13146521, 0.02465913, 0.15536864, 0.09483223,\n",
       "          0.01003968]],\n",
       "\n",
       "        [[0.12456734, 0.05880862, 0.02472384, 0.0484902 , 0.03560128,\n",
       "          0.06631003, 0.11996398, 0.05239339, 0.02596707, 0.12884155,\n",
       "          0.03696565, 0.05873826, 0.08310778, 0.20359293, 0.09519919,\n",
       "          0.00374953]],\n",
       "\n",
       "        [[0.16651441, 0.05066765, 0.00598216, 0.06867009, 0.09943239,\n",
       "          0.06314259, 0.08112495, 0.05056714, 0.02529152, 0.02390663,\n",
       "          0.16373713, 0.10403602, 0.13720095, 0.17669937, 0.10541315,\n",
       "          0.02100905]],\n",
       "\n",
       "        [[0.05581644, 0.00425202, 0.05405286, 0.07732029, 0.16122898,\n",
       "          0.15597495, 0.00307612, 0.03588374, 0.05808177, 0.07816916,\n",
       "          0.01090659, 0.10925332, 0.15102461, 0.17876664, 0.05698403,\n",
       "          0.00578616]]]], dtype=float32)"
      ]
     },
     "execution_count": 647,
     "metadata": {},
     "output_type": "execute_result"
    }
   ],
   "source": [
    "wDiffConv[0]"
   ]
  },
  {
   "cell_type": "markdown",
   "metadata": {},
   "source": [
    "### Assign the values and Calculate the ME "
   ]
  },
  {
   "cell_type": "code",
   "execution_count": 1077,
   "metadata": {},
   "outputs": [],
   "source": [
    "#borderFilter(wConv)\n",
    "#borderFilterFc(wFc)"
   ]
  },
  {
   "cell_type": "code",
   "execution_count": 622,
   "metadata": {},
   "outputs": [
    {
     "data": {
      "text/plain": [
       "[array([[[[0.00482545, 0.        , 0.        , 0.        , 0.13564014,\n",
       "           0.11693471, 0.13347042, 0.07932844, 0.02281787, 0.04330307,\n",
       "           0.06078885, 0.14764208, 0.14154744, 0.15705346, 0.        ,\n",
       "           0.10150275]],\n",
       " \n",
       "         [[0.01899529, 0.        , 0.09831913, 0.0359213 , 0.0426936 ,\n",
       "           0.09006342, 0.18557718, 0.08854203, 0.        , 0.13474256,\n",
       "           0.07627146, 0.20606565, 0.18252592, 0.03997561, 0.00118396,\n",
       "           0.19376722]],\n",
       " \n",
       "         [[0.        , 0.        , 0.04741718, 0.        , 0.        ,\n",
       "           0.02670347, 0.18234122, 0.07891496, 0.        , 0.10524219,\n",
       "           0.        , 0.17767873, 0.09471425, 0.12092065, 0.0512167 ,\n",
       "           0.04419973]],\n",
       " \n",
       "         [[0.        , 0.        , 0.16713016, 0.03448634, 0.        ,\n",
       "           0.02665561, 0.0955156 , 0.02191633, 0.06330841, 0.07235069,\n",
       "           0.        , 0.15929246, 0.146179  , 0.16194744, 0.0107396 ,\n",
       "           0.        ]],\n",
       " \n",
       "         [[0.08010492, 0.        , 0.05065684, 0.06646603, 0.        ,\n",
       "           0.        , 0.12561624, 0.00354533, 0.04156943, 0.        ,\n",
       "           0.        , 0.03092433, 0.01223485, 0.1299851 , 0.        ,\n",
       "           0.        ]]],\n",
       " \n",
       " \n",
       "        [[[0.16684614, 0.        , 0.        , 0.08076239, 0.16407089,\n",
       "           0.06783815, 0.1429317 , 0.07312176, 0.03296786, 0.11246163,\n",
       "           0.1751935 , 0.09877466, 0.2305326 , 0.16706982, 0.        ,\n",
       "           0.09352686]],\n",
       " \n",
       "         [[0.11362264, 0.        , 0.09226622, 0.14428666, 0.04028995,\n",
       "           0.13487378, 0.14391896, 0.2180872 , 0.1014326 , 0.16249207,\n",
       "           0.1330074 , 0.09642415, 0.14809075, 0.18276717, 0.11434839,\n",
       "           0.16313082]],\n",
       " \n",
       "         [[0.05639483, 0.        , 0.15690146, 0.15497448, 0.        ,\n",
       "           0.0314538 , 0.20818292, 0.12189367, 0.02878426, 0.        ,\n",
       "           0.        , 0.04158713, 0.13881382, 0.20958638, 0.04040877,\n",
       "           0.03649899]],\n",
       " \n",
       "         [[0.05613584, 0.        , 0.17930055, 0.12790355, 0.        ,\n",
       "           0.00341981, 0.1625479 , 0.03757505, 0.14750126, 0.        ,\n",
       "           0.        , 0.0746155 , 0.15336429, 0.19495055, 0.        ,\n",
       "           0.        ]],\n",
       " \n",
       "         [[0.09030344, 0.06710728, 0.13655539, 0.07324378, 0.        ,\n",
       "           0.        , 0.14455147, 0.        , 0.04501995, 0.        ,\n",
       "           0.        , 0.        , 0.169352  , 0.07852282, 0.        ,\n",
       "           0.        ]]],\n",
       " \n",
       " \n",
       "        [[[0.08724689, 0.00370491, 0.02892728, 0.15429828, 0.07514219,\n",
       "           0.0877265 , 0.        , 0.00370228, 0.0860782 , 0.14252454,\n",
       "           0.19787648, 0.01909219, 0.22280508, 0.02109448, 0.        ,\n",
       "           0.1401603 ]],\n",
       " \n",
       "         [[0.14090702, 0.07936205, 0.11570122, 0.16410083, 0.1423612 ,\n",
       "           0.13860726, 0.0060335 , 0.03991496, 0.11660194, 0.16260469,\n",
       "           0.14430639, 0.        , 0.14394043, 0.18058899, 0.13375947,\n",
       "           0.09914295]],\n",
       " \n",
       "         [[0.02179894, 0.13816267, 0.1274431 , 0.1127187 , 0.09589679,\n",
       "           0.12703615, 0.        , 0.16823104, 0.04963794, 0.03948244,\n",
       "           0.05858518, 0.01872889, 0.04571983, 0.0268365 , 0.        ,\n",
       "           0.04756336]],\n",
       " \n",
       "         [[0.12873149, 0.11260455, 0.16112341, 0.08769997, 0.01882515,\n",
       "           0.        , 0.        , 0.14757189, 0.03293959, 0.        ,\n",
       "           0.        , 0.09968558, 0.06575096, 0.0149856 , 0.        ,\n",
       "           0.        ]],\n",
       " \n",
       "         [[0.05367014, 0.16347203, 0.10657156, 0.07005672, 0.        ,\n",
       "           0.146984  , 0.12048762, 0.11492124, 0.06659066, 0.        ,\n",
       "           0.        , 0.039516  , 0.00752702, 0.12232126, 0.        ,\n",
       "           0.        ]]],\n",
       " \n",
       " \n",
       "        [[[0.        , 0.21157406, 0.02260325, 0.00817259, 0.18776001,\n",
       "           0.11336528, 0.        , 0.        , 0.04345185, 0.1190896 ,\n",
       "           0.12842125, 0.        , 0.14106226, 0.02594852, 0.07704826,\n",
       "           0.12550472]],\n",
       " \n",
       "         [[0.00824283, 0.19562273, 0.1025579 , 0.11743745, 0.17057891,\n",
       "           0.13546169, 0.        , 0.1595768 , 0.15525171, 0.18008775,\n",
       "           0.18046355, 0.        , 0.05637662, 0.07501643, 0.20350942,\n",
       "           0.09893244]],\n",
       " \n",
       "         [[0.08483229, 0.08887535, 0.13080263, 0.1108164 , 0.1785024 ,\n",
       "           0.08667435, 0.        , 0.09327053, 0.2302842 , 0.18571696,\n",
       "           0.17768654, 0.00832641, 0.        , 0.        , 0.01169412,\n",
       "           0.        ]],\n",
       " \n",
       "         [[0.14346363, 0.08664314, 0.15005136, 0.10507525, 0.18314055,\n",
       "           0.12533563, 0.        , 0.1081313 , 0.13915946, 0.06480377,\n",
       "           0.        , 0.1670251 , 0.        , 0.        , 0.        ,\n",
       "           0.        ]],\n",
       " \n",
       "         [[0.09352484, 0.08589598, 0.11228661, 0.01652974, 0.02344683,\n",
       "           0.07838462, 0.00205664, 0.10987695, 0.120006  , 0.06176663,\n",
       "           0.        , 0.0829607 , 0.        , 0.        , 0.        ,\n",
       "           0.        ]]],\n",
       " \n",
       " \n",
       "        [[[0.01831839, 0.1574995 , 0.04500512, 0.00654241, 0.03484833,\n",
       "           0.14722039, 0.        , 0.        , 0.14179505, 0.13202235,\n",
       "           0.00596892, 0.        , 0.09059855, 0.        , 0.1852106 ,\n",
       "           0.16734762]],\n",
       " \n",
       "         [[0.08958281, 0.22077192, 0.        , 0.        , 0.06077026,\n",
       "           0.14081837, 0.        , 0.        , 0.17587756, 0.        ,\n",
       "           0.1691838 , 0.        , 0.        , 0.        , 0.09483223,\n",
       "           0.01003968]],\n",
       " \n",
       "         [[0.12456734, 0.05880862, 0.02472384, 0.0484902 , 0.03560128,\n",
       "           0.06631003, 0.        , 0.05239339, 0.02596707, 0.12884155,\n",
       "           0.03696565, 0.        , 0.        , 0.        , 0.09519919,\n",
       "           0.        ]],\n",
       " \n",
       "         [[0.16651441, 0.05066765, 0.00598216, 0.06867009, 0.09943239,\n",
       "           0.06314259, 0.        , 0.        , 0.02529152, 0.        ,\n",
       "           0.16373713, 0.10403602, 0.        , 0.        , 0.10541315,\n",
       "           0.        ]],\n",
       " \n",
       "         [[0.05581644, 0.        , 0.05405286, 0.07732029, 0.16122898,\n",
       "           0.15597495, 0.00307612, 0.        , 0.        , 0.07816916,\n",
       "           0.        , 0.10925332, 0.        , 0.        , 0.05698403,\n",
       "           0.00578616]]]], dtype=float32),\n",
       " array([[[[0.        , 0.04784358, 0.00687727, ..., 0.07869203,\n",
       "           0.        , 0.07628115],\n",
       "          [0.02099111, 0.03179882, 0.03542075, ..., 0.13874277,\n",
       "           0.04053296, 0.01470095],\n",
       "          [0.05609584, 0.        , 0.02651439, ..., 0.01169488,\n",
       "           0.0301496 , 0.0339587 ],\n",
       "          ...,\n",
       "          [0.08876468, 0.        , 0.        , ..., 0.        ,\n",
       "           0.        , 0.15951702],\n",
       "          [0.07217124, 0.00542091, 0.        , ..., 0.0061535 ,\n",
       "           0.        , 0.05981905],\n",
       "          [0.07596181, 0.        , 0.03559953, ..., 0.08294365,\n",
       "           0.        , 0.11203958]],\n",
       " \n",
       "         [[0.03647144, 0.0218227 , 0.03360929, ..., 0.03643049,\n",
       "           0.        , 0.        ],\n",
       "          [0.        , 0.08917902, 0.0480903 , ..., 0.06459819,\n",
       "           0.        , 0.        ],\n",
       "          [0.        , 0.        , 0.10879149, ..., 0.        ,\n",
       "           0.        , 0.        ],\n",
       "          ...,\n",
       "          [0.        , 0.01056194, 0.        , ..., 0.03438802,\n",
       "           0.        , 0.07572855],\n",
       "          [0.01313949, 0.07493195, 0.00247854, ..., 0.02041014,\n",
       "           0.        , 0.        ],\n",
       "          [0.05011354, 0.        , 0.        , ..., 0.        ,\n",
       "           0.08636906, 0.0857379 ]],\n",
       " \n",
       "         [[0.04206001, 0.07437899, 0.        , ..., 0.        ,\n",
       "           0.03037804, 0.        ],\n",
       "          [0.        , 0.06342666, 0.04038406, ..., 0.19059013,\n",
       "           0.        , 0.        ],\n",
       "          [0.        , 0.        , 0.        , ..., 0.        ,\n",
       "           0.01828608, 0.        ],\n",
       "          ...,\n",
       "          [0.        , 0.        , 0.        , ..., 0.        ,\n",
       "           0.        , 0.        ],\n",
       "          [0.        , 0.        , 0.08440872, ..., 0.02143694,\n",
       "           0.04305262, 0.00761372],\n",
       "          [0.03437153, 0.05482177, 0.09665079, ..., 0.        ,\n",
       "           0.03953665, 0.00021456]],\n",
       " \n",
       "         [[0.        , 0.1041625 , 0.        , ..., 0.00220001,\n",
       "           0.03430244, 0.        ],\n",
       "          [0.        , 0.01997482, 0.        , ..., 0.10364881,\n",
       "           0.        , 0.        ],\n",
       "          [0.        , 0.00119839, 0.        , ..., 0.03750478,\n",
       "           0.        , 0.        ],\n",
       "          ...,\n",
       "          [0.        , 0.04945785, 0.        , ..., 0.09079301,\n",
       "           0.        , 0.        ],\n",
       "          [0.        , 0.04063379, 0.02385861, ..., 0.04151136,\n",
       "           0.03065481, 0.        ],\n",
       "          [0.05514019, 0.        , 0.10878977, ..., 0.0188321 ,\n",
       "           0.06325308, 0.0642254 ]],\n",
       " \n",
       "         [[0.        , 0.0218997 , 0.        , ..., 0.03831129,\n",
       "           0.        , 0.        ],\n",
       "          [0.        , 0.00814683, 0.        , ..., 0.05266788,\n",
       "           0.        , 0.03947216],\n",
       "          [0.        , 0.        , 0.        , ..., 0.        ,\n",
       "           0.04851914, 0.01462471],\n",
       "          ...,\n",
       "          [0.        , 0.        , 0.        , ..., 0.16020386,\n",
       "           0.00613292, 0.00324141],\n",
       "          [0.        , 0.        , 0.00891189, ..., 0.        ,\n",
       "           0.        , 0.        ],\n",
       "          [0.03560722, 0.10207123, 0.        , ..., 0.02090649,\n",
       "           0.        , 0.        ]]],\n",
       " \n",
       " \n",
       "        [[[0.00381187, 0.0010077 , 0.02892401, ..., 0.08980897,\n",
       "           0.        , 0.        ],\n",
       "          [0.01672537, 0.04194012, 0.05594017, ..., 0.        ,\n",
       "           0.        , 0.        ],\n",
       "          [0.0327044 , 0.04629887, 0.01226397, ..., 0.10508993,\n",
       "           0.        , 0.        ],\n",
       "          ...,\n",
       "          [0.04967566, 0.        , 0.        , ..., 0.13417435,\n",
       "           0.03707204, 0.06176212],\n",
       "          [0.        , 0.        , 0.02295159, ..., 0.        ,\n",
       "           0.04045801, 0.        ],\n",
       "          [0.0861086 , 0.02326548, 0.        , ..., 0.        ,\n",
       "           0.0652118 , 0.03796512]],\n",
       " \n",
       "         [[0.        , 0.0035657 , 0.02663571, ..., 0.01492491,\n",
       "           0.0626764 , 0.        ],\n",
       "          [0.02190035, 0.09056096, 0.00142833, ..., 0.00659761,\n",
       "           0.        , 0.        ],\n",
       "          [0.        , 0.        , 0.        , ..., 0.01349648,\n",
       "           0.0490165 , 0.        ],\n",
       "          ...,\n",
       "          [0.        , 0.        , 0.00629458, ..., 0.16387118,\n",
       "           0.        , 0.01681623],\n",
       "          [0.        , 0.        , 0.06632937, ..., 0.        ,\n",
       "           0.        , 0.        ],\n",
       "          [0.04157301, 0.        , 0.        , ..., 0.        ,\n",
       "           0.02735455, 0.        ]],\n",
       " \n",
       "         [[0.00385816, 0.03411905, 0.00350254, ..., 0.03566796,\n",
       "           0.02064211, 0.        ],\n",
       "          [0.03603259, 0.14959717, 0.        , ..., 0.        ,\n",
       "           0.        , 0.        ],\n",
       "          [0.01088421, 0.11116766, 0.        , ..., 0.        ,\n",
       "           0.        , 0.        ],\n",
       "          ...,\n",
       "          [0.        , 0.05082857, 0.06456579, ..., 0.16089955,\n",
       "           0.        , 0.        ],\n",
       "          [0.        , 0.04096251, 0.01298569, ..., 0.01530436,\n",
       "           0.        , 0.        ],\n",
       "          [0.        , 0.00449755, 0.08833515, ..., 0.        ,\n",
       "           0.00428456, 0.04040334]],\n",
       " \n",
       "         [[0.        , 0.0687698 , 0.        , ..., 0.        ,\n",
       "           0.0824275 , 0.05564562],\n",
       "          [0.        , 0.13526537, 0.        , ..., 0.        ,\n",
       "           0.        , 0.07819999],\n",
       "          [0.        , 0.01239172, 0.        , ..., 0.        ,\n",
       "           0.02299243, 0.        ],\n",
       "          ...,\n",
       "          [0.0314232 , 0.01850801, 0.        , ..., 0.15436593,\n",
       "           0.01255408, 0.        ],\n",
       "          [0.        , 0.03834864, 0.03758496, ..., 0.        ,\n",
       "           0.09627633, 0.        ],\n",
       "          [0.        , 0.10956474, 0.06418363, ..., 0.        ,\n",
       "           0.14860108, 0.        ]],\n",
       " \n",
       "         [[0.07633039, 0.        , 0.        , ..., 0.        ,\n",
       "           0.03773464, 0.06183761],\n",
       "          [0.11608429, 0.0462836 , 0.02438002, ..., 0.        ,\n",
       "           0.        , 0.10004382],\n",
       "          [0.05343372, 0.1368933 , 0.        , ..., 0.        ,\n",
       "           0.        , 0.03086231],\n",
       "          ...,\n",
       "          [0.        , 0.13463338, 0.        , ..., 0.06764825,\n",
       "           0.        , 0.0449487 ],\n",
       "          [0.0259438 , 0.        , 0.03553939, ..., 0.        ,\n",
       "           0.07009728, 0.05295892],\n",
       "          [0.01640663, 0.02983614, 0.        , ..., 0.00074076,\n",
       "           0.02984647, 0.08250369]]],\n",
       " \n",
       " \n",
       "        [[[0.        , 0.02189867, 0.        , ..., 0.02321616,\n",
       "           0.04183125, 0.        ],\n",
       "          [0.14920041, 0.03191615, 0.        , ..., 0.        ,\n",
       "           0.        , 0.04210436],\n",
       "          [0.05664993, 0.04023631, 0.01294528, ..., 0.        ,\n",
       "           0.        , 0.        ],\n",
       "          ...,\n",
       "          [0.        , 0.08924535, 0.00600353, ..., 0.10883463,\n",
       "           0.        , 0.        ],\n",
       "          [0.        , 0.        , 0.        , ..., 0.        ,\n",
       "           0.        , 0.        ],\n",
       "          [0.        , 0.        , 0.00719417, ..., 0.        ,\n",
       "           0.        , 0.03824591]],\n",
       " \n",
       "         [[0.0212045 , 0.03130652, 0.0406597 , ..., 0.02917299,\n",
       "           0.04801365, 0.        ],\n",
       "          [0.01179293, 0.        , 0.04419319, ..., 0.        ,\n",
       "           0.02871141, 0.00659002],\n",
       "          [0.01202036, 0.        , 0.03116906, ..., 0.01231281,\n",
       "           0.        , 0.        ],\n",
       "          ...,\n",
       "          [0.03865837, 0.13220192, 0.08478938, ..., 0.00889399,\n",
       "           0.        , 0.        ],\n",
       "          [0.        , 0.        , 0.        , ..., 0.00712192,\n",
       "           0.        , 0.02207943],\n",
       "          [0.        , 0.        , 0.08799308, ..., 0.        ,\n",
       "           0.        , 0.02763841]],\n",
       " \n",
       "         [[0.        , 0.01537286, 0.0757551 , ..., 0.        ,\n",
       "           0.        , 0.        ],\n",
       "          [0.038225  , 0.        , 0.01329909, ..., 0.        ,\n",
       "           0.03219096, 0.07177607],\n",
       "          [0.        , 0.        , 0.02429262, ..., 0.        ,\n",
       "           0.10258578, 0.05484662],\n",
       "          ...,\n",
       "          [0.01027015, 0.10640331, 0.0013486 , ..., 0.        ,\n",
       "           0.        , 0.        ],\n",
       "          [0.        , 0.02916587, 0.07809873, ..., 0.        ,\n",
       "           0.        , 0.        ],\n",
       "          [0.        , 0.09723252, 0.02889493, ..., 0.        ,\n",
       "           0.02433731, 0.01552453]],\n",
       " \n",
       "         [[0.03707224, 0.        , 0.00630553, ..., 0.        ,\n",
       "           0.        , 0.03601774],\n",
       "          [0.11407055, 0.        , 0.        , ..., 0.02505789,\n",
       "           0.        , 0.01319974],\n",
       "          [0.02471223, 0.        , 0.        , ..., 0.        ,\n",
       "           0.12007078, 0.14279662],\n",
       "          ...,\n",
       "          [0.12123516, 0.        , 0.        , ..., 0.04335485,\n",
       "           0.06102787, 0.        ],\n",
       "          [0.        , 0.00518807, 0.03148769, ..., 0.03884635,\n",
       "           0.08226324, 0.        ],\n",
       "          [0.        , 0.0025291 , 0.        , ..., 0.        ,\n",
       "           0.16660185, 0.01314175]],\n",
       " \n",
       "         [[0.        , 0.        , 0.00969996, ..., 0.        ,\n",
       "           0.        , 0.        ],\n",
       "          [0.12096594, 0.        , 0.        , ..., 0.08558299,\n",
       "           0.        , 0.        ],\n",
       "          [0.02186276, 0.        , 0.03662988, ..., 0.        ,\n",
       "           0.0331359 , 0.01866401],\n",
       "          ...,\n",
       "          [0.14613661, 0.12599409, 0.        , ..., 0.01252259,\n",
       "           0.        , 0.13099273],\n",
       "          [0.        , 0.01386048, 0.03744368, ..., 0.01488643,\n",
       "           0.        , 0.06619985],\n",
       "          [0.        , 0.        , 0.        , ..., 0.        ,\n",
       "           0.02171095, 0.0712262 ]]],\n",
       " \n",
       " \n",
       "        [[[0.        , 0.        , 0.        , ..., 0.        ,\n",
       "           0.05382325, 0.        ],\n",
       "          [0.        , 0.01402146, 0.06086875, ..., 0.08501918,\n",
       "           0.        , 0.        ],\n",
       "          [0.00659018, 0.        , 0.        , ..., 0.        ,\n",
       "           0.        , 0.        ],\n",
       "          ...,\n",
       "          [0.        , 0.        , 0.        , ..., 0.        ,\n",
       "           0.        , 0.        ],\n",
       "          [0.        , 0.02198616, 0.        , ..., 0.        ,\n",
       "           0.        , 0.08635163],\n",
       "          [0.        , 0.        , 0.02517195, ..., 0.        ,\n",
       "           0.        , 0.10982627]],\n",
       " \n",
       "         [[0.        , 0.        , 0.0123047 , ..., 0.        ,\n",
       "           0.0615799 , 0.        ],\n",
       "          [0.00703729, 0.        , 0.        , ..., 0.06255348,\n",
       "           0.11623391, 0.        ],\n",
       "          [0.05067694, 0.03997528, 0.00540215, ..., 0.00180519,\n",
       "           0.10340262, 0.        ],\n",
       "          ...,\n",
       "          [0.00222507, 0.05396348, 0.04922141, ..., 0.        ,\n",
       "           0.        , 0.        ],\n",
       "          [0.        , 0.049634  , 0.        , ..., 0.01621345,\n",
       "           0.        , 0.        ],\n",
       "          [0.        , 0.06864295, 0.        , ..., 0.        ,\n",
       "           0.00108486, 0.02202161]],\n",
       " \n",
       "         [[0.01206263, 0.        , 0.        , ..., 0.        ,\n",
       "           0.        , 0.01742111],\n",
       "          [0.        , 0.        , 0.06916556, ..., 0.04160885,\n",
       "           0.        , 0.01784855],\n",
       "          [0.03720332, 0.        , 0.        , ..., 0.        ,\n",
       "           0.08725529, 0.08696166],\n",
       "          ...,\n",
       "          [0.        , 0.        , 0.        , ..., 0.        ,\n",
       "           0.01845886, 0.        ],\n",
       "          [0.00183318, 0.07595485, 0.03222632, ..., 0.08871171,\n",
       "           0.00329285, 0.        ],\n",
       "          [0.        , 0.022252  , 0.        , ..., 0.        ,\n",
       "           0.02664415, 0.        ]],\n",
       " \n",
       "         [[0.        , 0.        , 0.06682383, ..., 0.01888411,\n",
       "           0.01342966, 0.05781525],\n",
       "          [0.07045808, 0.        , 0.        , ..., 0.04771107,\n",
       "           0.        , 0.        ],\n",
       "          [0.01226187, 0.        , 0.02924328, ..., 0.        ,\n",
       "           0.        , 0.04163788],\n",
       "          ...,\n",
       "          [0.05569803, 0.06549904, 0.0552865 , ..., 0.        ,\n",
       "           0.07466596, 0.        ],\n",
       "          [0.05386255, 0.        , 0.01572381, ..., 0.01988415,\n",
       "           0.        , 0.05257818],\n",
       "          [0.        , 0.02965822, 0.04489996, ..., 0.        ,\n",
       "           0.10281572, 0.0018859 ]],\n",
       " \n",
       "         [[0.        , 0.        , 0.08940773, ..., 0.11876676,\n",
       "           0.        , 0.1262036 ],\n",
       "          [0.0050954 , 0.        , 0.04156628, ..., 0.09774669,\n",
       "           0.        , 0.        ],\n",
       "          [0.01544574, 0.        , 0.        , ..., 0.00698644,\n",
       "           0.        , 0.04617371],\n",
       "          ...,\n",
       "          [0.02835531, 0.00680696, 0.07548979, ..., 0.        ,\n",
       "           0.08069488, 0.0029159 ],\n",
       "          [0.        , 0.09672725, 0.0342389 , ..., 0.05350126,\n",
       "           0.03364591, 0.04053058],\n",
       "          [0.        , 0.        , 0.        , ..., 0.        ,\n",
       "           0.        , 0.15788636]]],\n",
       " \n",
       " \n",
       "        [[[0.        , 0.02051115, 0.        , ..., 0.07225969,\n",
       "           0.01569126, 0.1022009 ],\n",
       "          [0.        , 0.0541515 , 0.        , ..., 0.03439141,\n",
       "           0.08504578, 0.05060754],\n",
       "          [0.02299861, 0.        , 0.        , ..., 0.02353409,\n",
       "           0.02062428, 0.        ],\n",
       "          ...,\n",
       "          [0.        , 0.        , 0.        , ..., 0.        ,\n",
       "           0.        , 0.01097526],\n",
       "          [0.        , 0.11886369, 0.00255136, ..., 0.        ,\n",
       "           0.        , 0.04897302],\n",
       "          [0.        , 0.01086168, 0.05763832, ..., 0.04355958,\n",
       "           0.        , 0.02697983]],\n",
       " \n",
       "         [[0.06010642, 0.        , 0.        , ..., 0.03777678,\n",
       "           0.        , 0.        ],\n",
       "          [0.04986987, 0.        , 0.00172757, ..., 0.0407257 ,\n",
       "           0.07566635, 0.        ],\n",
       "          [0.03092406, 0.        , 0.        , ..., 0.        ,\n",
       "           0.11247371, 0.05417269],\n",
       "          ...,\n",
       "          [0.03659938, 0.01603066, 0.        , ..., 0.04318385,\n",
       "           0.        , 0.        ],\n",
       "          [0.07435383, 0.        , 0.        , ..., 0.07785209,\n",
       "           0.03234489, 0.01407868],\n",
       "          [0.        , 0.04235342, 0.        , ..., 0.1207921 ,\n",
       "           0.06535354, 0.10313573]],\n",
       " \n",
       "         [[0.0135713 , 0.        , 0.01751803, ..., 0.        ,\n",
       "           0.03794221, 0.04186387],\n",
       "          [0.        , 0.        , 0.11036012, ..., 0.        ,\n",
       "           0.        , 0.03245662],\n",
       "          [0.00407935, 0.        , 0.        , ..., 0.        ,\n",
       "           0.0099325 , 0.0551929 ],\n",
       "          ...,\n",
       "          [0.00949644, 0.        , 0.01469327, ..., 0.        ,\n",
       "           0.05523138, 0.        ],\n",
       "          [0.        , 0.03496252, 0.01168928, ..., 0.04575837,\n",
       "           0.05591557, 0.        ],\n",
       "          [0.05119184, 0.        , 0.        , ..., 0.09174148,\n",
       "           0.08882314, 0.        ]],\n",
       " \n",
       "         [[0.00388532, 0.        , 0.        , ..., 0.04695812,\n",
       "           0.        , 0.07404254],\n",
       "          [0.07764888, 0.        , 0.04584987, ..., 0.        ,\n",
       "           0.        , 0.        ],\n",
       "          [0.        , 0.        , 0.02960501, ..., 0.07228606,\n",
       "           0.        , 0.04023719],\n",
       "          ...,\n",
       "          [0.01086259, 0.        , 0.02713247, ..., 0.        ,\n",
       "           0.03309442, 0.        ],\n",
       "          [0.00935271, 0.01394968, 0.        , ..., 0.        ,\n",
       "           0.        , 0.        ],\n",
       "          [0.        , 0.01925341, 0.        , ..., 0.        ,\n",
       "           0.0714917 , 0.        ]],\n",
       " \n",
       "         [[0.        , 0.        , 0.        , ..., 0.03458137,\n",
       "           0.        , 0.0340518 ],\n",
       "          [0.05011106, 0.0607815 , 0.        , ..., 0.10587592,\n",
       "           0.        , 0.        ],\n",
       "          [0.        , 0.        , 0.0484235 , ..., 0.03939942,\n",
       "           0.        , 0.07527955],\n",
       "          ...,\n",
       "          [0.        , 0.        , 0.        , ..., 0.00655258,\n",
       "           0.        , 0.07250147],\n",
       "          [0.        , 0.00679058, 0.        , ..., 0.08291127,\n",
       "           0.        , 0.07610342],\n",
       "          [0.        , 0.        , 0.        , ..., 0.        ,\n",
       "           0.        , 0.04836358]]]], dtype=float32)]"
      ]
     },
     "execution_count": 622,
     "metadata": {},
     "output_type": "execute_result"
    }
   ],
   "source": [
    "wConv"
   ]
  },
  {
   "cell_type": "markdown",
   "metadata": {},
   "source": [
    "## make sure where the filters are being assigned since that can affect how the filter weights appear"
   ]
  },
  {
   "cell_type": "code",
   "execution_count": 648,
   "metadata": {},
   "outputs": [
    {
     "name": "stdout",
     "output_type": "stream",
     "text": [
      "the number of filters is \n",
      "16\n",
      "the number of images is\n",
      "100\n",
      "the number of filters is \n",
      "36\n",
      "the number of images is\n",
      "100\n",
      "[284.0943159484863, 288.8352099609375, 298.04502182006837, 305.32520172119143, 307.680401763916, 310.5993087768555, 312.8354042053223, 317.97241851806643, 319.5869285583496, 320.20006256103517, 320.6418853759766, 322.2294032287598, 322.29614456176756, 322.5850440979004, 326.6094387817383, 326.65364349365234, 326.7122821044922, 328.22751846313474, 333.48359313964846, 334.3026467895508, 334.41574966430665, 335.65382919311526, 336.5212094116211, 349.8987525939941, 355.77804122924806, 357.09387008666994, 358.87083557128904, 360.4236633300781, 363.7716474914551, 368.0089872741699, 368.81969665527345, 372.4162484741211, 385.30822982788084, 386.35286315917966, 396.9577099609375, 402.0483027648926]\n"
     ]
    }
   ],
   "source": [
    "assignFilters(wConv,wOrigFc)\n",
    "\n",
    "#------ this assign_op is only for assigning the first conv and first fc layer ------#\n",
    "\n",
    "assign_op = weightsFcMat[0].assign(wDiffFc[0])\n",
    "session.run(assign_op)\n",
    "assign_op = weightsConvMat[0].assign(wDiffConv[0])\n",
    "session.run(assign_op)\n",
    "\n",
    "valuesConvMat, valuesFcMat, numImg = loadValues(100)\n",
    "\n",
    "#MEConv1,MEConv1Sorted = calculateConvME(valuesConvMat[0])\n",
    "MEConv1Sorted = calculateConvMEDynamic(valuesConvMat[0])\n",
    "\n",
    "#MEConv2Static, MEConv2StaticSorted = calculateConvME(valuesConvMat[1])\n",
    "\n",
    "#\n",
    "#MEFullyConnected1, MEFullyConnected1Sorted = calculateFCME(valuesFcMat[0])\n",
    "MEFullyConnected1Sorted = calculateFCMEDynamic(valuesFcMat[0])\n",
    "#MEFullyConnected2Sorted = calculateFCMEDynamic(valuesFcMat[1])\n",
    "assignFilters(wConv,wOrigFc)\n",
    "\n",
    "assign_op = weightsConvMat[1].assign(wDiffConv[1])\n",
    "session.run(assign_op)\n",
    "\n",
    "valuesConvMat,valuesFcMat,numImg = loadValues(100)\n",
    "\n",
    "#MEConv2,MEConv2Sorted = calculateConvME(valuesConvMat[1])\n",
    "\n",
    "MEConv2Sorted = calculateConvMEDynamic(valuesConvMat[1])\n",
    "\n",
    "# assign_op is used to assign weights to the actual network. Unless the weight assignment is done, the changes from \n",
    "# actual to approximate filters is not reflected in the system. \n",
    "\n",
    "#------ this assign_op is only for assigning the second conv and second fc layer ------#\n",
    "\n",
    "assign_op = weightsFcMat[1].assign(wDiffFc[1])\n",
    "session.run(assign_op)\n",
    "valuesConvMat,valuesFcMat,numImg = loadValues(100)\n",
    "\n",
    "#MEFullyConnected2, MEFullyConnected2Sorted = calculateFCME(valuesFcMat[1])\n",
    "MEFullyConnected2Sorted = calculateFCMEDynamic(valuesFcMat[1])\n",
    "#print(\"This is the ME for the convolution layer\")\n",
    "#print(MEConv2Sorted)\n",
    "\n",
    "MEConvMat = [MEConv1Sorted, MEConv2Sorted]\n",
    "#print(MEConv1Sorted)\n",
    "MEFullyConnectedMat = [MEFullyConnected1Sorted, MEFullyConnected2Sorted]\n",
    "#print(MEConv2Sorted)\n",
    "#print(\"the ME of Conv2 from the static approximation is\")\n",
    "print(MEConv2Sorted)"
   ]
  },
  {
   "cell_type": "code",
   "execution_count": 649,
   "metadata": {},
   "outputs": [
    {
     "data": {
      "text/plain": [
       "[0.05109483987092972,\n",
       " 0.05833905979990959,\n",
       " 0.04691004622727633,\n",
       " 0.05542403116822243,\n",
       " 0.05688080444931984,\n",
       " 0.05264612458646298,\n",
       " 0.051166584938764574,\n",
       " 0.05894976690411568,\n",
       " 0.057829303927719594,\n",
       " 0.0632626960426569,\n",
       " 0.05623018216341734,\n",
       " 0.04617293491959572,\n",
       " 0.06279022738337517,\n",
       " 0.051082893311977386,\n",
       " 0.049565053768455984,\n",
       " 0.052333481907844544,\n",
       " 0.05901748910546303,\n",
       " 0.0559156085178256,\n",
       " 0.05354891058057547,\n",
       " 0.047608129568398,\n",
       " 0.04592835489660502,\n",
       " 0.05820996284484863,\n",
       " 0.04776036880910397,\n",
       " 0.04876382693648338,\n",
       " 0.04144515246152878,\n",
       " 0.062013649940490724,\n",
       " 0.05010244894772768,\n",
       " 0.04760973803699017,\n",
       " 0.04398913849145174,\n",
       " 0.05294070556759834,\n",
       " 0.044730598777532576,\n",
       " 0.05522661030292511,\n",
       " 0.05374282378703356,\n",
       " 0.06651786148548126,\n",
       " 0.04757291704416275,\n",
       " 0.04876160588115454,\n",
       " 0.045949221774935725,\n",
       " 0.05753447826951742,\n",
       " 0.03961242485791445,\n",
       " 0.0465198728069663,\n",
       " 0.04575294192880392,\n",
       " 0.06329813599586487,\n",
       " 0.06180706411600113,\n",
       " 0.059083791896700856,\n",
       " 0.04848971001803875,\n",
       " 0.04823209580034018,\n",
       " 0.044931539110839365,\n",
       " 0.04304627675563097,\n",
       " 0.05464583836495876,\n",
       " 0.04765733473002911,\n",
       " 0.05693291641771794,\n",
       " 0.061232429705560205,\n",
       " 0.04845956388860941,\n",
       " 0.05440733078867197,\n",
       " 0.0593631686642766,\n",
       " 0.06547110922634601,\n",
       " 0.06138958189636469,\n",
       " 0.04700088538229465,\n",
       " 0.06408663004636765,\n",
       " 0.05812087778002024,\n",
       " 0.04862764593213797,\n",
       " 0.04689610168337822,\n",
       " 0.044124764204025266,\n",
       " 0.05341606516391039,\n",
       " 0.05875593487173319,\n",
       " 0.05185299087315798,\n",
       " 0.06228534236550331,\n",
       " 0.058970101587474344,\n",
       " 0.06451494134962558,\n",
       " 0.05895335927605629,\n",
       " 0.06570539869368076,\n",
       " 0.04116988096386194,\n",
       " 0.05469778120517731,\n",
       " 0.04660012595355511,\n",
       " 0.04927575223147869,\n",
       " 0.04950524784624576,\n",
       " 0.05289980299770832,\n",
       " 0.049797233156859876,\n",
       " 0.051469243243336675,\n",
       " 0.0572810585424304,\n",
       " 0.04789799183607101,\n",
       " 0.05571020569652319,\n",
       " 0.05173268739134073,\n",
       " 0.04734290607273579,\n",
       " 0.05348871476948261,\n",
       " 0.04709827806800604,\n",
       " 0.04509592317044735,\n",
       " 0.0565622242167592,\n",
       " 0.06414577297866345,\n",
       " 0.058037707097828385,\n",
       " 0.04191708877682686,\n",
       " 0.050978426970541474,\n",
       " 0.04661271717399359,\n",
       " 0.04578152067959309,\n",
       " 0.04722930621355772,\n",
       " 0.046313931420445445,\n",
       " 0.05491770192980766,\n",
       " 0.054734121263027194,\n",
       " 0.045584830678999426,\n",
       " 0.05304802242666483,\n",
       " 0.039313229992985727,\n",
       " 0.047384239919483664,\n",
       " 0.04686639718711376,\n",
       " 0.06195081822574139,\n",
       " 0.055006024427711964,\n",
       " 0.042203152701258656,\n",
       " 0.06660316288471221,\n",
       " 0.047007515542209145,\n",
       " 0.04663600698113442,\n",
       " 0.04749733537435532,\n",
       " 0.050514012575149536,\n",
       " 0.059359712600708006,\n",
       " 0.06836471065878869,\n",
       " 0.048378717079758646,\n",
       " 0.046609817445278166,\n",
       " 0.04584668684750795,\n",
       " 0.04447777472436428,\n",
       " 0.045508981719613074,\n",
       " 0.05868176467716694,\n",
       " 0.054513669572770596,\n",
       " 0.05084388718008995,\n",
       " 0.055972871147096155,\n",
       " 0.06288178123533726,\n",
       " 0.06016347669064999,\n",
       " 0.05217686489224434,\n",
       " 0.06593528762459755,\n",
       " 0.04810244366526604,\n",
       " 0.056015254817903044]"
      ]
     },
     "execution_count": 649,
     "metadata": {},
     "output_type": "execute_result"
    }
   ],
   "source": [
    "MEFullyConnected1\n",
    "\n"
   ]
  },
  {
   "cell_type": "code",
   "execution_count": 650,
   "metadata": {},
   "outputs": [
    {
     "data": {
      "text/plain": [
       "<tensorflow.python.ops.variables.Variable at 0x1c3071bc88>"
      ]
     },
     "execution_count": 650,
     "metadata": {},
     "output_type": "execute_result"
    }
   ],
   "source": [
    "weightsFcMat[0]"
   ]
  },
  {
   "cell_type": "code",
   "execution_count": 651,
   "metadata": {},
   "outputs": [
    {
     "data": {
      "text/plain": [
       "128"
      ]
     },
     "execution_count": 651,
     "metadata": {},
     "output_type": "execute_result"
    }
   ],
   "source": [
    "thisLength"
   ]
  },
  {
   "cell_type": "code",
   "execution_count": 652,
   "metadata": {},
   "outputs": [
    {
     "name": "stdout",
     "output_type": "stream",
     "text": [
      "[73.6267084312439, 77.08518527984619, 98.07573558807373, 98.324525680542, 108.294937210083, 110.27771228790283, 140.82943885803223, 143.02461177825927, 143.86016880035402, 149.54449592590333, 164.56419452667237, 168.4983017730713, 172.18049980163573, 175.7569090270996, 175.83185806274415, 184.52614120483398]\n"
     ]
    }
   ],
   "source": [
    "## Fully connected layers\n",
    "\n",
    "print(MEConvMat[0])\n",
    "printingFCME = [] + MEFullyConnectedMat\n",
    "\n",
    "## Convolution Layers\n",
    "printingConvME = [] + MEConvMat\n"
   ]
  },
  {
   "cell_type": "code",
   "execution_count": 653,
   "metadata": {},
   "outputs": [],
   "source": [
    "##centroidFilter(wConv,wFc)\n",
    "thisLength = len(MEFullyConnectedMat[0])\n"
   ]
  },
  {
   "cell_type": "code",
   "execution_count": 654,
   "metadata": {},
   "outputs": [],
   "source": [
    "#printingFCME[0].sort()\n",
    "#printingFCME[1].sort()\n",
    "#printingConvME[0].sort()\n",
    "#printingConvME[1].sort()\n",
    "newCheckSum1 = calculateCheckSum(wConv[0],wOrigConv[0])## we are only appending the checksum for conv layer 0\n",
    "newCheckSum2 = calculateCheckSum(wConv[1], wOrigConv[1]) ## this is for conv layer 2\n",
    "checkSumConvLayer1.append(newCheckSum1)\n",
    "checkSumConvLayer2.append(newCheckSum2)\n"
   ]
  },
  {
   "cell_type": "code",
   "execution_count": 655,
   "metadata": {},
   "outputs": [],
   "source": [
    "newCheckSum3 = calculateCheckSumFc(wFc[0], wOrigFc[0])\n",
    "newCheckSum4 = calculateCheckSumFc(wFc[1], wOrigFc[1])\n",
    "checkSumFCLayer1.append(newCheckSum3)\n",
    "checkSumFCLayer2.append(newCheckSum4)"
   ]
  },
  {
   "cell_type": "code",
   "execution_count": 656,
   "metadata": {},
   "outputs": [
    {
     "name": "stdout",
     "output_type": "stream",
     "text": [
      "1\n",
      "1\n",
      "1\n",
      "1\n"
     ]
    }
   ],
   "source": [
    "print(len(checkSumConvLayer1))\n",
    "print(len(checkSumConvLayer2))\n",
    "print(len(checkSumFCLayer1))\n",
    "print(len(checkSumFCLayer2))"
   ]
  },
  {
   "cell_type": "code",
   "execution_count": 657,
   "metadata": {},
   "outputs": [
    {
     "data": {
      "text/plain": [
       "[11.021206068992615,\n",
       " 13.405102419853211,\n",
       " 14.545780940055847,\n",
       " 14.583310627937317,\n",
       " 14.874633364677429,\n",
       " 15.352495551109314,\n",
       " 19.747024450302124,\n",
       " 46.15022146224975,\n",
       " 47.895413398742676,\n",
       " 51.58934001922607]"
      ]
     },
     "execution_count": 657,
     "metadata": {},
     "output_type": "execute_result"
    }
   ],
   "source": [
    "printingFCME[1]    "
   ]
  },
  {
   "cell_type": "code",
   "execution_count": 660,
   "metadata": {},
   "outputs": [
    {
     "name": "stdout",
     "output_type": "stream",
     "text": [
      "[284.0943159484863, 288.8352099609375, 298.04502182006837, 305.32520172119143, 307.680401763916, 310.5993087768555, 312.8354042053223, 317.97241851806643, 319.5869285583496, 320.20006256103517, 320.6418853759766, 322.2294032287598, 322.29614456176756, 322.5850440979004, 326.6094387817383, 326.65364349365234, 326.7122821044922, 328.22751846313474, 333.48359313964846, 334.3026467895508, 334.41574966430665, 335.65382919311526, 336.5212094116211, 349.8987525939941, 355.77804122924806, 357.09387008666994, 358.87083557128904, 360.4236633300781, 363.7716474914551, 368.0089872741699, 368.81969665527345, 372.4162484741211, 385.30822982788084, 386.35286315917966, 396.9577099609375, 402.0483027648926]\n"
     ]
    },
    {
     "data": {
      "image/png": "[encoded data removed]",
      "text/plain": [
       "<Figure size 432x288 with 1 Axes>"
      ]
     },
     "metadata": {
      "needs_background": "light"
     },
     "output_type": "display_data"
    }
   ],
   "source": [
    "\n",
    "\n",
    "#printingFCME[0].sort()\n",
    "#printingFCME[1].sort()\n",
    "#printingConvME[0].sort()\n",
    "#printingConvME[1].sort()\n",
    "print(printingConvME[1])\n",
    "\n",
    "#plotMEConvolution(printingConvME[0], printingConvME[1])\n",
    "plotMEFullyConnected(printingFCME[0], printingFCME[1])\n",
    "#plotME(printingConvME[1])\n",
    "#plotME(printingConvME[1])"
   ]
  },
  {
   "cell_type": "code",
   "execution_count": 137,
   "metadata": {},
   "outputs": [
    {
     "name": "stdout",
     "output_type": "stream",
     "text": [
      "[85.7379026222229, 90.43793113708496, 95.11084922790528, 98.16531776428222, 106.55585374832154, 108.30533372879029, 112.69971153259277, 118.49580753326416, 121.55774440765381, 124.68165267944336, 125.00883766174316, 127.6857112121582, 131.14346092224122, 131.80042156219483, 139.08511531829834, 147.21158721923828]\n"
     ]
    },
    {
     "data": {
      "image/png": "[encoded data removed]",
      "text/plain": [
       "<Figure size 432x288 with 1 Axes>"
      ]
     },
     "metadata": {
      "needs_background": "light"
     },
     "output_type": "display_data"
    }
   ],
   "source": [
    "plotME(printingConvME[0])\n",
    "#print(printingConvME[1])\n",
    "#plotME(MEConvMatBorder[0])"
   ]
  },
  {
   "cell_type": "code",
   "execution_count": 116,
   "metadata": {},
   "outputs": [],
   "source": [
    "#plotME(MEConvMatTruncate[0])"
   ]
  },
  {
   "cell_type": "code",
   "execution_count": 410,
   "metadata": {},
   "outputs": [
    {
     "data": {
      "text/plain": [
       "[[1.4061772906780243,\n",
       "  1.4372267889976502,\n",
       "  1.4590351915359496,\n",
       "  1.4594764840602874,\n",
       "  1.4687951457500459,\n",
       "  1.4694240963459015,\n",
       "  1.4836366283893585,\n",
       "  1.4879925119876862,\n",
       "  1.4892203140258788,\n",
       "  1.493982845544815,\n",
       "  1.4957626748085022,\n",
       "  1.5104880666732787,\n",
       "  1.5139175188541412,\n",
       "  1.515634400844574,\n",
       "  1.5170476269721984,\n",
       "  1.519372169971466,\n",
       "  1.5203617799282074,\n",
       "  1.5257357573509216,\n",
       "  1.5310826301574707,\n",
       "  1.5319423305988311,\n",
       "  1.5330543255805968,\n",
       "  1.5433992540836334,\n",
       "  1.548319664001465,\n",
       "  1.5537010967731475,\n",
       "  1.5551402831077576,\n",
       "  1.5565727710723878,\n",
       "  1.5572242188453673,\n",
       "  1.5592043685913086,\n",
       "  1.5643128740787506,\n",
       "  1.5680928468704223,\n",
       "  1.569286140203476,\n",
       "  1.5769405233860017,\n",
       "  1.5816425740718842,\n",
       "  1.58227219581604,\n",
       "  1.5830934631824494,\n",
       "  1.5918955945968627,\n",
       "  1.6040092945098876,\n",
       "  1.60634011387825,\n",
       "  1.6075753664970398,\n",
       "  1.6086579489707946,\n",
       "  1.611277985572815,\n",
       "  1.6135731220245362,\n",
       "  1.6161428534984588,\n",
       "  1.6175353169441222,\n",
       "  1.617626678943634,\n",
       "  1.6177192616462708,\n",
       "  1.6184630215167999,\n",
       "  1.6191865718364715,\n",
       "  1.6192128610610963,\n",
       "  1.623316456079483,\n",
       "  1.6239736151695252,\n",
       "  1.6276994597911836,\n",
       "  1.6289042723178864,\n",
       "  1.6299970316886903,\n",
       "  1.6301175200939177,\n",
       "  1.6316600143909454,\n",
       "  1.6344065403938293,\n",
       "  1.6359378588199616,\n",
       "  1.6367356872558594,\n",
       "  1.639017789363861,\n",
       "  1.6422890555858611,\n",
       "  1.6428446364402771,\n",
       "  1.6452002656459808,\n",
       "  1.6474365401268005,\n",
       "  1.6500772166252136,\n",
       "  1.6515883374214173,\n",
       "  1.6531313025951386,\n",
       "  1.653850246667862,\n",
       "  1.6541702461242676,\n",
       "  1.6568205082416534,\n",
       "  1.6597419464588166,\n",
       "  1.66097465634346,\n",
       "  1.661114798784256,\n",
       "  1.6620045435428619,\n",
       "  1.6641504788398742,\n",
       "  1.6643275105953217,\n",
       "  1.6681162643432617,\n",
       "  1.6690519678592681,\n",
       "  1.6691403305530548,\n",
       "  1.6703059196472168,\n",
       "  1.6709230625629425,\n",
       "  1.6716866195201874,\n",
       "  1.6751982879638672,\n",
       "  1.684578287601471,\n",
       "  1.6864800775051116,\n",
       "  1.6898453640937805,\n",
       "  1.6900208020210266,\n",
       "  1.6969270241260528,\n",
       "  1.6990091979503632,\n",
       "  1.7039776039123535,\n",
       "  1.7091173911094666,\n",
       "  1.710216873884201,\n",
       "  1.7121533477306365,\n",
       "  1.7183582699298858,\n",
       "  1.7184297466278076,\n",
       "  1.7217924726009368,\n",
       "  1.7250332629680634,\n",
       "  1.7255798447132111,\n",
       "  1.729732084274292,\n",
       "  1.7303898489475251,\n",
       "  1.7460571205615998,\n",
       "  1.7468001663684845,\n",
       "  1.7499314320087433,\n",
       "  1.7508812367916107,\n",
       "  1.7553595864772797,\n",
       "  1.7556641757488252,\n",
       "  1.7659764218330383,\n",
       "  1.7737866282463073,\n",
       "  1.775521023273468,\n",
       "  1.7764029264450074,\n",
       "  1.7765111422538757,\n",
       "  1.7787108385562898,\n",
       "  1.780652836561203,\n",
       "  1.7943055045604706,\n",
       "  1.7979473423957826,\n",
       "  1.7980997478961944,\n",
       "  1.8003892779350281,\n",
       "  1.8066736352443695,\n",
       "  1.8130379712581635,\n",
       "  1.8356131625175476,\n",
       "  1.8601556861400603,\n",
       "  1.871024671792984,\n",
       "  1.8886634349822997,\n",
       "  1.896063666343689,\n",
       "  1.9153914952278137,\n",
       "  1.934148689508438,\n",
       "  1.9425170290470124,\n",
       "  2.0013384366035463],\n",
       " [0.0315472948551178,\n",
       "  0.035849434733390806,\n",
       "  0.03645627547055483,\n",
       "  0.037724473513662815,\n",
       "  0.04744939662516117,\n",
       "  0.05277481198310852,\n",
       "  0.05405561204999685,\n",
       "  0.055707565136253835,\n",
       "  0.05944893524050712,\n",
       "  0.07432842537760735]]"
      ]
     },
     "execution_count": 410,
     "metadata": {},
     "output_type": "execute_result"
    }
   ],
   "source": [
    "printingFCME"
   ]
  },
  {
   "cell_type": "code",
   "execution_count": 411,
   "metadata": {},
   "outputs": [
    {
     "ename": "NameError",
     "evalue": "name 'MEConvMatRTZ' is not defined",
     "output_type": "error",
     "traceback": [
      "\u001b[0;31m---------------------------------------------------------------------------\u001b[0m",
      "\u001b[0;31mNameError\u001b[0m                                 Traceback (most recent call last)",
      "\u001b[0;32m<ipython-input-411-3de15d574dcb>\u001b[0m in \u001b[0;36m<module>\u001b[0;34m()\u001b[0m\n\u001b[0;32m----> 1\u001b[0;31m \u001b[0mplotME\u001b[0m\u001b[0;34m(\u001b[0m\u001b[0mMEConvMatRTZ\u001b[0m\u001b[0;34m[\u001b[0m\u001b[0;36m0\u001b[0m\u001b[0;34m]\u001b[0m\u001b[0;34m)\u001b[0m\u001b[0;34m\u001b[0m\u001b[0m\n\u001b[0m",
      "\u001b[0;31mNameError\u001b[0m: name 'MEConvMatRTZ' is not defined"
     ]
    }
   ],
   "source": [
    "plotME(MEConvMatRTZ[0])"
   ]
  },
  {
   "cell_type": "code",
   "execution_count": 412,
   "metadata": {},
   "outputs": [],
   "source": [
    "MEConvMatCBA = []+ MEFullyConnectedMat  #ME values for CBA"
   ]
  },
  {
   "cell_type": "code",
   "execution_count": 413,
   "metadata": {},
   "outputs": [],
   "source": [
    "MEConvMatBorder = []+ MEFullyConnectedMat #ME values for Border"
   ]
  },
  {
   "cell_type": "code",
   "execution_count": 414,
   "metadata": {},
   "outputs": [],
   "source": [
    "MEConvMatTruncate = []+ MEFullyConnectedMat #ME values for Truncate"
   ]
  },
  {
   "cell_type": "code",
   "execution_count": 415,
   "metadata": {},
   "outputs": [],
   "source": [
    "MEConvMatRTZ = []+ MEFullyConnectedMat #ME values for Truncate"
   ]
  },
  {
   "cell_type": "markdown",
   "metadata": {},
   "source": [
    "### Filter Policy implementation"
   ]
  },
  {
   "cell_type": "code",
   "execution_count": 489,
   "metadata": {},
   "outputs": [],
   "source": [
    "wConvNew = [] + wConv"
   ]
  },
  {
   "cell_type": "code",
   "execution_count": 519,
   "metadata": {},
   "outputs": [],
   "source": [
    "wFullyConnectedNew = [] + wFc"
   ]
  },
  {
   "cell_type": "code",
   "execution_count": 524,
   "metadata": {},
   "outputs": [
    {
     "name": "stdout",
     "output_type": "stream",
     "text": [
      "the number of filters in this layer are\n",
      "16\n",
      "the number of filters in this layer are\n",
      "36\n"
     ]
    }
   ],
   "source": [
    "newApproxFilters(MEConv1,wConvNew[0],wOrigConv[0])\n",
    "newApproxFilters(MEConv2,wConvNew[1],wOrigConv[1])"
   ]
  },
  {
   "cell_type": "code",
   "execution_count": 542,
   "metadata": {},
   "outputs": [
    {
     "name": "stdout",
     "output_type": "stream",
     "text": [
      "the number of filters in this layer are\n",
      "128\n",
      "the number of filters in this layer are\n",
      "10\n"
     ]
    }
   ],
   "source": [
    "wOrigFc[0].shape\n",
    "newApproxFiltersForFullyConnected(MEFullyConnected1,wFullyConnectedNew[0],wOrigFc[0])\n",
    "newApproxFiltersForFullyConnected(MEFullyConnected2,wFullyConnectedNew[1],wOrigFc[1])"
   ]
  },
  {
   "cell_type": "code",
   "execution_count": 528,
   "metadata": {},
   "outputs": [
    {
     "data": {
      "text/plain": [
       "(1764, 128)"
      ]
     },
     "execution_count": 528,
     "metadata": {},
     "output_type": "execute_result"
    }
   ],
   "source": [
    "wOrigFc[0].shape"
   ]
  },
  {
   "cell_type": "code",
   "execution_count": 543,
   "metadata": {
    "scrolled": true
   },
   "outputs": [
    {
     "data": {
      "text/plain": [
       "array([[0.0000000e+00, 1.4081597e-06, 0.0000000e+00, ..., 0.0000000e+00,\n",
       "        2.2947788e-06, 4.7683716e-07],\n",
       "       [0.0000000e+00, 2.6598573e-06, 1.3001263e-06, ..., 2.7567148e-06,\n",
       "        0.0000000e+00, 3.6275014e-06],\n",
       "       [0.0000000e+00, 0.0000000e+00, 2.4400651e-06, ..., 0.0000000e+00,\n",
       "        1.3411045e-06, 1.4305115e-06],\n",
       "       ...,\n",
       "       [0.0000000e+00, 2.9131770e-06, 0.0000000e+00, ..., 2.3208559e-06,\n",
       "        0.0000000e+00, 1.9297004e-06],\n",
       "       [0.0000000e+00, 1.0281801e-06, 0.0000000e+00, ..., 4.6864152e-06,\n",
       "        0.0000000e+00, 0.0000000e+00],\n",
       "       [0.0000000e+00, 0.0000000e+00, 0.0000000e+00, ..., 3.6209822e-06,\n",
       "        0.0000000e+00, 0.0000000e+00]], dtype=float32)"
      ]
     },
     "execution_count": 543,
     "metadata": {},
     "output_type": "execute_result"
    }
   ],
   "source": [
    "assign_op = weightsConvMat[0].assign(wConvNew[0])\n",
    "session.run(assign_op)\n",
    "\n",
    "assign_op = weightsConvMat[1].assign(wConvNew[1])\n",
    "session.run(assign_op)\n",
    "\n",
    "assign_op = weightsFcMat[0].assign(wFullyConnectedNew[0])\n",
    "session.run(assign_op)\n",
    "\n",
    "assign_op = weightsFcMat[1].assign(wFullyConnectedNew[1])\n",
    "session.run(assign_op)\n"
   ]
  },
  {
   "cell_type": "code",
   "execution_count": 544,
   "metadata": {},
   "outputs": [],
   "source": [
    "wConvNewCBA = [] + wConvNew #New filter values for CBA\n",
    "wFcNewCBA = [] + wFullyConnectedNew"
   ]
  },
  {
   "cell_type": "code",
   "execution_count": 545,
   "metadata": {},
   "outputs": [],
   "source": [
    "wConvNewBorder = [] + wConvNew #New filter values for Border\n",
    "wFcNewBorder = [] + wFullyConnectedNew"
   ]
  },
  {
   "cell_type": "code",
   "execution_count": 546,
   "metadata": {},
   "outputs": [],
   "source": [
    "wConvNewTruncate = [] + wConvNew #New filter values for Border\n",
    "wFcNewTruncate = [] + wFullyConnectedNew"
   ]
  },
  {
   "cell_type": "code",
   "execution_count": 547,
   "metadata": {},
   "outputs": [],
   "source": [
    "wConvNewRTZ = [] + wConvNew #New filter values for Border\n",
    "wFcNewRTZ = [] + wFullyConnectedNew"
   ]
  },
  {
   "cell_type": "code",
   "execution_count": 548,
   "metadata": {},
   "outputs": [],
   "source": [
    "wConvArr1 = [wConvNewCBA[0], wConvNewBorder[0], wConvNewTruncate[0],wConvNewRTZ[0]]\n",
    "wFcArr1 = [wFcNewCBA[0], wFcNewBorder[0], wFcNewTruncate[0],wFcNewRTZ[0]]"
   ]
  },
  {
   "cell_type": "code",
   "execution_count": 550,
   "metadata": {},
   "outputs": [],
   "source": [
    "wConvArr11 = [wConvNewCBA[0], wConvNewBorder[0]]\n",
    "wFcArrl1 = [wFcNewCBA[0], wFcNewBorder[0]]"
   ]
  },
  {
   "cell_type": "code",
   "execution_count": 498,
   "metadata": {},
   "outputs": [
    {
     "data": {
      "text/plain": [
       "4"
      ]
     },
     "execution_count": 498,
     "metadata": {},
     "output_type": "execute_result"
    }
   ],
   "source": [
    "len(wConvArr1)"
   ]
  },
  {
   "cell_type": "code",
   "execution_count": 549,
   "metadata": {},
   "outputs": [],
   "source": [
    "wConvArr2 = [wConvNewCBA[1], wConvNewBorder[1], wConvNewTruncate[1],wConvNewRTZ[1]]\n",
    "wFcArr2 = [wFcNewCBA[1], wFcNewBorder[1], wFcNewTruncate[1],wFcNewRTZ[1]]"
   ]
  },
  {
   "cell_type": "code",
   "execution_count": 551,
   "metadata": {},
   "outputs": [],
   "source": [
    "wConvArr22 = [wConvNewCBA[1], wConvNewBorder[1]]\n",
    "wFcArr22 = [wFcNewCBA[1], wFcNewBorder[1]]"
   ]
  },
  {
   "cell_type": "markdown",
   "metadata": {},
   "source": [
    "## Checksum Calculation"
   ]
  },
  {
   "cell_type": "code",
   "execution_count": 501,
   "metadata": {},
   "outputs": [
    {
     "data": {
      "text/plain": [
       "(5, 5, 16, 36)"
      ]
     },
     "execution_count": 501,
     "metadata": {},
     "output_type": "execute_result"
    }
   ],
   "source": [
    "wOrigConv[1].shape\n"
   ]
  },
  {
   "cell_type": "code",
   "execution_count": null,
   "metadata": {},
   "outputs": [],
   "source": []
  },
  {
   "cell_type": "code",
   "execution_count": 121,
   "metadata": {},
   "outputs": [],
   "source": [
    "def calculateCheckSum(wtMat,wOrig):\n",
    "        shape = wtMat.shape\n",
    "        xlen = shape[0]\n",
    "        ylen = shape[1]\n",
    "        numChnls = shape[2]\n",
    "        numFilters = shape[3]\n",
    "        \n",
    "        means = np.zeros((xlen,ylen,numChnls))\n",
    "        meanAvg = np.zeros((xlen,ylen,numChnls))\n",
    "\n",
    "        for c in range(0,numChnls):\n",
    "            for i in range(0,numFilters):\n",
    "                means[:,:,c] += np.absolute(wtMat[:,:,c,i]-wOrig[:,:,c,i])\n",
    "                \n",
    "        meanAvg = np.float32( means/ numFilters) \n",
    "        return meanAvg\n",
    "                "
   ]
  },
  {
   "cell_type": "code",
   "execution_count": 122,
   "metadata": {},
   "outputs": [],
   "source": [
    "def calculateCheckSumFc(wtMat,wOrig):\n",
    "        shape = wtMat.shape\n",
    "        \n",
    "        numChnls = shape[0]\n",
    "        numFilters = shape[1]\n",
    "        \n",
    "        means = np.zeros((numChnls))\n",
    "        meanAvg = np.zeros((numChnls))\n",
    "\n",
    "        for c in range(0,numChnls):\n",
    "            for i in range(0,numFilters):\n",
    "                means[c] += np.absolute(wtMat[c,i]-wOrig[c,i])\n",
    "                \n",
    "        meanAvg = np.float32( means/ numFilters) \n",
    "        return meanAvg"
   ]
  },
  {
   "cell_type": "code",
   "execution_count": 554,
   "metadata": {},
   "outputs": [],
   "source": [
    "def calculateWeightedCheckSum(wtMat,wOrig,MEConv):\n",
    "        shape = wtMat.shape\n",
    "        xlen = shape[0]\n",
    "        ylen = shape[1]\n",
    "        numChnls = shape[2]\n",
    "        numFilters = shape[3]\n",
    "        \n",
    "        means = np.zeros((xlen,ylen,numChnls))\n",
    "        meanAvg = np.zeros((xlen,ylen,numChnls))\n",
    "\n",
    "        for c in range(0,numChnls):\n",
    "            for i in range(0,numFilters):\n",
    "                means[:,:,c] += np.absolute(wtMat[:,:,c,i]-wOrig[:,:,c,i])*MEConv[i]\n",
    "                \n",
    "        meanAvg = np.float32( means/ numFilters) \n",
    "        return meanAvg"
   ]
  },
  {
   "cell_type": "code",
   "execution_count": 123,
   "metadata": {},
   "outputs": [],
   "source": [
    "def calculateWeightedCheckSumFc(wtMat,wOrig,MEFc):\n",
    "        shape = wtMat.shape\n",
    "       \n",
    "        \n",
    "        numChnls = shape[0]\n",
    "        numFilters = shape[1]\n",
    "        \n",
    "        means = np.zeros((numChnls))\n",
    "        meanAvg = np.zeros((numChnls))\n",
    "\n",
    "        for c in range(0,numChnls):\n",
    "            for i in range(0,numFilters):\n",
    "                means[c] += np.absolute(wtMat[c,i]-wOrig[c,i])*MEConv[i]\n",
    "                \n",
    "        meanAvg = np.float32( means/ numFilters) \n",
    "        return meanAvg"
   ]
  },
  {
   "cell_type": "code",
   "execution_count": 560,
   "metadata": {},
   "outputs": [],
   "source": [
    "checkCBA_1 = calculateCheckSum(wConv[0],wOrigConv[0])\n",
    "checkCBAFc_1 = calculateCheckSumFc(wFc[0],wOrigFc[0])"
   ]
  },
  {
   "cell_type": "code",
   "execution_count": 561,
   "metadata": {},
   "outputs": [],
   "source": [
    "checkCBA_2 = calculateCheckSum(wConv[1],wOrigConv[1])\n",
    "checkCBAFc_2 = calculateCheckSumFc(wFc[1],wOrigFc[1])"
   ]
  },
  {
   "cell_type": "code",
   "execution_count": 563,
   "metadata": {},
   "outputs": [],
   "source": [
    "checkBorder_1 = calculateCheckSum(wConv[0],wOrigConv[0])\n",
    "checkBorderFc_1 = calculateCheckSumFc(wFc[0],wOrigFc[0])"
   ]
  },
  {
   "cell_type": "code",
   "execution_count": 507,
   "metadata": {},
   "outputs": [
    {
     "data": {
      "text/plain": [
       "array([[0.01237375],\n",
       "       [0.01237375],\n",
       "       [0.00518438],\n",
       "       [0.00518438],\n",
       "       [0.00292063]], dtype=float32)"
      ]
     },
     "execution_count": 507,
     "metadata": {},
     "output_type": "execute_result"
    }
   ],
   "source": [
    "checkRTZ_1[0]"
   ]
  },
  {
   "cell_type": "code",
   "execution_count": 564,
   "metadata": {},
   "outputs": [],
   "source": [
    "checkBorder_2 = calculateCheckSum(wConv[1],wOrigConv[1])\n",
    "checkBorderFc_2 =  calculateCheckSumFc(wFc[1],wOrigFc[1])"
   ]
  },
  {
   "cell_type": "code",
   "execution_count": 565,
   "metadata": {},
   "outputs": [],
   "source": [
    "checkTruncate_1 = calculateCheckSum(wConv[0],wOrigConv[0])\n",
    "checkTruncateFc_1 = calculateCheckSumFc(wFc[0], wOrigFc[0])"
   ]
  },
  {
   "cell_type": "code",
   "execution_count": 566,
   "metadata": {},
   "outputs": [],
   "source": [
    "checkTruncate_2 = calculateCheckSum(wConv[1],wOrigConv[1])\n",
    "checkTruncateFc_2 = calculateCheckSumFc(wFc[1], wOrigFc[1])"
   ]
  },
  {
   "cell_type": "code",
   "execution_count": 570,
   "metadata": {},
   "outputs": [],
   "source": [
    "checkRTZ_1 = calculateCheckSum(wConv[0],wOrigConv[0])\n",
    "checkRTZFc_1 = calculateCheckSumFc(wFc[0], wOrigFc[0])"
   ]
  },
  {
   "cell_type": "code",
   "execution_count": 568,
   "metadata": {},
   "outputs": [],
   "source": [
    "checkRTZ_2 = calculateCheckSum(wConv[1],wOrigConv[1])\n",
    "checkRTZFc_2 = calculateCheckSumFc(wFc[1], wOrigFc[1])"
   ]
  },
  {
   "cell_type": "code",
   "execution_count": 513,
   "metadata": {},
   "outputs": [
    {
     "ename": "ValueError",
     "evalue": "cannot reshape array of size 1 into shape (28,28)",
     "output_type": "error",
     "traceback": [
      "\u001b[0;31m---------------------------------------------------------------------------\u001b[0m",
      "\u001b[0;31mValueError\u001b[0m                                Traceback (most recent call last)",
      "\u001b[0;32m<ipython-input-513-b535a88d9da4>\u001b[0m in \u001b[0;36m<module>\u001b[0;34m()\u001b[0m\n\u001b[0;32m----> 1\u001b[0;31m \u001b[0mimg\u001b[0m \u001b[0;34m=\u001b[0m \u001b[0mnp\u001b[0m\u001b[0;34m.\u001b[0m\u001b[0mreshape\u001b[0m\u001b[0;34m(\u001b[0m\u001b[0mimage1\u001b[0m\u001b[0;34m[\u001b[0m\u001b[0;36m10\u001b[0m\u001b[0;34m]\u001b[0m\u001b[0;34m,\u001b[0m\u001b[0;34m[\u001b[0m\u001b[0mimg_size\u001b[0m\u001b[0;34m,\u001b[0m\u001b[0mimg_size\u001b[0m\u001b[0;34m]\u001b[0m\u001b[0;34m)\u001b[0m\u001b[0;34m\u001b[0m\u001b[0m\n\u001b[0m\u001b[1;32m      2\u001b[0m \u001b[0mkernel\u001b[0m \u001b[0;34m=\u001b[0m \u001b[0mmeanAvgOrig\u001b[0m \u001b[0;34m-\u001b[0m \u001b[0mmeanAvgConv1\u001b[0m\u001b[0;34m\u001b[0m\u001b[0m\n\u001b[1;32m      3\u001b[0m \u001b[0mresult\u001b[0m \u001b[0;34m=\u001b[0m \u001b[0mndimage\u001b[0m\u001b[0;34m.\u001b[0m\u001b[0mcorrelate\u001b[0m\u001b[0;34m(\u001b[0m\u001b[0mimg\u001b[0m\u001b[0;34m,\u001b[0m\u001b[0mkernel\u001b[0m\u001b[0;34m,\u001b[0m\u001b[0mmode\u001b[0m \u001b[0;34m=\u001b[0m \u001b[0;34m'constant'\u001b[0m\u001b[0;34m,\u001b[0m\u001b[0mcval\u001b[0m \u001b[0;34m=\u001b[0m \u001b[0;36m0.0\u001b[0m\u001b[0;34m)\u001b[0m\u001b[0;34m\u001b[0m\u001b[0m\n",
      "\u001b[0;32m~/anaconda3/lib/python3.7/site-packages/numpy/core/fromnumeric.py\u001b[0m in \u001b[0;36mreshape\u001b[0;34m(a, newshape, order)\u001b[0m\n\u001b[1;32m    277\u001b[0m            [5, 6]])\n\u001b[1;32m    278\u001b[0m     \"\"\"\n\u001b[0;32m--> 279\u001b[0;31m     \u001b[0;32mreturn\u001b[0m \u001b[0m_wrapfunc\u001b[0m\u001b[0;34m(\u001b[0m\u001b[0ma\u001b[0m\u001b[0;34m,\u001b[0m \u001b[0;34m'reshape'\u001b[0m\u001b[0;34m,\u001b[0m \u001b[0mnewshape\u001b[0m\u001b[0;34m,\u001b[0m \u001b[0morder\u001b[0m\u001b[0;34m=\u001b[0m\u001b[0morder\u001b[0m\u001b[0;34m)\u001b[0m\u001b[0;34m\u001b[0m\u001b[0m\n\u001b[0m\u001b[1;32m    280\u001b[0m \u001b[0;34m\u001b[0m\u001b[0m\n\u001b[1;32m    281\u001b[0m \u001b[0;34m\u001b[0m\u001b[0m\n",
      "\u001b[0;32m~/anaconda3/lib/python3.7/site-packages/numpy/core/fromnumeric.py\u001b[0m in \u001b[0;36m_wrapfunc\u001b[0;34m(obj, method, *args, **kwds)\u001b[0m\n\u001b[1;32m     49\u001b[0m \u001b[0;32mdef\u001b[0m \u001b[0m_wrapfunc\u001b[0m\u001b[0;34m(\u001b[0m\u001b[0mobj\u001b[0m\u001b[0;34m,\u001b[0m \u001b[0mmethod\u001b[0m\u001b[0;34m,\u001b[0m \u001b[0;34m*\u001b[0m\u001b[0margs\u001b[0m\u001b[0;34m,\u001b[0m \u001b[0;34m**\u001b[0m\u001b[0mkwds\u001b[0m\u001b[0;34m)\u001b[0m\u001b[0;34m:\u001b[0m\u001b[0;34m\u001b[0m\u001b[0m\n\u001b[1;32m     50\u001b[0m     \u001b[0;32mtry\u001b[0m\u001b[0;34m:\u001b[0m\u001b[0;34m\u001b[0m\u001b[0m\n\u001b[0;32m---> 51\u001b[0;31m         \u001b[0;32mreturn\u001b[0m \u001b[0mgetattr\u001b[0m\u001b[0;34m(\u001b[0m\u001b[0mobj\u001b[0m\u001b[0;34m,\u001b[0m \u001b[0mmethod\u001b[0m\u001b[0;34m)\u001b[0m\u001b[0;34m(\u001b[0m\u001b[0;34m*\u001b[0m\u001b[0margs\u001b[0m\u001b[0;34m,\u001b[0m \u001b[0;34m**\u001b[0m\u001b[0mkwds\u001b[0m\u001b[0;34m)\u001b[0m\u001b[0;34m\u001b[0m\u001b[0m\n\u001b[0m\u001b[1;32m     52\u001b[0m \u001b[0;34m\u001b[0m\u001b[0m\n\u001b[1;32m     53\u001b[0m     \u001b[0;31m# An AttributeError occurs if the object does not have\u001b[0m\u001b[0;34m\u001b[0m\u001b[0;34m\u001b[0m\u001b[0m\n",
      "\u001b[0;31mValueError\u001b[0m: cannot reshape array of size 1 into shape (28,28)"
     ]
    }
   ],
   "source": [
    "img = np.reshape(image1[10],[img_size,img_size])\n",
    "kernel = meanAvgOrig - meanAvgConv1 \n",
    "result = ndimage.correlate(img,kernel,mode = 'constant',cval = 0.0)"
   ]
  },
  {
   "cell_type": "code",
   "execution_count": 623,
   "metadata": {},
   "outputs": [
    {
     "name": "stdout",
     "output_type": "stream",
     "text": [
      "[[[0.01237375]\n",
      "  [0.01237375]\n",
      "  [0.00518438]\n",
      "  [0.00518438]\n",
      "  [0.00292063]]\n",
      "\n",
      " [[0.01237375]\n",
      "  [0.01237375]\n",
      "  [0.00518438]\n",
      "  [0.00518438]\n",
      "  [0.00292063]]\n",
      "\n",
      " [[0.02433562]\n",
      "  [0.02433562]\n",
      "  [0.00904   ]\n",
      "  [0.00904   ]\n",
      "  [0.00186813]]\n",
      "\n",
      " [[0.02433562]\n",
      "  [0.02433562]\n",
      "  [0.00904   ]\n",
      "  [0.00904   ]\n",
      "  [0.00186813]]\n",
      "\n",
      " [[0.00594   ]\n",
      "  [0.00594   ]\n",
      "  [0.00393313]\n",
      "  [0.00393313]\n",
      "  [0.00024437]]]\n"
     ]
    }
   ],
   "source": [
    "checkConv1 = [checkCBA_1,checkBorder_1, checkTruncate_1, checkRTZ_1]\n",
    "print(checkConv1[2])\n",
    "checkFc1 = [checkCBAFc_1,checkBorderFc_1, checkTruncateFc_1, checkRTZFc_1]"
   ]
  },
  {
   "cell_type": "code",
   "execution_count": 572,
   "metadata": {},
   "outputs": [],
   "source": [
    "checkConv11 = [checkCBA_1,checkBorder_1]\n",
    "checkFcl1 = [checkCBAFc_1,checkBorderFc_1]"
   ]
  },
  {
   "cell_type": "code",
   "execution_count": 573,
   "metadata": {},
   "outputs": [],
   "source": [
    "checkConv2 = [checkCBA_2,checkBorder_2, checkTruncate_2, checkRTZ_2]\n",
    "checkFc2 = [checkCBAFc_2,checkBorderFc_2, checkTruncateFc_2, checkRTZFc_2]"
   ]
  },
  {
   "cell_type": "code",
   "execution_count": 574,
   "metadata": {},
   "outputs": [],
   "source": [
    "checkConv22 = [checkCBA_2,checkBorder_2]\n",
    "checkFc22 = [checkCBAFc_2,checkBorderFc_2]"
   ]
  },
  {
   "cell_type": "markdown",
   "metadata": {},
   "source": [
    "## Selecting Filter During Testing"
   ]
  },
  {
   "cell_type": "code",
   "execution_count": 518,
   "metadata": {},
   "outputs": [
    {
     "ename": "NameError",
     "evalue": "name 'meanAvgOrig' is not defined",
     "output_type": "error",
     "traceback": [
      "\u001b[0;31m---------------------------------------------------------------------------\u001b[0m",
      "\u001b[0;31mNameError\u001b[0m                                 Traceback (most recent call last)",
      "\u001b[0;32m<ipython-input-518-0afc2a1f96da>\u001b[0m in \u001b[0;36m<module>\u001b[0;34m()\u001b[0m\n\u001b[1;32m      6\u001b[0m \u001b[0mimgTest\u001b[0m \u001b[0;34m=\u001b[0m \u001b[0mnp\u001b[0m\u001b[0;34m.\u001b[0m\u001b[0mreshape\u001b[0m\u001b[0;34m(\u001b[0m\u001b[0mimageTest\u001b[0m\u001b[0;34m,\u001b[0m\u001b[0;34m[\u001b[0m\u001b[0mimg_size\u001b[0m\u001b[0;34m,\u001b[0m\u001b[0mimg_size\u001b[0m\u001b[0;34m]\u001b[0m\u001b[0;34m)\u001b[0m\u001b[0;34m\u001b[0m\u001b[0m\n\u001b[1;32m      7\u001b[0m \u001b[0;34m\u001b[0m\u001b[0m\n\u001b[0;32m----> 8\u001b[0;31m \u001b[0mkernel\u001b[0m \u001b[0;34m=\u001b[0m \u001b[0mmeanAvgOrig\u001b[0m \u001b[0;34m-\u001b[0m \u001b[0mmeanAvgConv1\u001b[0m\u001b[0;34m\u001b[0m\u001b[0m\n\u001b[0m\u001b[1;32m      9\u001b[0m \u001b[0;34m\u001b[0m\u001b[0m\n\u001b[1;32m     10\u001b[0m \u001b[0mresult\u001b[0m \u001b[0;34m=\u001b[0m \u001b[0mndimage\u001b[0m\u001b[0;34m.\u001b[0m\u001b[0mcorrelate\u001b[0m\u001b[0;34m(\u001b[0m\u001b[0mimg\u001b[0m\u001b[0;34m,\u001b[0m\u001b[0mkernel\u001b[0m\u001b[0;34m,\u001b[0m\u001b[0mmode\u001b[0m \u001b[0;34m=\u001b[0m \u001b[0;34m'constant'\u001b[0m\u001b[0;34m,\u001b[0m\u001b[0mcval\u001b[0m \u001b[0;34m=\u001b[0m \u001b[0;36m0.0\u001b[0m\u001b[0;34m)\u001b[0m\u001b[0;34m\u001b[0m\u001b[0m\n",
      "\u001b[0;31mNameError\u001b[0m: name 'meanAvgOrig' is not defined"
     ]
    }
   ],
   "source": [
    "imageTest = data.test.images[0]\n",
    "\n",
    "feed_dict_test = {x: imageTest}\n",
    "\n",
    "#Run throuh checksum list\n",
    "imgTest = np.reshape(imageTest,[img_size,img_size])\n",
    "\n",
    "kernel = meanAvgOrig - meanAvgConv1 \n",
    "\n",
    "result = ndimage.correlate(img,kernel,mode = 'constant',cval = 0.0)\n",
    "\n",
    "#minimum checksum\n",
    "checkSumOut = np.sum(result)\n",
    "\n",
    "#assign weigths\n",
    "assignFilters(wConv,wOrigFc)\n",
    "\n",
    "#Output of first layer\n",
    "val_out1 = session.run(layer_con1_pool_relu, feed_dict=feed_dict)\n",
    "\n",
    "#calculate chekcsum for second layer\n"
   ]
  },
  {
   "cell_type": "code",
   "execution_count": 866,
   "metadata": {},
   "outputs": [
    {
     "name": "stdout",
     "output_type": "stream",
     "text": [
      "4\n"
     ]
    }
   ],
   "source": [
    "print(len(checkConv1))"
   ]
  },
  {
   "cell_type": "code",
   "execution_count": 1055,
   "metadata": {},
   "outputs": [
    {
     "name": "stdout",
     "output_type": "stream",
     "text": [
      "fc2 size is \n",
      "(128,)\n",
      "fc2 size is \n",
      "(128,)\n",
      "fc2 size is \n",
      "(128,)\n",
      "fc2 size is \n",
      "(128,)\n",
      "fc2 size is \n",
      "(128,)\n",
      "fc2 size is \n",
      "(128,)\n",
      "fc2 size is \n",
      "(128,)\n",
      "fc2 size is \n",
      "(128,)\n",
      "fc2 size is \n",
      "(128,)\n",
      "fc2 size is \n",
      "(128,)\n",
      "fc2 size is \n",
      "(128,)\n",
      "fc2 size is \n",
      "(128,)\n",
      "fc2 size is \n",
      "(128,)\n",
      "fc2 size is \n",
      "(128,)\n",
      "fc2 size is \n",
      "(128,)\n",
      "fc2 size is \n",
      "(128,)\n",
      "fc2 size is \n",
      "(128,)\n",
      "fc2 size is \n",
      "(128,)\n",
      "fc2 size is \n",
      "(128,)\n",
      "fc2 size is \n",
      "(128,)\n",
      "fc2 size is \n",
      "(128,)\n",
      "fc2 size is \n",
      "(128,)\n",
      "fc2 size is \n",
      "(128,)\n",
      "fc2 size is \n",
      "(128,)\n",
      "fc2 size is \n",
      "(128,)\n",
      "fc2 size is \n",
      "(128,)\n",
      "fc2 size is \n",
      "(128,)\n",
      "fc2 size is \n",
      "(128,)\n",
      "fc2 size is \n",
      "(128,)\n",
      "fc2 size is \n",
      "(128,)\n",
      "fc2 size is \n",
      "(128,)\n",
      "fc2 size is \n",
      "(128,)\n",
      "fc2 size is \n",
      "(128,)\n",
      "fc2 size is \n",
      "(128,)\n",
      "fc2 size is \n",
      "(128,)\n",
      "fc2 size is \n",
      "(128,)\n",
      "fc2 size is \n",
      "(128,)\n",
      "fc2 size is \n",
      "(128,)\n",
      "fc2 size is \n",
      "(128,)\n",
      "fc2 size is \n",
      "(128,)\n"
     ]
    },
    {
     "data": {
      "image/png": "[encoded data removed]",
      "text/plain": [
       "<Figure size 432x288 with 1 Axes>"
      ]
     },
     "metadata": {
      "needs_background": "light"
     },
     "output_type": "display_data"
    }
   ],
   "source": [
    "imageTest = data.train.images[1000:1010]\n",
    "xAxis = []\n",
    "yAxisCB = []\n",
    "yAxisR20 = []\n",
    "yAxisBA = []\n",
    "conv1Weights = []\n",
    "conv2Weights = []\n",
    "fc1Weights = []\n",
    "fc2Weights = []\n",
    "minSum = 1000000000\n",
    "\n",
    "for i in range(0,len(imageTest)):\n",
    "    feed_dict_test = {x: [imageTest[i]]}\n",
    "    imgTest = np.reshape(imageTest[i],[img_size,img_size])\n",
    "    checkSumOut = []\n",
    "    checkSumOutFc = []\n",
    "    for chckSum in checkSumConvLayer1:\n",
    "        kernel = chckSum[:,:,0] \n",
    "       \n",
    "        result = ndimage.correlate(imgTest,kernel,mode = 'constant',cval = 0.0)\n",
    "\n",
    "        #minimum checksum\n",
    "        checkSumOut.append(np.sum(result))\n",
    "        \n",
    "        ### doing the same for the fully connected layer\n",
    "    for chckSumFc in checkSumFCLayer1:\n",
    "        \n",
    "        kernelFc = chckSumFc[0]\n",
    "        #print(\"the kernel shape is \")\n",
    "        #print(chckSumFc.shape)\n",
    "        copy = np.array(imgTest)\n",
    "        #copy.flatten()\n",
    "        #print(chckSumFc.shape)\n",
    "        copy = copy.flatten()\n",
    "        #print(copy.shape)\n",
    "        result = ndimage.correlate(copy, chckSumFc,mode = 'constant',cval = 0.0)\n",
    "        checkSumOutFc.append(np.sum(result))\n",
    "        \n",
    "        \n",
    "    minSumConv1 = 1000000000\n",
    "    minSumFc = 1000000000\n",
    "    indx = -1\n",
    "    iterV = 0\n",
    "    for chckSumVal in checkSumOut:\n",
    "        \n",
    "        if minSumConv1 > chckSumVal:\n",
    "            #print(chckSumVal)\n",
    "            minSumConv1 = chckSumVal\n",
    "            indx = iterV\n",
    "        iterV += 1\n",
    "\n",
    "    conv1Weights.append(minSumConv1)\n",
    "    \n",
    "    indxFc = -1\n",
    "    iterVFc = 0\n",
    "    for chckSumValFc in checkSumOutFc:\n",
    "        if minSumFc > chckSumValFc:\n",
    "            minSumFc = chckSumValFc\n",
    "            indxFc = iterVFc\n",
    "        iterVFc += 1\n",
    "    fc1Weights.append(minSumFc)\n",
    "    xAxis.append(i)\n",
    "    yAxisCB.append(checkSumOut[0])\n",
    "    \n",
    "    yAxisR20.append(checkSumOut[3])\n",
    "    \n",
    "    yAxisBA.append(checkSumOut[1])\n",
    "    assign_op = weightsConvMat[0].assign(wConvArr1[indx])\n",
    "    session.run(assign_op)\n",
    "    assign_op = weightsFcMat[0].assign(wFcArr1[indxFc])\n",
    "    session.run(assign_op)\n",
    "    \n",
    "   \n",
    "    \n",
    "    val_out1 = session.run(layer_conv1_pool_relu, feed_dict=feed_dict_test)\n",
    "    val_out2 = session.run(layer_fc1, feed_dict = feed_dict_test)\n",
    "    \n",
    "    #print(val_out1.shape)\n",
    "    shapeT = val_out1.shape\n",
    "\n",
    "    #input_4d = tf.reshape(val_out1,[shapeT[0], shapeT[1], shapeT[2],1 ] )\n",
    "    layr2Sum = []\n",
    "    layr2SumFc = []\n",
    "    for chckSum in checkSumConvLayer2:\n",
    "        input_4d = tf.expand_dims(chckSum,3)\n",
    "\n",
    "        checkSumOut2 = tf.nn.conv2d(input=np.float32(val_out1),\n",
    "                     filter=input_4d,\n",
    "                     strides=[1, 1, 1, 1],\n",
    "                     padding='SAME')\n",
    "        abc = session.run(checkSumOut2)\n",
    "        layr2Sum.append(np.sum(abc))\n",
    "    for chckSumFc in checkSumFCLayer2:\n",
    "        kernelFc2 = chckSumFc[1] ## we are not using this kernel value\n",
    "        currImage = np.array(imgTest)\n",
    "        print(\"fc2 size is \")\n",
    "        print(chckSumFc.shape)\n",
    "        currImage = currImage.flatten()\n",
    "        result = ndimage.correlate(currImage, chckSumFc, mode='constant', cval = 0.0)\n",
    "        layr2SumFc.append(np.sum(result))\n",
    "    minSumConv2 = 1000000000\n",
    "    minSumFc2 = 1000000000\n",
    "    itr = 0\n",
    "    indx = -1\n",
    "    for chckSumVal in layr2Sum:\n",
    "        if minSumConv2 > chckSumVal:\n",
    "            minSumConv2 = chckSumVal\n",
    "            indx = itr\n",
    "        itr += 1\n",
    "    #print(\"layer2:\",indx,\"minSum:\",layr2Sum)\n",
    "    #print(\"\\n\")\n",
    "    conv2Weights.append(minSumConv2)\n",
    "    indxFc = -1\n",
    "    itrFc = 0\n",
    "    for chckSumValFc in layr2SumFc:\n",
    "        if minSumFc2 > chckSumValFc:\n",
    "            minSumFc2 = chckSumValFc\n",
    "            indxFc = itrFc\n",
    "        itrFc += 1\n",
    "    fc2Weights.append(minSumFc2)\n",
    "    assign_op = weightsConvMat[1].assign(wConvArr2[indx])\n",
    "    session.run(assign_op)\n",
    "    #print_test_accuracy()\n",
    "    assign_op = weightsFcMat[1].assign(wFcArr2[indx])\n",
    "    session.run(assign_op)\n",
    "    \n",
    "    \n",
    "\n",
    "plt.plot(xAxis,yAxisCB,color='red')\n",
    "#plt.plot(xAxis,yAxisR20,color='green')\n",
    "#plt.plot(xAxis,yAxisBA,color='blue')\n",
    "plt.show()\n"
   ]
  },
  {
   "cell_type": "code",
   "execution_count": 1056,
   "metadata": {},
   "outputs": [],
   "source": [
    "conv1Weights.sort()\n",
    "\n",
    "conv2Weights.sort()\n",
    "\n",
    "fc1Weights.sort()\n",
    "fc2Weights.sort()"
   ]
  },
  {
   "cell_type": "code",
   "execution_count": 1098,
   "metadata": {},
   "outputs": [
    {
     "name": "stdout",
     "output_type": "stream",
     "text": [
      "[0.0, 0.0, 0.0, 0.0, 0.0, 0.0, 0.0, 0.0, 0.0, 0.0]\n"
     ]
    },
    {
     "data": {
      "image/png": "[encoded data removed]",
      "text/plain": [
       "<Figure size 432x288 with 1 Axes>"
      ]
     },
     "metadata": {
      "needs_background": "light"
     },
     "output_type": "display_data"
    }
   ],
   "source": [
    "plotME(fc2Weights)"
   ]
  },
  {
   "cell_type": "code",
   "execution_count": 1066,
   "metadata": {},
   "outputs": [
    {
     "data": {
      "image/png": "[encoded data removed]",
      "text/plain": [
       "<Figure size 432x288 with 1 Axes>"
      ]
     },
     "metadata": {
      "needs_background": "light"
     },
     "output_type": "display_data"
    }
   ],
   "source": [
    "plotME(postSubConvME[1])"
   ]
  },
  {
   "cell_type": "code",
   "execution_count": 467,
   "metadata": {},
   "outputs": [
    {
     "name": "stdout",
     "output_type": "stream",
     "text": [
      "(28, 28)\n",
      "(5, 5)\n"
     ]
    }
   ],
   "source": [
    "imageTest = data.test.images[0:100]\n",
    "\n",
    "\n",
    "feed_dict_test = {x: [imageTest[0]]}\n",
    "imgTest = np.reshape(imageTest[0],[img_size,img_size])\n",
    "\n",
    "print(imgTest.shape)\n",
    "checkSumOut = []\n",
    "#for chckSum in checkConv1:\n",
    "kernel = checkConv1[0][:,:,0]\n",
    "print(kernel.shape)\n",
    "result = ndimage.correlate(imgTest,kernel,mode = 'constant',cval = 0.0)"
   ]
  },
  {
   "cell_type": "code",
   "execution_count": 468,
   "metadata": {},
   "outputs": [],
   "source": [
    "def assignFilterSP(wConv):\n",
    "    assign_op = weightsConvMat[0].assign(wConv)\n",
    "    session.run(assign_op)"
   ]
  },
  {
   "cell_type": "code",
   "execution_count": 469,
   "metadata": {},
   "outputs": [
    {
     "name": "stdout",
     "output_type": "stream",
     "text": [
      "0.0\n"
     ]
    }
   ],
   "source": [
    "temp = session.run(checkSumOut2)\n",
    "print(np.sum(temp))"
   ]
  },
  {
   "cell_type": "markdown",
   "metadata": {},
   "source": [
    "## Visualization of Weights and Layers\n",
    "\n",
    "In trying to understand why the convolutional neural network can recognize handwritten digits, we will now visualize the weights of the convolutional filters and the resulting output images."
   ]
  },
  {
   "cell_type": "markdown",
   "metadata": {},
   "source": [
    "### Helper-function for plotting convolutional weights"
   ]
  },
  {
   "cell_type": "code",
   "execution_count": 470,
   "metadata": {},
   "outputs": [],
   "source": [
    "def plot_conv_weights(weights, input_channel=0):\n",
    "    # Assume weights are TensorFlow ops for 4-dim variables\n",
    "    # e.g. weights_conv1 or weights_conv2.\n",
    "    \n",
    "    # Retrieve the values of the weight-variables from TensorFlow.\n",
    "    # A feed-dict is not necessary because nothing is calculated.\n",
    "    w = session.run(weights)\n",
    "\n",
    "    # Get the lowest and highest values for the weights.\n",
    "    # This is used to correct the colour intensity across\n",
    "    # the images so they can be compared with each other.\n",
    "    w_min = np.min(w)\n",
    "    w_max = np.max(w)\n",
    "\n",
    "    # Number of filters used in the conv. layer.\n",
    "    num_filters = w.shape[3]\n",
    "\n",
    "    # Number of grids to plot.\n",
    "    # Rounded-up, square-root of the number of filters.\n",
    "    num_grids = math.ceil(math.sqrt(num_filters))\n",
    "    \n",
    "    # Create figure with a grid of sub-plots.\n",
    "    fig, axes = plt.subplots(num_grids, num_grids)\n",
    "\n",
    "    # Plot all the filter-weights.\n",
    "    for i, ax in enumerate(axes.flat):\n",
    "        # Only plot the valid filter-weights.\n",
    "        if i<num_filters:\n",
    "            # Get the weights for the i'th filter of the input channel.\n",
    "            # See new_conv_layer() for details on the format\n",
    "            # of this 4-dim tensor.\n",
    "            img = w[:, :, input_channel, i]\n",
    "\n",
    "            # Plot image.\n",
    "            ax.imshow(img, vmin=w_min, vmax=w_max,\n",
    "                      interpolation='nearest', cmap='seismic')\n",
    "        \n",
    "        # Remove ticks from the plot.\n",
    "        ax.set_xticks([])\n",
    "        ax.set_yticks([])\n",
    "    \n",
    "    # Ensure the plot is shown correctly with multiple plots\n",
    "    # in a single Notebook cell.\n",
    "    plt.show()"
   ]
  },
  {
   "cell_type": "markdown",
   "metadata": {},
   "source": [
    "### Helper-function for plotting the output of a convolutional layer"
   ]
  },
  {
   "cell_type": "code",
   "execution_count": 471,
   "metadata": {},
   "outputs": [],
   "source": [
    "def plot_conv_layer(layer, image):\n",
    "    # Assume layer is a TensorFlow op that outputs a 4-dim tensor\n",
    "    # which is the output of a convolutional layer,\n",
    "    # e.g. layer_conv1 or layer_conv2.\n",
    "\n",
    "    # Create a feed-dict containing just one image.\n",
    "    # Note that we don't need to feed y_true because it is\n",
    "    # not used in this calculation.\n",
    "    feed_dict = {x: [image]}\n",
    "\n",
    "    # Calculate and retrieve the output values of the layer\n",
    "    # when inputting that image.\n",
    "    values = session.run(layer, feed_dict=feed_dict)\n",
    "\n",
    "    # Number of filters used in the conv. layer.\n",
    "    num_filters = values.shape[3]\n",
    "\n",
    "    # Number of grids to plot.\n",
    "    # Rounded-up, square-root of the number of filters.\n",
    "    num_grids = math.ceil(math.sqrt(num_filters))\n",
    "    \n",
    "    # Create figure with a grid of sub-plots.\n",
    "    fig, axes = plt.subplots(num_grids, num_grids)\n",
    "\n",
    "    # Plot the output images of all the filters.\n",
    "    for i, ax in enumerate(axes.flat):\n",
    "        # Only plot the images for valid filters.\n",
    "        if i<num_filters:\n",
    "            # Get the output image of using the i'th filter.\n",
    "            # See new_conv_layer() for details on the format\n",
    "            # of this 4-dim tensor.\n",
    "            img = values[0, :, :, i]\n",
    "\n",
    "            # Plot image.\n",
    "            ax.imshow(img, interpolation='nearest', cmap='binary')\n",
    "        \n",
    "        # Remove ticks from the plot.\n",
    "        ax.set_xticks([])\n",
    "        ax.set_yticks([])\n",
    "    \n",
    "    # Ensure the plot is shown correctly with multiple plots\n",
    "    # in a single Notebook cell.\n",
    "    plt.show()"
   ]
  },
  {
   "cell_type": "markdown",
   "metadata": {},
   "source": [
    "### Input Images"
   ]
  },
  {
   "cell_type": "markdown",
   "metadata": {},
   "source": [
    "Helper-function for plotting an image."
   ]
  },
  {
   "cell_type": "code",
   "execution_count": 472,
   "metadata": {},
   "outputs": [],
   "source": [
    "def plot_image(image):\n",
    "    plt.imshow(image.reshape(img_shape),\n",
    "               interpolation='nearest',\n",
    "               cmap='binary')\n",
    "\n",
    "    plt.show()"
   ]
  },
  {
   "cell_type": "markdown",
   "metadata": {},
   "source": [
    "Plot an image from the test-set which will be used as an example below."
   ]
  },
  {
   "cell_type": "code",
   "execution_count": 473,
   "metadata": {},
   "outputs": [
    {
     "data": {
      "image/png": "[encoded data removed]",
      "text/plain": [
       "<Figure size 432x288 with 1 Axes>"
      ]
     },
     "metadata": {
      "needs_background": "light"
     },
     "output_type": "display_data"
    }
   ],
   "source": [
    "image1 = data.test.images[200]\n",
    "plot_image(image1)"
   ]
  },
  {
   "cell_type": "markdown",
   "metadata": {},
   "source": [
    "Plot another example image from the test-set."
   ]
  },
  {
   "cell_type": "code",
   "execution_count": 474,
   "metadata": {},
   "outputs": [
    {
     "data": {
      "image/png": "[encoded data removed]",
      "text/plain": [
       "<Figure size 432x288 with 1 Axes>"
      ]
     },
     "metadata": {
      "needs_background": "light"
     },
     "output_type": "display_data"
    }
   ],
   "source": [
    "image2 = data.test.images[23]\n",
    "plot_image(image2)"
   ]
  },
  {
   "cell_type": "code",
   "execution_count": 475,
   "metadata": {},
   "outputs": [
    {
     "data": {
      "text/plain": [
       "(784,)"
      ]
     },
     "execution_count": 475,
     "metadata": {},
     "output_type": "execute_result"
    }
   ],
   "source": [
    "image2.shape"
   ]
  },
  {
   "cell_type": "markdown",
   "metadata": {},
   "source": [
    "### Convolution Layer 1"
   ]
  },
  {
   "cell_type": "markdown",
   "metadata": {},
   "source": [
    "Now plot the filter-weights for the first convolutional layer.\n",
    "\n",
    "Note that positive weights are red and negative weights are blue."
   ]
  },
  {
   "cell_type": "code",
   "execution_count": 476,
   "metadata": {
    "scrolled": false
   },
   "outputs": [
    {
     "data": {
      "image/png": "[encoded data removed]",
      "text/plain": [
       "<Figure size 432x288 with 16 Axes>"
      ]
     },
     "metadata": {},
     "output_type": "display_data"
    }
   ],
   "source": [
    "plot_conv_weights(weights=weights_conv1)"
   ]
  },
  {
   "cell_type": "markdown",
   "metadata": {},
   "source": [
    "Applying each of these convolutional filters to the first input image gives the following output images, which are then used as input to the second convolutional layer. Note that these images are down-sampled to 14 x 14 pixels which is half the resolution of the original input image."
   ]
  },
  {
   "cell_type": "code",
   "execution_count": 477,
   "metadata": {
    "scrolled": true
   },
   "outputs": [
    {
     "data": {
      "image/png": "[encoded data removed]",
      "text/plain": [
       "<Figure size 432x288 with 36 Axes>"
      ]
     },
     "metadata": {},
     "output_type": "display_data"
    }
   ],
   "source": [
    "plot_conv_layer(layer=layer_conv2_pool_relu, image=image1)"
   ]
  },
  {
   "cell_type": "markdown",
   "metadata": {},
   "source": [
    "The following images are the results of applying the convolutional filters to the second image."
   ]
  },
  {
   "cell_type": "code",
   "execution_count": 478,
   "metadata": {
    "scrolled": false
   },
   "outputs": [
    {
     "data": {
      "image/png": "[encoded data removed]",
      "text/plain": [
       "<Figure size 432x288 with 16 Axes>"
      ]
     },
     "metadata": {},
     "output_type": "display_data"
    }
   ],
   "source": [
    "plot_conv_layer(layer=layer_conv1_pool_relu, image=image2)"
   ]
  },
  {
   "cell_type": "markdown",
   "metadata": {},
   "source": [
    "It is difficult to see from these images what the purpose of the convolutional filters might be. It appears that they have merely created several variations of the input image, as if light was shining from different angles and casting shadows in the image."
   ]
  },
  {
   "cell_type": "markdown",
   "metadata": {},
   "source": [
    "### Convolution Layer 2"
   ]
  },
  {
   "cell_type": "markdown",
   "metadata": {},
   "source": [
    "Now plot the filter-weights for the second convolutional layer.\n",
    "\n",
    "There are 16 output channels from the first conv-layer, which means there are 16 input channels to the second conv-layer. The second conv-layer has a set of filter-weights for each of its input channels. We start by plotting the filter-weigths for the first channel.\n",
    "\n",
    "Note again that positive weights are red and negative weights are blue."
   ]
  },
  {
   "cell_type": "code",
   "execution_count": 479,
   "metadata": {
    "scrolled": false
   },
   "outputs": [
    {
     "data": {
      "image/png": "[encoded data removed]",
      "text/plain": [
       "<Figure size 432x288 with 36 Axes>"
      ]
     },
     "metadata": {},
     "output_type": "display_data"
    }
   ],
   "source": [
    "plot_conv_weights(weights=weights_conv2, input_channel=0)"
   ]
  },
  {
   "cell_type": "markdown",
   "metadata": {},
   "source": [
    "There are 16 input channels to the second convolutional layer, so we can make another 15 plots of filter-weights like this. We just make one more with the filter-weights for the second channel. "
   ]
  },
  {
   "cell_type": "code",
   "execution_count": 480,
   "metadata": {},
   "outputs": [
    {
     "data": {
      "image/png": "[encoded data removed]",
      "text/plain": [
       "<Figure size 432x288 with 36 Axes>"
      ]
     },
     "metadata": {},
     "output_type": "display_data"
    }
   ],
   "source": [
    "plot_conv_weights(weights=weights_conv2, input_channel=1)"
   ]
  },
  {
   "cell_type": "markdown",
   "metadata": {},
   "source": [
    "It can be difficult to understand and keep track of how these filters are applied because of the high dimensionality.\n",
    "\n",
    "Applying these convolutional filters to the images that were ouput from the first conv-layer gives the following images.\n",
    "\n",
    "Note that these are down-sampled yet again to 7 x 7 pixels which is half the resolution of the images from the first conv-layer."
   ]
  },
  {
   "cell_type": "code",
   "execution_count": 481,
   "metadata": {
    "scrolled": true
   },
   "outputs": [],
   "source": [
    "#plot_conv_layer(layer=layer_conv1, image=image1)"
   ]
  },
  {
   "cell_type": "markdown",
   "metadata": {},
   "source": [
    "And these are the results of applying the filter-weights to the second image."
   ]
  },
  {
   "cell_type": "code",
   "execution_count": 482,
   "metadata": {
    "scrolled": false
   },
   "outputs": [
    {
     "data": {
      "image/png": "[encoded data removed]",
      "text/plain": [
       "<Figure size 432x288 with 36 Axes>"
      ]
     },
     "metadata": {},
     "output_type": "display_data"
    }
   ],
   "source": [
    "plot_conv_layer(layer=layer_conv2, image=image2)"
   ]
  },
  {
   "cell_type": "markdown",
   "metadata": {},
   "source": [
    "From these images, it looks like the second convolutional layer might detect lines and patterns in the input images, which are less sensitive to local variations in the original input images.\n",
    "\n",
    "These images are then flattened and input to the fully-connected layer, but that is not shown here."
   ]
  },
  {
   "cell_type": "markdown",
   "metadata": {},
   "source": [
    "### Close TensorFlow Session"
   ]
  },
  {
   "cell_type": "markdown",
   "metadata": {},
   "source": [
    "We are now done using TensorFlow, so we close the session to release its resources."
   ]
  },
  {
   "cell_type": "code",
   "execution_count": 483,
   "metadata": {},
   "outputs": [],
   "source": [
    "# This has been commented out in case you want to modify and experiment\n",
    "# with the Notebook without having to restart it.\n",
    "#session.close()"
   ]
  },
  {
   "cell_type": "markdown",
   "metadata": {},
   "source": [
    "## Conclusion\n",
    "\n",
    "We have seen that a Convolutional Neural Network works much better at recognizing hand-written digits than the simple linear model in Tutorial #01. The Convolutional Network gets a classification accuracy of about 99%, or even more if you make some adjustments, compared to only 91% for the simple linear model.\n",
    "\n",
    "However, the Convolutional Network is also much more complicated to implement, and it is not obvious from looking at the filter-weights why it works and why it sometimes fails.\n",
    "\n",
    "So we would like an easier way to program Convolutional Neural Networks and we would also like a better way of visualizing their inner workings."
   ]
  },
  {
   "cell_type": "markdown",
   "metadata": {},
   "source": [
    "## Exercises\n",
    "\n",
    "These are a few suggestions for exercises that may help improve your skills with TensorFlow. It is important to get hands-on experience with TensorFlow in order to learn how to use it properly.\n",
    "\n",
    "You may want to backup this Notebook before making any changes.\n",
    "\n",
    "* Do you get the exact same results if you run the Notebook multiple times without changing any parameters? What are the sources of randomness?\n",
    "* Run another 10,000 optimization iterations. Are the results better?\n",
    "* Change the learning-rate for the optimizer.\n",
    "* Change the configuration of the layers, such as the number of convolutional filters, the size of those filters, the number of neurons in the fully-connected layer, etc.\n",
    "* Add a so-called drop-out layer after the fully-connected layer. Note that the drop-out probability should be zero when calculating the classification accuracy, so you will need a placeholder variable for this probability.\n",
    "* Change the order of ReLU and max-pooling in the convolutional layer. Does it calculate the same thing? What is the fastest way of computing it? How many calculations are saved? Does it also work for Sigmoid-functions and average-pooling?\n",
    "* Add one or more convolutional and fully-connected layers. Does it help performance?\n",
    "* What is the smallest possible configuration that still gives good results?\n",
    "* Try using ReLU in the last fully-connected layer. Does the performance change? Why?\n",
    "* Try not using pooling in the convolutional layers. Does it change the classification accuracy and training time?\n",
    "* Try using a 2x2 stride in the convolution instead of max-pooling? What is the difference?\n",
    "* Remake the program yourself without looking too much at this source-code.\n",
    "* Explain to a friend how the program works."
   ]
  },
  {
   "cell_type": "markdown",
   "metadata": {},
   "source": [
    "## License (MIT)\n",
    "\n",
    "Copyright (c) 2016 by [Magnus Erik Hvass Pedersen](http://www.hvass-labs.org/)\n",
    "\n",
    "Permission is hereby granted, free of charge, to any person obtaining a copy of this software and associated documentation files (the \"Software\"), to deal in the Software without restriction, including without limitation the rights to use, copy, modify, merge, publish, distribute, sublicense, and/or sell copies of the Software, and to permit persons to whom the Software is furnished to do so, subject to the following conditions:\n",
    "\n",
    "The above copyright notice and this permission notice shall be included in all copies or substantial portions of the Software.\n",
    "\n",
    "THE SOFTWARE IS PROVIDED \"AS IS\", WITHOUT WARRANTY OF ANY KIND, EXPRESS OR IMPLIED, INCLUDING BUT NOT LIMITED TO THE WARRANTIES OF MERCHANTABILITY, FITNESS FOR A PARTICULAR PURPOSE AND NONINFRINGEMENT. IN NO EVENT SHALL THE AUTHORS OR COPYRIGHT HOLDERS BE LIABLE FOR ANY CLAIM, DAMAGES OR OTHER LIABILITY, WHETHER IN AN ACTION OF CONTRACT, TORT OR OTHERWISE, ARISING FROM, OUT OF OR IN CONNECTION WITH THE SOFTWARE OR THE USE OR OTHER DEALINGS IN THE SOFTWARE."
   ]
  }
 ],
 "metadata": {
  "anaconda-cloud": {},
  "kernelspec": {
   "display_name": "cnn",
   "language": "python",
   "name": "cnn"
  },
  "language_info": {
   "codemirror_mode": {
    "name": "ipython",
    "version": 3
   },
   "file_extension": ".py",
   "mimetype": "text/x-python",
   "name": "python",
   "nbconvert_exporter": "python",
   "pygments_lexer": "ipython3",
   "version": "3.7.0"
  }
 },
 "nbformat": 4,
 "nbformat_minor": 1
}
